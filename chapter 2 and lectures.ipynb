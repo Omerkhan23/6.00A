{
 "cells": [
  {
   "cell_type": "markdown",
   "metadata": {},
   "source": [
    "    Recitation  2\n",
    "    "
   ]
  },
  {
   "cell_type": "code",
   "execution_count": 2,
   "metadata": {},
   "outputs": [
    {
     "name": "stdout",
     "output_type": "stream",
     "text": [
      "0\n",
      "0\n",
      "1\n",
      "0\n"
     ]
    }
   ],
   "source": [
    "for i in range(2):\n",
    "    print(i)\n",
    "    i = 0\n",
    "    print(i)\n",
    "    "
   ]
  },
  {
   "cell_type": "code",
   "execution_count": 1,
   "metadata": {},
   "outputs": [
    {
     "name": "stdout",
     "output_type": "stream",
     "text": [
      "True\n"
     ]
    }
   ],
   "source": [
    "my_string = \"This is my string\"  # example string - modify to test\n",
    "\n",
    "# Insert code below\n",
    "if len(my_string) > 10 or len(my_string) < 5:\n",
    "    print(\"True\")\n",
    "else:\n",
    "    print(\"False\")\n"
   ]
  },
  {
   "cell_type": "code",
   "execution_count": 9,
   "metadata": {},
   "outputs": [
    {
     "name": "stdout",
     "output_type": "stream",
     "text": [
      "We want to remove the nth character from this string\n",
      "We wantto remove the nth character from this string\n"
     ]
    }
   ],
   "source": [
    "test_string = \"We want to remove the nth character from this string\"# nth character i:e at index = n-1\n",
    "n = 8\n",
    "\n",
    "test_string_2 = test_string[:n-1]+test_string[n:]\n",
    "print(test_string)\n",
    "print(test_string_2)\n"
   ]
  },
  {
   "cell_type": "code",
   "execution_count": 8,
   "metadata": {},
   "outputs": [
    {
     "name": "stdout",
     "output_type": "stream",
     "text": [
      "5\n"
     ]
    }
   ],
   "source": [
    "my_string = \"How many times is the letter e in this string?\"\n",
    "number_of_e = my_string.count(\"e\")\n",
    "print(number_of_e)\n"
   ]
  },
  {
   "cell_type": "code",
   "execution_count": 15,
   "metadata": {},
   "outputs": [
    {
     "name": "stdout",
     "output_type": "stream",
     "text": [
      "5\n"
     ]
    }
   ],
   "source": [
    "my_string = \"How many times is the letter e in this string?\"\n",
    "count = 0\n",
    "for i in my_string:\n",
    "     if i == \"e\":\n",
    "         count+=1  \n",
    "    \n",
    "print(count)  \n",
    "\n"
   ]
  },
  {
   "cell_type": "code",
   "execution_count": 2,
   "metadata": {},
   "outputs": [
    {
     "name": "stdout",
     "output_type": "stream",
     "text": [
      "-4*-4 = 16\n"
     ]
    }
   ],
   "source": [
    "x = -4 \n",
    "ans = 0\n",
    "num_iteration = 0\n",
    "while num_iteration < abs(x):   #abs returns absolute value so abs(-4) == 4\n",
    "    \n",
    "    ans += abs(x)\n",
    "    num_iteration += 1\n",
    "print(f\"{x}*{x} = {ans}\")\n"
   ]
  },
  {
   "cell_type": "markdown",
   "metadata": {},
   "source": [
    "**Finger exercise: Replace the comment in the following code with a\n",
    "while loop.**\n",
    "```python\n",
    "num_x = int(input('How many times should I print the letter\n",
    "X? '))\n",
    "to_print = ''\n",
    "#concatenate X to to_print num_x times\n",
    "print(to_print)\n",
    "```\n"
   ]
  },
  {
   "cell_type": "code",
   "execution_count": 14,
   "metadata": {},
   "outputs": [
    {
     "name": "stdout",
     "output_type": "stream",
     "text": [
      "yyyyyy\n"
     ]
    }
   ],
   "source": [
    "\n",
    "num_x = int(input('How many times should I print the letter y? '))\n",
    "to_print = ''\n",
    "\n",
    "while len(to_print) < num_x:\n",
    "    to_print += 'y'\n",
    " \n",
    "print(to_print)\n",
    "\n",
    "\n"
   ]
  },
  {
   "cell_type": "code",
   "execution_count": 8,
   "metadata": {},
   "outputs": [
    {
     "name": "stdout",
     "output_type": "stream",
     "text": [
      "132 is divisible by both 11 and 12\n"
     ]
    }
   ],
   "source": [
    "#Find a positive integer that is divisible by both 11 and 12\n",
    "x = 1\n",
    "while True:\n",
    "    if x % 11 == 0 and x % 12 == 0:\n",
    "        break\n",
    "    x = x+1\n",
    "print(x,\"is divisible by both 11 and 12\")     \n",
    "    "
   ]
  },
  {
   "cell_type": "markdown",
   "metadata": {},
   "source": [
    "Finger exercise: Write a program that asks the user to input 10\n",
    "integers, and then prints the largest odd number that was entered. If\n",
    "no odd number was entered, it should print a message to that effect.\n",
    "\n"
   ]
  },
  {
   "cell_type": "code",
   "execution_count": 7,
   "metadata": {},
   "outputs": [
    {
     "name": "stdout",
     "output_type": "stream",
     "text": [
      "9\n"
     ]
    }
   ],
   "source": [
    "a = int(input(\"Enter the number: \"))\n",
    "b = int(input(\"Enter the number: \"))\n",
    "c = int(input(\"Enter the number: \"))\n",
    "d = int(input(\"Enter the number: \"))\n",
    "e = int(input(\"Enter the number: \"))\n",
    "f = int(input(\"Enter the number: \"))\n",
    "g = int(input(\"Enter the number: \"))\n",
    "h = int(input(\"Enter the number: \"))\n",
    "i = int(input(\"Enter the number: \"))\n",
    "j = int(input(\"Enter the number: \"))\n",
    "\n",
    "answer = 0\n",
    "if a % 2 != 0 :\n",
    "    answer = a\n",
    "\n",
    "if b % 2 != 0 and b > answer :\n",
    "    answer = b  \n",
    "if c % 2 !=0 and  c > answer :\n",
    "    answer = c\n",
    "if d % 2 != 0 and d > answer :\n",
    "    answer = d\n",
    "if e % 2 != 0 and e > answer :\n",
    "    answer = e\n",
    "if f % 2 != 0 and f > answer :\n",
    "    answer = f\n",
    "if g % 2 != 0 and g > answer :\n",
    "    answer = g\n",
    "if h % 2 != 0 and h > answer :\n",
    "    answer = h\n",
    "if i % 2 != 0 and i > answer :\n",
    "    answer = i\n",
    "if j % 2 != 0 and j > answer :\n",
    "    answer = j\n",
    "if answer == 0:\n",
    "    print(\"NO ODD number is Entered\")\n",
    "else:\n",
    "    print(answer)\n",
    "\n",
    "\n",
    "\n",
    "                 "
   ]
  },
  {
   "cell_type": "code",
   "execution_count": 47,
   "metadata": {},
   "outputs": [
    {
     "name": "stdout",
     "output_type": "stream",
     "text": [
      "3*3 = 9\n"
     ]
    }
   ],
   "source": [
    "# with While loop\n",
    "x = 3\n",
    "ans = 0\n",
    "num_iterators = 0\n",
    "while num_iterators < abs(x):\n",
    "    ans += abs(x)\n",
    "    num_iterators += 1\n",
    "print(f\"{x}*{x} = 9\")   "
   ]
  },
  {
   "cell_type": "code",
   "execution_count": 44,
   "metadata": {},
   "outputs": [
    {
     "name": "stdout",
     "output_type": "stream",
     "text": [
      "3*3 = 9\n"
     ]
    }
   ],
   "source": [
    " # with For Loop\n",
    "x = 3\n",
    "ans = 0\n",
    "for num_iterators in range(abs(x)):\n",
    "    ans += abs(x)\n",
    "print(f\"{x}*{x} = {ans}\")\n"
   ]
  },
  {
   "cell_type": "code",
   "execution_count": 49,
   "metadata": {},
   "outputs": [
    {
     "name": "stdout",
     "output_type": "stream",
     "text": [
      "0\n",
      "0\n",
      "1\n",
      "0\n"
     ]
    }
   ],
   "source": [
    "x = 2 # For Loop\n",
    "for i in range(x):\n",
    "    print(i)\n",
    "    i = 0\n",
    "    print(i)\n",
    "    \n"
   ]
  },
  {
   "cell_type": "code",
   "execution_count": 55,
   "metadata": {},
   "outputs": [
    {
     "name": "stdout",
     "output_type": "stream",
     "text": [
      "0\n",
      "0\n",
      "1\n",
      "0\n"
     ]
    }
   ],
   "source": [
    "# While Loop\n",
    "index = 0\n",
    "last_index = 1\n",
    "while index <= last_index:\n",
    "    i = index\n",
    "    print(i)\n",
    "    i = 0\n",
    "    print(i)\n",
    "    index += 1\n"
   ]
  },
  {
   "cell_type": "code",
   "execution_count": 69,
   "metadata": {},
   "outputs": [
    {
     "name": "stdout",
     "output_type": "stream",
     "text": [
      "0\n",
      "1\n",
      "2\n"
     ]
    }
   ],
   "source": [
    "x = 3\n",
    "for i in range(x):\n",
    " print(i)\n",
    " x = 4\n",
    "# Print? Just 0, because the arguments to the range function in theline with for are evaluated just before the first iteration of the loop,and not reevaluated for subsequent iterations.\n",
    "#(prints according to given range and if altered the value of x in a loop the range fnction does not change)\n"
   ]
  },
  {
   "cell_type": "code",
   "execution_count": 87,
   "metadata": {},
   "outputs": [
    {
     "name": "stdout",
     "output_type": "stream",
     "text": [
      "0\n",
      "0\n",
      "1\n",
      "2\n",
      "3\n",
      "1\n",
      "0\n",
      "1\n",
      "2\n",
      "0\n",
      "1\n",
      "3\n",
      "0\n",
      "1\n"
     ]
    }
   ],
   "source": [
    "x = 4\n",
    "for j in range(x):\n",
    " print(j)\n",
    " for i in range(x):\n",
    "  print(i)\n",
    "  x = 2\n"
   ]
  },
  {
   "cell_type": "code",
   "execution_count": 88,
   "metadata": {},
   "outputs": [
    {
     "name": "stdout",
     "output_type": "stream",
     "text": [
      "outer loop\n",
      "    inner loop\n",
      "    inner loop\n",
      "    inner loop\n",
      "    inner loop\n",
      "outer loop\n",
      "    inner loop\n",
      "    inner loop\n",
      "outer loop\n",
      "    inner loop\n",
      "    inner loop\n",
      "outer loop\n",
      "    inner loop\n",
      "    inner loop\n"
     ]
    }
   ],
   "source": [
    "x = 4   # MIT book page 60\n",
    "for i in range(x):\n",
    "    print(\"outer loop\")\n",
    "    for j in range(x):\n",
    "            print(\"    inner loop\")\n",
    "            x = 2\n",
    "# for loop  range function ki value aik bar leta hai or loop ko pura krta hai isliye outerloop 4(or jo bhi x ki value hai ) \n",
    "#run krega or inner loop bhi phle mrtaba 4 bar hi run krega mgr jb hm x ki value change krte hain tou inner loop bhi change hota hai kyunke jb \n",
    "#outr loop run krega inner ki x ki value change ho gi\n"
   ]
  },
  {
   "cell_type": "code",
   "execution_count": 89,
   "metadata": {},
   "outputs": [
    {
     "name": "stdout",
     "output_type": "stream",
     "text": [
      "36\n"
     ]
    }
   ],
   "source": [
    "total = 0\n",
    "for c in '12345678':\n",
    " total = total + int(c)\n",
    "print(total)\n",
    "\n",
    "\n"
   ]
  },
  {
   "cell_type": "code",
   "execution_count": 92,
   "metadata": {},
   "outputs": [
    {
     "name": "stdout",
     "output_type": "stream",
     "text": [
      "36\n"
     ]
    }
   ],
   "source": [
    "total = 0\n",
    "for c in '12345678':\n",
    "    total += int(c)\n",
    "print(total)"
   ]
  },
  {
   "cell_type": "markdown",
   "metadata": {},
   "source": [
    "Finger exercise: Write a program that prints the sum of the prime\n",
    "numbers greater than 2 and less than 1000. Hint: you probably want\n",
    "to use a for loop that is a primality test nested inside a for loop that\n",
    "iterates over the odd integers between 3 and 999.\n"
   ]
  },
  {
   "cell_type": "code",
   "execution_count": 173,
   "metadata": {},
   "outputs": [
    {
     "name": "stdout",
     "output_type": "stream",
     "text": [
      " the sum of Prime numbers greater than 2 and less than 1000 is: 76127\n"
     ]
    }
   ],
   "source": [
    "prime_sum = 2 # 2 is the only prime number so add it in the sum\n",
    "for num in range(3,1000,2):# skip over 2 steps to only check odd numbers as 2 is the only prime number to get the correct answer\n",
    "    is_prime = True\n",
    "    for i in range(3,int(num**0.5)+1,2):\n",
    "        if num%i == 0:\n",
    "            is_prime = False\n",
    "            break\n",
    "    \n",
    "    if is_prime:\n",
    "        prime_sum += num\n",
    "print(f\" the sum of Prime numbers greater than 2 and less than 1000 is: {prime_sum}\")            "
   ]
  },
  {
   "cell_type": "code",
   "execution_count": 180,
   "metadata": {},
   "outputs": [
    {
     "name": "stdout",
     "output_type": "stream",
     "text": [
      "the sum of prime numbers between 2 and 1000 is: 76127\n"
     ]
    }
   ],
   "source": [
    "#Another way\n",
    "prime_sum = 0\n",
    "for num in range(2,1000):\n",
    "    is_prime = True\n",
    "    if num == 2 :   # As 2 is the specail case handle it seperately\n",
    "        prime_sum += num\n",
    "        continue\n",
    "    if num % 2 == 0 : # skip all other even numbers as they are not prime\n",
    "        continue\n",
    "    for i in range(3 , int(num**0.5)+1, 2) :    #For each odd number, the program performs a primality test. To check if the number is prime, the program tests whether it is divisible by any odd numbers between 3 and the square root of the number (int(num ** 0.5) + 1).\n",
    "                                                #If the number is divisible by any of these smaller numbers, it is not prime, and the program breaks out of the inner loop.\n",
    "        if num % i == 0:\n",
    "            is_prime = False\n",
    "            break                                        #If the number is not divisible by any of those smaller numbers, it is considered prime.   \n",
    "       \n",
    "    if is_prime:\n",
    "        prime_sum += num\n",
    "print(f'the sum of prime numbers between 2 and 1000 is: {prime_sum}')                \n",
    "     "
   ]
  },
  {
   "cell_type": "code",
   "execution_count": 214,
   "metadata": {},
   "outputs": [
    {
     "name": "stdout",
     "output_type": "stream",
     "text": [
      "3\n"
     ]
    }
   ],
   "source": [
    "x = int(input(\"Enter the start of range: \"))\n",
    "y = int(input(\"Enter the stop of range: \"))\n",
    "z = int(input(\"Enter the step of range: \"))\n",
    "even_numbers = 0\n",
    "for num in range(x,y,z):\n",
    "    if num % 2 == 0:\n",
    "        even_numbers += 1\n",
    "        \n",
    "print(even_numbers)     "
   ]
  },
  {
   "cell_type": "code",
   "execution_count": 216,
   "metadata": {},
   "outputs": [
    {
     "name": "stdout",
     "output_type": "stream",
     "text": [
      "there is K and a in the I am KING khan\n",
      "there is K and a in the I am KING khan\n",
      "there is K and a in the I am KING khan\n"
     ]
    }
   ],
   "source": [
    "letters = \"I am KING khan\"\n",
    "for char in letters:\n",
    "    if char in \"Ka\":\n",
    "        print(f\"there is K and a in the {letters}\")\n"
   ]
  },
  {
   "cell_type": "code",
   "execution_count": 219,
   "metadata": {},
   "outputs": [
    {
     "name": "stdout",
     "output_type": "stream",
     "text": [
      "Give me a K : K\n",
      "Give me an H : H\n",
      "Give me an A : A\n",
      "Give me an N : N\n",
      "What does that spell !!!\n",
      "KHAN !!!\n",
      "KHAN !!!\n",
      "KHAN !!!\n"
     ]
    }
   ],
   "source": [
    "\n",
    "# Robot Cheerleading\n",
    "an_letters = \"aefhilmnorsxAEFHILMNORSX\"   # To check for letters with an prefix    \n",
    "word = input(\"I wil cheer for you! Enter the word: \")\n",
    "times = int(input(\"Enthusiasm Level(1 to 10): \"))\n",
    "for w in word:\n",
    "    if w in an_letters:\n",
    "        print(f\"Give me an {w} : {w}\")\n",
    "    else:\n",
    "        print(f\"Give me a {w} : {w}\")\n",
    "print(\"What does that spell !!!\")        \n",
    "for i in range(times):\n",
    "    print(word,\"!!!\")\n"
   ]
  },
  {
   "cell_type": "code",
   "execution_count": null,
   "metadata": {},
   "outputs": [],
   "source": []
  },
  {
   "cell_type": "code",
   "execution_count": 24,
   "metadata": {},
   "outputs": [
    {
     "name": "stdout",
     "output_type": "stream",
     "text": [
      "6\n"
     ]
    }
   ],
   "source": [
    "# Assume you are given a string of lower case letters ,Compute how many unique letters are in the string. i:e if s = \"abca\" ,your answer should be 3\n",
    "\n",
    "s = \"kingkhan\"\n",
    "seen = \"\"\n",
    "uni_letters = 0\n",
    "for letters in s:\n",
    "    \n",
    "    if letters not in seen:\n",
    "        seen += letters\n",
    "        uni_letters += 1\n",
    "print(uni_letters)        \n",
    "           \n"
   ]
  },
  {
   "cell_type": "markdown",
   "metadata": {},
   "source": [
    "Guess and Check Square with while Loop"
   ]
  },
  {
   "cell_type": "code",
   "execution_count": 44,
   "metadata": {},
   "outputs": [
    {
     "name": "stdout",
     "output_type": "stream",
     "text": [
      "16 is a perfect square of 4 \n"
     ]
    }
   ],
   "source": [
    "guess = 0\n",
    "neg_flag = False # to keep in check for negative integer,because negative integers do not have square root\n",
    "x = int(input(\"Enter a positive integer: \"))\n",
    "\n",
    "if x < 0:\n",
    "       neg_flag = True\n",
    "while guess**2 < x:\n",
    "    guess += 1\n",
    "\n",
    "if guess**2 == x :\n",
    "        print(f\"{x} is a perfect square of {guess} \")\n",
    "else:\n",
    "     print(x,\"does not have perfect square\")\n",
    "     if neg_flag:\n",
    "           print(\"Just checking.....Do you mean\",-x,\"?\") \n",
    "        "
   ]
  },
  {
   "cell_type": "markdown",
   "metadata": {},
   "source": [
    "Guess and Check Cube root with for loop"
   ]
  },
  {
   "cell_type": "code",
   "execution_count": 1,
   "metadata": {},
   "outputs": [
    {
     "name": "stdout",
     "output_type": "stream",
     "text": [
      "2 is the cube root of 8\n"
     ]
    }
   ],
   "source": [
    "x = int(input(\"Enter an integer: \"))\n",
    "for guess in range(abs(x)):\n",
    "    if guess**3 == abs(x):\n",
    "        if x < 0 :\n",
    "            guess = -guess\n",
    "        print(guess,\"is the cube root of\",x)    \n",
    "#This code does not give anything if perfect cube is not enetered\n",
    "        "
   ]
  },
  {
   "cell_type": "code",
   "execution_count": 13,
   "metadata": {},
   "outputs": [
    {
     "name": "stdout",
     "output_type": "stream",
     "text": [
      "4 does not have a perfect cube root\n"
     ]
    }
   ],
   "source": [
    "# Better version\n",
    "x = int(input(\"Enter a positive integer: \"))\n",
    "for guess in range(abs(x)):\n",
    "    if guess**3 >= abs(x):\n",
    "        break\n",
    "\n",
    "if guess**3 != abs(x):\n",
    "    print(x,\"does not have a perfect cube root\")\n",
    "else:\n",
    "    if x < 0:\n",
    "        guess = -guess\n",
    "    print(guess,\"is the perfect cube root of\",x)\n"
   ]
  },
  {
   "cell_type": "code",
   "execution_count": 37,
   "metadata": {},
   "outputs": [
    {
     "name": "stdout",
     "output_type": "stream",
     "text": [
      "2 is the cube root of 8\n"
     ]
    }
   ],
   "source": [
    "# Find the cube root of perfect cube\n",
    "x = int(input(\"Enter the number: \"))\n",
    "ans = 0\n",
    "while ans**3 < abs(x):\n",
    "    ans += 1\n",
    "if ans**3 != abs(x):\n",
    "    print(x,\"does not have a perfect cube root\")\n",
    "else:\n",
    "    if x < 0:\n",
    "        ans = -ans #negative integers does have a cube root\n",
    "    print(f\"{ans} is the cube root of {x}\")        "
   ]
  },
  {
   "cell_type": "code",
   "execution_count": 70,
   "metadata": {},
   "outputs": [
    {
     "name": "stdout",
     "output_type": "stream",
     "text": [
      "found the number\n"
     ]
    }
   ],
   "source": [
    "#finding a secret number\n",
    "found = False\n",
    "sec_num = int(input(\"Enter a secret number: \"))\n",
    "\n",
    "for num in range(1,11):\n",
    "    if num == sec_num :\n",
    "        \n",
    "        found = True\n",
    "\n",
    "if found:                            \n",
    "    print(\"found the number\")\n",
    "else:\n",
    "    print(\"Not found the number \")           \n",
    "  \n",
    "        \n",
    "        \n",
    "        "
   ]
  },
  {
   "cell_type": "markdown",
   "metadata": {},
   "source": [
    "Converting Decimal to Binary"
   ]
  },
  {
   "cell_type": "code",
   "execution_count": 17,
   "metadata": {},
   "outputs": [
    {
     "name": "stdout",
     "output_type": "stream",
     "text": [
      "11000111101\n"
     ]
    }
   ],
   "source": [
    "num = int(input(\"Enter a number you want a binary of : \"))\n",
    "result = ''\n",
    "if num == 0:\n",
    "    result = '0'\n",
    "while num > 0:\n",
    "    result += str(num%2)\n",
    "    num = num//2\n",
    "print(result)        "
   ]
  },
  {
   "cell_type": "code",
   "execution_count": 4,
   "metadata": {},
   "outputs": [
    {
     "name": "stdout",
     "output_type": "stream",
     "text": [
      "11\n"
     ]
    }
   ],
   "source": [
    "#To handle negative numbers\n",
    "num = int(input(\"Enter a number you want a binary of : \"))\n",
    "result = ''\n",
    "if num < 0:\n",
    "    is_neg = True\n",
    "    num = abs(num)\n",
    "else:\n",
    "    is_neg = False\n",
    "if num == 0:\n",
    "    result = '0'\n",
    "while num > 0:\n",
    "    result += str(num%2)\n",
    "    num = num//2\n",
    "if is_neg:\n",
    "    result = \"-\" + result\n",
    "print(result)                \n",
    "\n"
   ]
  },
  {
   "cell_type": "code",
   "execution_count": 28,
   "metadata": {},
   "outputs": [
    {
     "name": "stdout",
     "output_type": "stream",
     "text": [
      "55\n"
     ]
    }
   ],
   "source": [
    "# sum of number from 1 to N using For loop\n",
    "N = int(input(\"Enter the number: \"))\n",
    "sum = 0\n",
    "\n",
    "for i in range(1,N+1):\n",
    "   \n",
    "    sum += i\n",
    "print(sum)        \n"
   ]
  },
  {
   "cell_type": "code",
   "execution_count": 32,
   "metadata": {},
   "outputs": [
    {
     "name": "stdout",
     "output_type": "stream",
     "text": [
      "55\n"
     ]
    }
   ],
   "source": [
    "# Using while loop\n",
    "N = int(input(\"Enter the number: \"))\n",
    "sum = 0\n",
    "count = 0\n",
    "while count <= N:\n",
    "    sum += count\n",
    "    count += 1\n",
    "print(sum)    "
   ]
  },
  {
   "cell_type": "markdown",
   "metadata": {},
   "source": [
    "solving algebric problems lec# 4 time :  1:03:00"
   ]
  },
  {
   "cell_type": "code",
   "execution_count": 50,
   "metadata": {},
   "outputs": [
    {
     "name": "stdout",
     "output_type": "stream",
     "text": [
      "255 tickets were sold by alyssa \n",
      "235 tickets were sold by ben\n",
      "510 tickets were sold by cindy\n"
     ]
    }
   ],
   "source": [
    "for alyssa in range(1001):\n",
    "    ben = alyssa - 20\n",
    "    cindy = 2*alyssa\n",
    "    total = alyssa+ben+cindy\n",
    "    if total == 1000:\n",
    "        print(f\"{alyssa} tickets were sold by alyssa \")\n",
    "        print(f\"{ben} tickets were sold by ben\")\n",
    "        print(f\"{cindy} tickets were sold by cindy\")"
   ]
  },
  {
   "cell_type": "code",
   "execution_count": 30,
   "metadata": {},
   "outputs": [
    {
     "name": "stdout",
     "output_type": "stream",
     "text": [
      "6402373705728000 is the factorial of 18\n"
     ]
    }
   ],
   "source": [
    "# Factorial of a number N\n",
    "n = int(input(\"Enter a number: \"))\n",
    "\n",
    "count = 1\n",
    "factorial = count *n\n",
    "while count < n-1: # kyunki phle multiplication uper wali line mn hogayi is liye agr aik minus nai krein ge tou wou aik multiplication extra krde ga\n",
    "    \n",
    "    count += 1\n",
    "    \n",
    "    factorial = factorial * count\n",
    "print(factorial,\"is the factorial of\",n)    "
   ]
  },
  {
   "cell_type": "code",
   "execution_count": 1,
   "metadata": {},
   "outputs": [
    {
     "name": "stdout",
     "output_type": "stream",
     "text": [
      "6 is the largest of the given numbers\n"
     ]
    }
   ],
   "source": [
    "# Max of 2 numbers\n",
    "a = int(input(\"Enter the 1st number: \"))\n",
    "b = int(input(\"Enter the 2nd number: \"))\n",
    "if a > b:\n",
    "    print(a,\"is the largest of the given numbers\")\n",
    "else:\n",
    "    print(b,\"is the largest of the given numbers\")    "
   ]
  },
  {
   "cell_type": "code",
   "execution_count": 23,
   "metadata": {},
   "outputs": [
    {
     "name": "stdout",
     "output_type": "stream",
     "text": [
      "-2\n"
     ]
    }
   ],
   "source": [
    "#Assume you are given a positive integer variable named N. Write a piece of Python code that finds the cube root of N.\n",
    "#  The code prints the cube root if N is a perfect cube or it prints error if N is not a perfect cube.\n",
    "#  Hint: use a loop that increments a counter—you decide when the counter should stop\n",
    "\n",
    "N = int(input(\"Enter a positive integer: \"))\n",
    "is_cuberoot = False\n",
    "\n",
    "for guess in range(abs(N)):\n",
    "    if guess**3 > abs(N):\n",
    "        break\n",
    "    if guess**3 == abs(N):\n",
    "        is_cuberoot = True\n",
    "        break\n",
    "      \n",
    "if is_cuberoot:\n",
    "    if N < 0:\n",
    "        guess = -guess\n",
    "    print(guess)\n",
    "else:\n",
    "    \n",
    "    print(\"error\")        \n",
    "       "
   ]
  },
  {
   "cell_type": "code",
   "execution_count": 36,
   "metadata": {},
   "outputs": [
    {
     "name": "stdout",
     "output_type": "stream",
     "text": [
      "-4\n"
     ]
    }
   ],
   "source": [
    "# using While loop\n",
    "N = int(input(\"Enter a number: \"))\n",
    "i = 1\n",
    "while i**3< abs(N):\n",
    "    i += 1\n",
    "if i**3 != abs(N):\n",
    "    print(\"error\")\n",
    "else:\n",
    "    if N < 0:\n",
    "        i = -i\n",
    "    print(i)    \n",
    "        "
   ]
  },
  {
   "cell_type": "code",
   "execution_count": 28,
   "metadata": {},
   "outputs": [
    {
     "name": "stdout",
     "output_type": "stream",
     "text": [
      "31.25\n",
      "Remainder = 0.25\n",
      "Remainder = 0.5\n",
      "The binary representation of 31.25 is 11111.01\n"
     ]
    }
   ],
   "source": [
    "# Finding Binary of the numbers written in decimal and decimal point numbers\n",
    "x = float(input(\"Enter an real numeber you want the binary of: \"))\n",
    "print(x)\n",
    "if x < 0:\n",
    "    is_neg = True\n",
    "    x = abs(x)\n",
    "else:\n",
    "    is_neg = False\n",
    "\n",
    "\n",
    "\n",
    "p = 0\n",
    "while ((2**p)*x) % 1 != 0:   # if number is decimal point ,finding the whole number by multiplying x by 2**p   \n",
    "    print(f\"Remainder = {str((2**p)*x - int((2**p)*x))}\")\n",
    "    p += 1\n",
    "num = int((2**p)*x)\n",
    "\n",
    "\n",
    "\n",
    "result = ''\n",
    "if num == 0:\n",
    "    result = '0'\n",
    "while num > 0:\n",
    "    result = str(num%2) + result\n",
    "    num = num//2\n",
    "\n",
    "\n",
    "if x%1 != 0: # add '.' only when x is number with a point\n",
    "    for i in range(p - len(result)):\n",
    "        result += '0'\n",
    "    result = result[0:-p] + '.' + result[-p:]\n",
    "\n",
    "\n",
    "\n",
    "\n",
    "if is_neg:\n",
    "    result = '-' + result  \n",
    "    x = -x\n",
    "\n",
    "\n",
    "\n",
    "print(f\"The binary representation of {x} is {result}\")\n",
    "\n"
   ]
  },
  {
   "cell_type": "code",
   "execution_count": 4,
   "metadata": {},
   "outputs": [
    {
     "name": "stdout",
     "output_type": "stream",
     "text": [
      "number of guesses = 23306864\n",
      "233.06864006277965 is the approximate square root of 54321\n"
     ]
    }
   ],
   "source": [
    "# finding square root using approximation guess and check Lecture # 5\n",
    "x = int(input(\"Enter a number: \"))\n",
    "epsilon = 0.01\n",
    "guess = 0.0\n",
    "increment = 0.00001\n",
    "num_guesses = 0\n",
    "\n",
    "while abs(guess**2 - x) >= epsilon and guess**2 <= x:\n",
    "\n",
    "    guess += increment\n",
    "    num_guesses += 1\n",
    "print(f\"number of guesses = {num_guesses}\")    \n",
    "if abs(guess**2-x) >= epsilon: # if program over shot i;e it passes the epsilon range without touching it \n",
    "    #we can correct this by decrement the increment but it would make our program 10X slower\n",
    "\n",
    "    \n",
    "    print(f\"Failed on squaren root of {x}\")\n",
    "    print(f\"The last guess was {guess}\")\n",
    "    print(f\"The last guess squared was {guess**2}\")\n",
    "else:        \n",
    "    \n",
    "    print(f\"{guess} is the approximate square root of {x}\")\n",
    "\n"
   ]
  },
  {
   "cell_type": "code",
   "execution_count": null,
   "metadata": {},
   "outputs": [],
   "source": []
  }
 ],
 "metadata": {
  "kernelspec": {
   "display_name": "python_eda",
   "language": "python",
   "name": "python3"
  },
  "language_info": {
   "codemirror_mode": {
    "name": "ipython",
    "version": 3
   },
   "file_extension": ".py",
   "mimetype": "text/x-python",
   "name": "python",
   "nbconvert_exporter": "python",
   "pygments_lexer": "ipython3",
   "version": "3.11.0"
  }
 },
 "nbformat": 4,
 "nbformat_minor": 2
}
