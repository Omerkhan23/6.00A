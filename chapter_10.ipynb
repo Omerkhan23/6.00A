{
 "cells": [
  {
   "cell_type": "code",
   "execution_count": 96,
   "metadata": {},
   "outputs": [
    {
     "name": "stdout",
     "output_type": "stream",
     "text": [
      "Checking: 1\n",
      "Comparing 1 with 7\n",
      "Checking: [2, 4]\n",
      "Recursive call on [2, 4]\n",
      "Checking: 2\n",
      "Comparing 2 with 7\n",
      "Checking: 4\n",
      "Comparing 4 with 7\n",
      "Checking: [[[6, 7]]]\n",
      "Recursive call on [[[6, 7]]]\n",
      "Checking: [[6, 7]]\n",
      "Recursive call on [[6, 7]]\n",
      "Checking: [6, 7]\n",
      "Recursive call on [6, 7]\n",
      "Checking: 6\n",
      "Comparing 6 with 7\n",
      "Checking: 7\n",
      "Comparing 7 with 7\n",
      "True\n"
     ]
    }
   ],
   "source": [
    "def in_list_lists(L, e):\n",
    "    for i in L:\n",
    "        print(f\"Checking: {i}\")  # Debug print\n",
    "        if type(i) == list:\n",
    "            print(f\"Recursive call on {i}\")  # Debug print\n",
    "            if in_list_lists(i, e):\n",
    "                return True\n",
    "        else:\n",
    "            print(f\"Comparing {i} with {e}\")  # Debug print\n",
    "            if i == e:\n",
    "                return True\n",
    "    return False\n",
    "\n",
    "L = [1, [2, 4], [[[6,7]]]]\n",
    "print(in_list_lists(L, 7))"
   ]
  },
  {
   "cell_type": "code",
   "execution_count": 97,
   "metadata": {},
   "outputs": [
    {
     "name": "stdout",
     "output_type": "stream",
     "text": [
      "5.0\n",
      "c's x is 3 and origin's x is 0\n"
     ]
    }
   ],
   "source": [
    "class Coordinate(object):\n",
    "    def __init__(self,xval,yval):\n",
    "        self.x = xval\n",
    "        self.y = yval\n",
    "    def distance(self,other):\n",
    "        x_dist_sq = (self.x - other.x)**2\n",
    "        y_dist_sq = (self.y - other.y)**2\n",
    "        return (x_dist_sq + y_dist_sq)**0.5\n",
    "    def to_origin(self):\n",
    "        self.x = 0\n",
    "        self.y = 0\n",
    "    def __add__(self,other):\n",
    "        return Coordinate(self.x + other.x , self.y + other.y)   \n",
    "    def __str__(self):\n",
    "        return f\"<{self.x},{self.y}>\"\n",
    "    \n",
    "c = Coordinate(3,4)\n",
    "O = Coordinate(0,0)\n",
    "print(c.distance(O))\n",
    "\n",
    "print(f\"c's x is {c.x} and origin's x is {O.x}\")\n",
    "\n",
    "\n"
   ]
  },
  {
   "cell_type": "code",
   "execution_count": 98,
   "metadata": {},
   "outputs": [
    {
     "name": "stdout",
     "output_type": "stream",
     "text": [
      "0 0\n"
     ]
    }
   ],
   "source": [
    "c.to_origin()\n",
    "print(c.x,c.y)"
   ]
  },
  {
   "cell_type": "code",
   "execution_count": 99,
   "metadata": {},
   "outputs": [
    {
     "name": "stdout",
     "output_type": "stream",
     "text": [
      "<0,0>\n"
     ]
    }
   ],
   "source": [
    "print(c)"
   ]
  },
  {
   "cell_type": "code",
   "execution_count": 100,
   "metadata": {},
   "outputs": [],
   "source": [
    "class Circle():\n",
    "    def __init__(self,radius):\n",
    "        self.r = radius\n",
    "    def get_radius(self):\n",
    "        return self.r\n",
    "    def set_radius(self,radius):\n",
    "        self.r = radius\n",
    "    def get_area(self):\n",
    "        area = 3.14 * (self.r)**2\n",
    "        return area\n",
    "    def equal(self,other):\n",
    "        if self.r == other.r:\n",
    "            return True\n",
    "        return False\n",
    "    def bigger(self,other):\n",
    "        if self.r > other.r:\n",
    "            return self\n",
    "        elif self.r < other.r:\n",
    "            return other\n",
    "    def __str__(self):\n",
    "        return f\"Circle with radius {self.get_radius()} and area of {self.get_area():.2f}\" # __str__ function is used to print the more user freindly\n",
    "                                                                                           # output and it be explicitly called by str() function     \n",
    "    \n",
    "        \n",
    "            \n",
    "\n"
   ]
  },
  {
   "cell_type": "code",
   "execution_count": 101,
   "metadata": {},
   "outputs": [
    {
     "data": {
      "text/plain": [
       "200.96"
      ]
     },
     "execution_count": 101,
     "metadata": {},
     "output_type": "execute_result"
    }
   ],
   "source": [
    "A = Circle(5)\n",
    "A.set_radius(8)\n",
    "A.r\n",
    "A.get_area()"
   ]
  },
  {
   "cell_type": "code",
   "execution_count": 102,
   "metadata": {},
   "outputs": [
    {
     "name": "stdout",
     "output_type": "stream",
     "text": [
      "False\n",
      "Circle with radius 8 and area of 200.96\n"
     ]
    }
   ],
   "source": [
    "B = Circle(7)\n",
    "print(A.equal(B))\n",
    "print(A.bigger(B))"
   ]
  },
  {
   "cell_type": "code",
   "execution_count": 103,
   "metadata": {},
   "outputs": [],
   "source": [
    "class Circle_1(object):\n",
    "    def __init__(self,centre,radius):\n",
    "        if type(centre) != Coordinate:\n",
    "            raise ValueError\n",
    "        if type(radius) != int:\n",
    "            raise ValueError\n",
    "        self.radius  = radius\n",
    "        self.centre = centre\n",
    "    def is_inside(self,point):\n",
    "        assert type(point) == Coordinate,f\"point should be of type Coordinate\"\n",
    "        return point.distance(self.centre) > self.radius # Returns true if pont is inside the Circle\n",
    "    \n"
   ]
  },
  {
   "cell_type": "code",
   "execution_count": 104,
   "metadata": {},
   "outputs": [
    {
     "data": {
      "text/plain": [
       "False"
      ]
     },
     "execution_count": 104,
     "metadata": {},
     "output_type": "execute_result"
    }
   ],
   "source": [
    "centre = Coordinate(2,2)\n",
    "my_circle = Circle_1(centre,5)\n",
    "p = Coordinate(6,5)\n",
    "my_circle.is_inside(p)\n"
   ]
  },
  {
   "cell_type": "code",
   "execution_count": 105,
   "metadata": {},
   "outputs": [],
   "source": [
    "class SimpleFraction(object):\n",
    "    def __init__(self,n,d):\n",
    "        self.num = n\n",
    "        self.denom = d\n",
    "    def __str__(self):\n",
    "        if self.denom == 1:\n",
    "            return f\"{self.num}\"\n",
    "        else:\n",
    "            return f\"{self.num}/{self.denom}\"  \n",
    "    def plus(self,other):\n",
    "        top  = (self.denom * other.num) + (other.denom * self.num)\n",
    "        bottom = self.denom*other.denom\n",
    "        return top/bottom\n",
    "    def times(self,other):\n",
    "        return (self.num * other.num)/ (self.denom * other.denom )\n",
    "    def inverse(self):# returns reciprocal \n",
    "        return self.denom/self.num \n",
    "    def invert(self): # returns notheing but internally changes the values\n",
    "          num = self.num\n",
    "          denom = self.denom\n",
    "          self.num  = denom\n",
    "          self.denom = num\n",
    "          # other way\n",
    "          # (self.num,self.denom) = (self.denom,self.num)"
   ]
  },
  {
   "cell_type": "code",
   "execution_count": 106,
   "metadata": {},
   "outputs": [
    {
     "name": "stdout",
     "output_type": "stream",
     "text": [
      "3/4\n",
      "5\n",
      "3\n",
      "4\n",
      "0.1875\n",
      "1.0\n"
     ]
    }
   ],
   "source": [
    "f_1 = SimpleFraction(3,4)\n",
    "f_2 = SimpleFraction(1,4)\n",
    "f_3 = SimpleFraction(5,1)\n",
    "print(f_1)\n",
    "print(f_3)\n",
    "print(f_1.num)\n",
    "print(f_2.denom)\n",
    "print(f_1.times(f_2))\n",
    "print(f_1.plus(f_2))\n"
   ]
  },
  {
   "cell_type": "code",
   "execution_count": 107,
   "metadata": {},
   "outputs": [
    {
     "data": {
      "text/plain": [
       "4"
      ]
     },
     "execution_count": 107,
     "metadata": {},
     "output_type": "execute_result"
    }
   ],
   "source": [
    "f_1.invert()\n",
    "f_1.num"
   ]
  },
  {
   "cell_type": "code",
   "execution_count": 108,
   "metadata": {},
   "outputs": [
    {
     "data": {
      "text/plain": [
       "4.0"
      ]
     },
     "execution_count": 108,
     "metadata": {},
     "output_type": "execute_result"
    }
   ],
   "source": [
    "f_2.inverse()"
   ]
  },
  {
   "cell_type": "code",
   "execution_count": 109,
   "metadata": {},
   "outputs": [],
   "source": [
    "class Fraction(object):\n",
    "    def __init__(self,n,d):\n",
    "        self.n = n\n",
    "        self.d = d\n",
    "    def __str__(self):\n",
    "        return f\"{self.n}/{self.d}\"    \n",
    "    def __add__(self,other):\n",
    "        top = self.n * other.d +self.d * other.n \n",
    "        bottom = self.d * other.d\n",
    "        return Fraction(top,bottom)\n",
    "    def __mul__(self,other):\n",
    "        top = self.n * other.n\n",
    "        bottom = self.d * other.d\n",
    "        return Fraction(top,bottom)\n",
    "    def __float__(self):\n",
    "        return self.n/self.d\n",
    "    def reduce(self):\n",
    "        def gcd(n,d):\n",
    "            while d != 0:\n",
    "                (n,d) = (d,n%d)\n",
    "            return n\n",
    "        if self.d == 0:\n",
    "            print('denom is 0')\n",
    "            return None\n",
    "        else:\n",
    "            g_c_d = gcd(self.n,self.d)\n",
    "            top = int(self.n / g_c_d)\n",
    "            bottom = int(self.d / g_c_d)\n",
    "            return Fraction(top,bottom)\n",
    "    def __pow__(self,exp):\n",
    "        base = self # define a variable to remove any inconsisties with original self\n",
    "        if type(exp) == int: # for type(exp) == int\n",
    "            if base.d == 0:\n",
    "                raise ZeroDivisionError('denominator is zero')\n",
    "            if exp < 0:\n",
    "                base = Fraction(self.d,self.n)\n",
    "                exp = -exp\n",
    "            if exp == 0:\n",
    "                return 1\n",
    "            top = base.n**exp\n",
    "            bottom = base.d **exp\n",
    "            return Fraction(top,bottom).reduce()\n",
    "\n",
    "\n",
    "\n",
    "        # for type(exp) == Fraction    \n",
    "        if base.d ==0 or exp.d == 0 :\n",
    "            raise ZeroDivisionError('ONE of the objects has denominator as 0')\n",
    "        if exp.n == 0 :\n",
    "            return Fraction(1,1)\n",
    "        if exp.n < 0 or exp.d < 0:\n",
    "            base = Fraction(self.d,self.n)\n",
    "            if exp.n < 0:\n",
    "                exp = Fraction(-exp.n,exp.d)\n",
    "            if exp.d < 0:\n",
    "                exp = Fraction(exp.n,exp.d)    \n",
    "        top = (base.n ** exp.n)**(1/exp.d)\n",
    "        bottom = (base.d**exp.n)**(1/exp.d) \n",
    "        return Fraction(int(round(top)),int(round(bottom))).reduce()\n",
    "       \n",
    "    \n",
    "\n",
    "        \n",
    "       "
   ]
  },
  {
   "cell_type": "code",
   "execution_count": 110,
   "metadata": {},
   "outputs": [
    {
     "name": "stdout",
     "output_type": "stream",
     "text": [
      "36/5\n",
      "24/60\n",
      "2/5\n"
     ]
    }
   ],
   "source": [
    "a = Fraction(2,12)\n",
    "b = Fraction(12,5)\n",
    "d = Fraction(3,1)\n",
    "f = b*d\n",
    "print(f)\n",
    "c = a*b\n",
    "print(c)\n",
    "print(c.reduce())"
   ]
  },
  {
   "cell_type": "code",
   "execution_count": 111,
   "metadata": {},
   "outputs": [
    {
     "name": "stdout",
     "output_type": "stream",
     "text": [
      "16/81\n"
     ]
    }
   ],
   "source": [
    "g = Fraction(2,3)\n",
    "h = Fraction(64,729)\n",
    "j = h**g\n",
    "print(j)"
   ]
  },
  {
   "cell_type": "code",
   "execution_count": 112,
   "metadata": {},
   "outputs": [
    {
     "name": "stdout",
     "output_type": "stream",
     "text": [
      "9/4\n"
     ]
    }
   ],
   "source": [
    "f2 = Fraction(8, 27)\n",
    "exp = Fraction(-2, 3)\n",
    "print(f2 ** exp)  # Output: 9/4"
   ]
  },
  {
   "cell_type": "code",
   "execution_count": 113,
   "metadata": {},
   "outputs": [
    {
     "name": "stdout",
     "output_type": "stream",
     "text": [
      "64/729\n"
     ]
    }
   ],
   "source": [
    "n = 2\n",
    "print(f2**n)"
   ]
  },
  {
   "cell_type": "code",
   "execution_count": 114,
   "metadata": {},
   "outputs": [
    {
     "name": "stdout",
     "output_type": "stream",
     "text": [
      "0/1\n",
      "1/1\n"
     ]
    }
   ],
   "source": [
    "f = Fraction(0, 1)\n",
    "print(f ** 2)  # Output: 0/1\n",
    "\n",
    "f = Fraction(1, 2)\n",
    "exp = Fraction(0, 1)\n",
    "print(f ** exp)  # Output: 1/1"
   ]
  },
  {
   "cell_type": "code",
   "execution_count": 115,
   "metadata": {},
   "outputs": [],
   "source": [
    "class Circle_2(object):\n",
    "    def __init__(self,radius,centre):\n",
    "        if type(centre) != Coordinate:\n",
    "            raise ValueError('centre should be of type Coordinate')\n",
    "        if type(radius)!= int:\n",
    "            raise ValueError('radius should be an int')\n",
    "        self.centre = centre\n",
    "        self.radius = radius\n",
    "    def get_radius(self):\n",
    "        return self.radius\n",
    "    def get_centre(self):\n",
    "        return self.centre\n",
    "    def __add__(self,other):\n",
    "        assert type(other) == Circle_2,'object should be of type circle'\n",
    "        radius = self.radius + other.radius\n",
    "        centre = self.centre + other.centre\n",
    "        return Circle_2(radius,centre)\n",
    "    def __str__(self):\n",
    "        return f'Circle of radius {self.radius} and centre lies at {self.centre} point'\n",
    "    \n",
    "        "
   ]
  },
  {
   "cell_type": "code",
   "execution_count": 116,
   "metadata": {},
   "outputs": [
    {
     "name": "stdout",
     "output_type": "stream",
     "text": [
      "Circle of radius 13 and centre lies at <8,10> point\n"
     ]
    }
   ],
   "source": [
    "centre1 = Coordinate(3,4)\n",
    "A = Circle_2(5,centre1)\n",
    "centre2 =Coordinate(5,6)\n",
    "B = Circle_2(8,centre2)\n",
    "c = A+B\n",
    "print(c)"
   ]
  },
  {
   "cell_type": "code",
   "execution_count": 117,
   "metadata": {},
   "outputs": [],
   "source": [
    "class Animal(object):\n",
    "    def __init__(self,age):\n",
    "        self.age = age\n",
    "        self.name = None\n",
    "    def __str__(self):\n",
    "        return f\"Animal:{self.name}:{self.age}\"\n",
    "    def get_age(self):\n",
    "        return self.age\n",
    "    def get_name(self):\n",
    "        return self.name\n",
    "    def set_age(self,newage):\n",
    "        self.age = newage\n",
    "    def set_name(self,newname = ''):\n",
    "        self.name = newname\n",
    "\n",
    "\n"
   ]
  },
  {
   "cell_type": "code",
   "execution_count": 118,
   "metadata": {},
   "outputs": [
    {
     "name": "stdout",
     "output_type": "stream",
     "text": [
      "Animal:None:6\n",
      "Animal:fluffy:6\n"
     ]
    }
   ],
   "source": [
    "a = Animal(6)\n",
    "a.get_age()\n",
    "print(a)\n",
    "a.set_name('fluffy')\n",
    "print(a)"
   ]
  },
  {
   "cell_type": "code",
   "execution_count": 119,
   "metadata": {},
   "outputs": [],
   "source": [
    "def animal_dict(L):\n",
    "    \"\"\"L is a list containing ages of animals \n",
    "    Returns a dictionary containing ages from L as keys\n",
    "    and animal object of that as values\"\"\"\n",
    "    d = {}\n",
    "    for i in L:\n",
    "        if type(i) == int and i >= 0:\n",
    "            d[i] = Animal(i)\n",
    "    return d\n",
    "        "
   ]
  },
  {
   "cell_type": "code",
   "execution_count": 120,
   "metadata": {},
   "outputs": [
    {
     "name": "stdout",
     "output_type": "stream",
     "text": [
      "key1 with value ofAnimal:None:1\n",
      "key4 with value ofAnimal:None:4\n",
      "key6 with value ofAnimal:None:6\n",
      "key0 with value ofAnimal:None:0\n"
     ]
    }
   ],
   "source": [
    "L = [1,4,6,0,'sk',-2]\n",
    "animals = animal_dict(L)\n",
    "for k,v in animals.items():\n",
    "    print(f\"key{k} with value of{v}\")\n"
   ]
  },
  {
   "cell_type": "code",
   "execution_count": 121,
   "metadata": {},
   "outputs": [],
   "source": [
    "def make_animals(L1,L2):\n",
    "    L = []\n",
    "    for a,b in zip(L1,L2):\n",
    "        animal = Animal(a)\n",
    "        animal.set_name(b)\n",
    "        L.append(animal)\n",
    "    return L\n",
    "    "
   ]
  },
  {
   "cell_type": "code",
   "execution_count": 122,
   "metadata": {},
   "outputs": [
    {
     "name": "stdout",
     "output_type": "stream",
     "text": [
      "[<__main__.Animal object at 0x000002160A4AAB10>, <__main__.Animal object at 0x000002160A4A84D0>, <__main__.Animal object at 0x000002160A4AFB00>]\n",
      "Animal:khan:2\n",
      "Animal:loosy:3\n",
      "Animal:billa:6\n"
     ]
    }
   ],
   "source": [
    "L1 = [2,3,6]\n",
    "L2 = ['khan','loosy','billa']\n",
    "animals2 = make_animals(L1,L2)\n",
    "print(animals2)\n",
    "for i in animals2:\n",
    "    print(i)"
   ]
  },
  {
   "cell_type": "code",
   "execution_count": 123,
   "metadata": {},
   "outputs": [],
   "source": [
    "class Cat(Animal):\n",
    "    def speak(self):\n",
    "        return 'meow'\n",
    "    def __str__(self):\n",
    "        return f\"Cat:{self.name}:{self.age}\"\n",
    "    "
   ]
  },
  {
   "cell_type": "code",
   "execution_count": 124,
   "metadata": {},
   "outputs": [
    {
     "name": "stdout",
     "output_type": "stream",
     "text": [
      "Cat:Billa:5\n"
     ]
    }
   ],
   "source": [
    "a = Cat(5)\n",
    "a.set_name('Billa')\n",
    "print(a)"
   ]
  },
  {
   "cell_type": "code",
   "execution_count": 125,
   "metadata": {},
   "outputs": [
    {
     "data": {
      "text/plain": [
       "'meow'"
      ]
     },
     "execution_count": 125,
     "metadata": {},
     "output_type": "execute_result"
    }
   ],
   "source": [
    "a.speak()"
   ]
  },
  {
   "cell_type": "code",
   "execution_count": null,
   "metadata": {},
   "outputs": [],
   "source": []
  },
  {
   "cell_type": "code",
   "execution_count": 126,
   "metadata": {},
   "outputs": [],
   "source": [
    "class Person(Animal):\n",
    "    def __init__(self,name,age):\n",
    "        Animal.__init__(self,age)\n",
    "        self.set_name(name)\n",
    "        self.freinds = []\n",
    "    def get_freinds(self):\n",
    "        return self.freinds.copy()\n",
    "    def add_freinds(self,fname):\n",
    "        if fname not in self.freinds:\n",
    "            if type(fname) == list:\n",
    "                self.freinds.extend(fname)\n",
    "            else:\n",
    "                self.freinds.append(fname)\n",
    "    def speak(self):\n",
    "        return 'hell0'\n",
    "    def age_difference(self,other):\n",
    "        diff = abs(self.age - other.age)\n",
    "        return f\"{diff} years difference\"\n",
    "    def __str__(self):\n",
    "        return f\"Person:{self.name}:{self.age}\"\n",
    "    \n",
    "                    "
   ]
  },
  {
   "cell_type": "code",
   "execution_count": 127,
   "metadata": {},
   "outputs": [
    {
     "data": {
      "text/plain": [
       "['ali', 'ahmad', 'farrukh', 'billla']"
      ]
     },
     "execution_count": 127,
     "metadata": {},
     "output_type": "execute_result"
    }
   ],
   "source": [
    "p1 = Person('jack',30)\n",
    "p2 = Person('khan',22)\n",
    "p1.get_name()\n",
    "p2.add_freinds(['ali','ahmad','farrukh'])\n",
    "p2.add_freinds('billla')\n",
    "p2.freinds"
   ]
  },
  {
   "cell_type": "code",
   "execution_count": 128,
   "metadata": {},
   "outputs": [
    {
     "data": {
      "text/plain": [
       "'khan'"
      ]
     },
     "execution_count": 128,
     "metadata": {},
     "output_type": "execute_result"
    }
   ],
   "source": [
    "p2.get_name()"
   ]
  },
  {
   "cell_type": "code",
   "execution_count": 129,
   "metadata": {},
   "outputs": [
    {
     "name": "stdout",
     "output_type": "stream",
     "text": [
      "Person:khan:22\n"
     ]
    }
   ],
   "source": [
    "print(p2)"
   ]
  },
  {
   "cell_type": "code",
   "execution_count": 130,
   "metadata": {},
   "outputs": [],
   "source": [
    "def make_pets(d):\n",
    "    for k,v in d.items():\n",
    "        assert type(k) == Person and type(v) == Cat,'keys should be of oject of type Person and values of type Cat'\n",
    "        print(k.get_name(),':',v.get_name())\n",
    "        \n",
    "\n"
   ]
  },
  {
   "cell_type": "code",
   "execution_count": 131,
   "metadata": {},
   "outputs": [],
   "source": [
    "\n",
    "c1 = Cat(1)\n",
    "c1.set_name('Billa')\n",
    "c2 = Cat(2)\n",
    "c2.set_name('mano')\n",
    "d = {p1:c1,p2:c2}"
   ]
  },
  {
   "cell_type": "code",
   "execution_count": 132,
   "metadata": {},
   "outputs": [
    {
     "name": "stdout",
     "output_type": "stream",
     "text": [
      "jack : Billa\n",
      "khan : mano\n"
     ]
    }
   ],
   "source": [
    "make_pets(d)"
   ]
  },
  {
   "cell_type": "code",
   "execution_count": 133,
   "metadata": {},
   "outputs": [],
   "source": [
    "import random\n",
    "class Student(Person):\n",
    "    def __init__(self,name,age,major= None):\n",
    "        super().__init__(name,age)\n",
    "        self.major = major\n",
    "    def __str__(self):\n",
    "        return f\"student:{self.name}:{self.age}\"\n",
    "    def change_major(self,major):\n",
    "        self.major = major\n",
    "    def speak(self):\n",
    "        r = random.random()\n",
    "        # print(r)\n",
    "        \n",
    "        if r < 0.25:\n",
    "            return (\"--> i have homework\")\n",
    "        elif 0.25 <= r < 0.5:\n",
    "            return (\"--> i need sleep\")\n",
    "        elif 0.5 <= r < 0.75:\n",
    "            return (\"--> i should eat\")\n",
    "        else:\n",
    "            return (\"--> i'm zooming\")\n",
    "                \n",
    "\n",
    "\n"
   ]
  },
  {
   "cell_type": "code",
   "execution_count": 134,
   "metadata": {},
   "outputs": [
    {
     "name": "stdout",
     "output_type": "stream",
     "text": [
      "\n",
      "---- student tests ----\n",
      "student:alice:20\n",
      "student:beth:18\n",
      "alice says: --> i should eat\n",
      "beth says: --> i'm zooming\n"
     ]
    }
   ],
   "source": [
    "\n",
    "print(\"\\n---- student tests ----\")\n",
    "s1 = Student('alice', 20, \"CS\")\n",
    "s2 = Student('beth', 18)\n",
    "print(s1)\n",
    "print(s2)\n",
    "print(s1.get_name(),\"says:\",s1.speak())\n",
    "\n",
    "print(s2.get_name(),\"says:\",s2.speak())"
   ]
  },
  {
   "cell_type": "code",
   "execution_count": 135,
   "metadata": {},
   "outputs": [],
   "source": [
    "class Rabbit(Animal):\n",
    "    tag = 1\n",
    "    def __init__(self, age,parent1=None,parent2=None):\n",
    "        super().__init__(age)\n",
    "        \n",
    "        self.p1 = parent1\n",
    "        self.p2 = parent2 \n",
    "        self.rid = Rabbit.tag\n",
    "        Rabbit.tag += 1\n",
    "    def get_parent1(self):\n",
    "        return self.p1\n",
    "    def get_parent2(self):\n",
    "        return self.p2    \n",
    "    def get_rid(self):\n",
    "        return str(self.rid).zfill(5)    \n",
    "    def __add__(self,other):\n",
    "        return Rabbit(0,self,other)\n",
    "    def __eq__(self,oth):\n",
    "        parents_same = (self.p1.rid == oth.p1.rid and self.p2.rid == oth.p2.rid)\n",
    "        parents_opp = (self.p2.rid == oth.p1.rid and self.p1.rid == oth.p2.rid)\n",
    "\n",
    "        return parents_same or parents_opp\n",
    "      \n",
    "    def __str__(self):\n",
    "        return f\"Rabbit:{self.get_rid()}:{self.age}\"\n",
    "    def __repr__(self):\n",
    "        return f\"Rabbit(id={self.rid}, age={self.age}, parent1={self.p1}, parent2={self.p2})\"\n",
    "\n",
    "\n"
   ]
  },
  {
   "cell_type": "code",
   "execution_count": 136,
   "metadata": {},
   "outputs": [
    {
     "name": "stdout",
     "output_type": "stream",
     "text": [
      "\n",
      "---- rabbit tests ----\n",
      "---- testing creating rabbits ----\n",
      "r1: Rabbit:00001:3\n",
      "r2: Rabbit:00002:4\n",
      "r3: Rabbit:00003:5\n",
      "r1 parent1: None\n",
      "r1 parent2: None\n",
      "---- testing rabbit addition ----\n",
      "r1: Rabbit:00001:3\n",
      "r2: Rabbit:00002:4\n",
      "r4: Rabbit:00004:0\n",
      "r4 parent1: Rabbit:00001:3\n",
      "r4 parent2: Rabbit:00002:4\n",
      "---- testing rabbit equality ----\n",
      "r3: Rabbit:00003:5\n",
      "r4: Rabbit:00004:0\n",
      "r5: Rabbit:00005:0\n",
      "r6: Rabbit:00006:0\n",
      "r5 parent1: Rabbit:00003:5\n",
      "r5 parent2: Rabbit:00004:0\n",
      "r6 parent1: Rabbit:00004:0\n",
      "r6 parent2: Rabbit:00003:5\n",
      "r5 and r6 have same parents? True\n",
      "r4 and r6 have same parents? False\n"
     ]
    }
   ],
   "source": [
    "print(\"\\n---- rabbit tests ----\")\n",
    "print(\"---- testing creating rabbits ----\")\n",
    "r1 = Rabbit(3)\n",
    "r2 = Rabbit(4)\n",
    "r3 = Rabbit(5)\n",
    "print(\"r1:\", r1)\n",
    "print(\"r2:\", r2)\n",
    "print(\"r3:\", r3)\n",
    "print(\"r1 parent1:\", r1.get_parent1())\n",
    "print(\"r1 parent2:\", r1.get_parent2())\n",
    "\n",
    "print(\"---- testing rabbit addition ----\")\n",
    "r4 = r1+r2   # r1.__add__(r2)\n",
    "print(\"r1:\", r1)\n",
    "print(\"r2:\", r2)\n",
    "print(\"r4:\", r4)\n",
    "print(\"r4 parent1:\", r4.get_parent1())\n",
    "print(\"r4 parent2:\", r4.get_parent2())\n",
    "\n",
    "print(\"---- testing rabbit equality ----\")\n",
    "r5 = r3+r4\n",
    "r6 = r4+r3\n",
    "print(\"r3:\", r3)\n",
    "print(\"r4:\", r4)\n",
    "print(\"r5:\", r5)\n",
    "print(\"r6:\", r6)\n",
    "print(\"r5 parent1:\", r5.get_parent1())\n",
    "print(\"r5 parent2:\", r5.get_parent2())\n",
    "print(\"r6 parent1:\", r6.get_parent1())\n",
    "print(\"r6 parent2:\", r6.get_parent2())\n",
    "print(\"r5 and r6 have same parents?\", r5 == r6)\n",
    "print(\"r4 and r6 have same parents?\", r4 == r6)\n"
   ]
  },
  {
   "cell_type": "code",
   "execution_count": 151,
   "metadata": {},
   "outputs": [],
   "source": [
    "class Employee(Person):\n",
    "    \n",
    "    def __init__(self,name,age,salary = 0):\n",
    "        super().__init__(name,age)\n",
    "        self.salary = salary\n",
    "        self.salary_list = [0]\n",
    "    def get_salary(self):\n",
    "        return self.salary\n",
    "    def set_salary(self,newsalary):\n",
    "        self.salary = newsalary\n",
    "        self.salary_list.append(self.salary)\n",
    "    def salary_change(self,n):\n",
    "        s = self.salary + n\n",
    "        if s <= 0:\n",
    "            self.salary = 0\n",
    "        else:\n",
    "            self.salary = s\n",
    "        self.salary_list.append(self.salary)    \n",
    "    def has_freinds(self):\n",
    "        return len(self.freinds) != 0\n",
    "    def past_salaries_list(self):\n",
    "        \"\"\" Keeps track of all salaries self has had in the order they've changed. \n",
    "            i.e. whenever the salary changes, keep track of it.\n",
    "        Hint: you may need to add an additional data attribute to Employee.\n",
    "        Returns a copy of the list of all salaries self has had, in order. \"\"\"\n",
    "        \n",
    "        return self.salary_list.copy()\n",
    "    \n",
    "\n",
    "    def past_salary_freq(self):\n",
    "        \"\"\"Returns a dictionary where the key is a salary number and the \n",
    "        value is how many times self's salary has changed to that number. \"\"\"\n",
    "        \n",
    "        d = {}\n",
    "        L = self.salary_list.copy()\n",
    "        for e in L:\n",
    "            if e in d:\n",
    "                d[e] += 1\n",
    "            else:\n",
    "                d[e] = 1\n",
    "        return d\n",
    "\n",
    "\n",
    "\n",
    "\n",
    "    \n",
    "                      \n"
   ]
  },
  {
   "cell_type": "code",
   "execution_count": 152,
   "metadata": {},
   "outputs": [
    {
     "name": "stdout",
     "output_type": "stream",
     "text": [
      "0\n",
      "1000\n",
      "3000\n",
      "0\n",
      "False\n",
      "True\n",
      "[0, 1000, 3000, 0]\n",
      "{0: 2, 1000: 1, 3000: 1}\n"
     ]
    }
   ],
   "source": [
    "# # For example:\n",
    "e = Employee(\"ana\", 35)\n",
    "print(e.get_salary())   # prints 0\n",
    "e.set_salary(1000)\n",
    "print(e.get_salary())   # prints 1000\n",
    "e.salary_change(2000)\n",
    "print(e.get_salary())   # prints 3000\n",
    "e.salary_change(-50000)\n",
    "print(e.get_salary())   # prints 0\n",
    "print(e.has_freinds())  # prints False\n",
    "e.add_freinds(\"bob\")\n",
    "print(e.has_freinds())  # prints True\n",
    "print(e.past_salaries_list())  # prints [0, 1000, 3000, 0]\n",
    "print(e.past_salary_freq())  # prints {0: 2, 1000: 1, 3000: 1}"
   ]
  },
  {
   "cell_type": "code",
   "execution_count": 161,
   "metadata": {},
   "outputs": [],
   "source": [
    "# Write a function that meets this specification\n",
    "def counts(L):\n",
    "    \"\"\" L is a list of Employee and Person objects \n",
    "    Returns a tuple of a count of:\n",
    "      * how many Person objects are in L\n",
    "      * how many Employee objects are in L \n",
    "      * the number of unique names among Employee and Person objects \"\"\"\n",
    "    E_count = 0\n",
    "    P_count = 0\n",
    "    L2 = []\n",
    "    for e in L:\n",
    "        if type(e) == Employee:\n",
    "            E_count += 1\n",
    "            if e.name not in L2:\n",
    "                L2.append(e.name)\n",
    "        elif type(e) == Person:\n",
    "            P_count += 1\n",
    "            if e.name not in L2:\n",
    "                L2.append(e.name)\n",
    "\n",
    "    return (P_count,E_count,len(L2))\n"
   ]
  },
  {
   "cell_type": "code",
   "execution_count": 162,
   "metadata": {},
   "outputs": [
    {
     "name": "stdout",
     "output_type": "stream",
     "text": [
      "(2, 3, 4)\n"
     ]
    }
   ],
   "source": [
    "# For example:\n",
    "\n",
    "L = []\n",
    "L.append(Person('ana',8))\n",
    "L.append(Person('bob',25))\n",
    "L.append(Employee('ana',35))\n",
    "L.append(Employee('cara',18))\n",
    "L.append(Employee('dan',53))\n",
    "# call function\n",
    "print(counts(L))    # prints (2,3,4)"
   ]
  },
  {
   "cell_type": "markdown",
   "metadata": {},
   "source": [
    "Finger Exercise Lecture 19\n",
    "In this problem, you will implement two classes according to the specification below: one Container class and one Stack class (a subclass of Container).\n",
    "\n",
    "Our Container class will initialize an empty list. The two methods we will have are to calculate the size of the list and to add an element. The second method will be inherited by the subclass. We now want to create a subclass so that we can add more functionality—the ability to remove elements from the list. A Stack will add elements to the list in the same way, but will behave differently when removing an element.\n",
    "\n",
    "A stack is a last-in, first-out data structure. Think of a stack of pancakes. As you make pancakes, you create a stack of them with older pancakes going on the bottom and newer pancakes on the top. As you start eating the pancakes, you pick one off the top so you are removing the newest pancake added to the stack. When implementing your Stack class, you will have to think about which end of your list contains the element that has been in the list the shortest amount of time. This is the element you will want to remove and return."
   ]
  },
  {
   "cell_type": "code",
   "execution_count": 20,
   "metadata": {},
   "outputs": [],
   "source": [
    "class container(object):\n",
    "    def __init__(self) :\n",
    "        self.list = []\n",
    "    def size(self):\n",
    "        return len(self.list)\n",
    "    def add(self,e):\n",
    "        self.list.append(e)\n",
    "    def __str__(self):\n",
    "        return f\"container = {self.list}\"\n",
    "\n",
    "class stack(container):\n",
    "    def remove(self):\n",
    "        if self.size() > 0:\n",
    "            del self.list[-1]\n",
    "        return None    \n",
    "    def __str__(self):\n",
    "        return f\"stack = {self.list}\"\n",
    "        "
   ]
  },
  {
   "cell_type": "code",
   "execution_count": 15,
   "metadata": {},
   "outputs": [
    {
     "data": {
      "text/plain": [
       "3"
      ]
     },
     "execution_count": 15,
     "metadata": {},
     "output_type": "execute_result"
    }
   ],
   "source": [
    "a = container()\n",
    "a.add(5)\n",
    "a.add(7)\n",
    "a.add(8)\n",
    "a.size()"
   ]
  },
  {
   "cell_type": "code",
   "execution_count": 16,
   "metadata": {},
   "outputs": [],
   "source": [
    "b = stack()\n",
    "b.add(8)\n",
    "b.add(9)\n",
    "b.add(5)"
   ]
  },
  {
   "cell_type": "code",
   "execution_count": 17,
   "metadata": {},
   "outputs": [
    {
     "name": "stdout",
     "output_type": "stream",
     "text": [
      "stack = [8, 9, 5]\n"
     ]
    }
   ],
   "source": [
    "print(b)"
   ]
  },
  {
   "cell_type": "code",
   "execution_count": 18,
   "metadata": {},
   "outputs": [],
   "source": [
    "b.remove()"
   ]
  },
  {
   "cell_type": "code",
   "execution_count": 19,
   "metadata": {},
   "outputs": [
    {
     "name": "stdout",
     "output_type": "stream",
     "text": [
      "stack = [8, 9]\n"
     ]
    }
   ],
   "source": [
    "print(b)"
   ]
  },
  {
   "cell_type": "code",
   "execution_count": 9,
   "metadata": {},
   "outputs": [],
   "source": [
    "from dateutil import parser\n",
    "\n",
    "class Workout(object):\n",
    "    cal_per_hr = 200\n",
    "    def __init__(self,start,end,calories = None):\n",
    "        self.start = parser.parse(start)\n",
    "        self.end = parser.parse(end)\n",
    "        self.calories = calories\n",
    "        self.icon = \"💪\"\n",
    "        self.kind = 'Workout'   \n",
    "    def get_calories(self):\n",
    "        if (self.calories == None):\n",
    "            return Workout.cal_per_hr * (self.end - self.start).total_seconds()/3600\n",
    "        else:\n",
    "            return self.calories\n",
    "    def set_calories(self,new):\n",
    "        self.calories = new\n",
    "\n",
    "    def get_start(self):\n",
    "        return self.start\n",
    "    \n",
    "    def set_start(self,newstart):\n",
    "        self.start = newstart\n",
    "\n",
    "    def get_end(self):\n",
    "        return self.end\n",
    "    \n",
    "    def set_end(self,newend):\n",
    "        self.end = newend\n",
    "\n",
    "    def get_duration(self):\n",
    "        return self.end - self.start\n",
    "       \n",
    "    def __str__(self):\n",
    "        width = 16\n",
    "        retstr = f\"|{'-'*width}|\\n\"\n",
    "        retstr += f\"|{' ' *width}|\\n\"\n",
    "        iconLen = 0\n",
    "        retstr += f\"| {self.icon}{' '*(width-3)}|\\n\"\n",
    "        retstr += f\"| {self.kind}{' '*(width-len(self.kind)-1)}|\\n\"\n",
    "        retstr += f\"|{' ' *width}|\\n\"\n",
    "        duration_str = str(self.get_duration())\n",
    "        retstr += f\"| {duration_str}{' '*(width-len(duration_str)-1)}|\\n\"\n",
    "        cal_str = f\"{self.get_calories():.0f}\"\n",
    "        retstr += f\"| {cal_str} Calories {' '*(width-len(cal_str)-11)}|\\n\"\n",
    "        retstr += f\"|{' ' *width}|\\n\"\n",
    "        retstr += f\"|{'_'*width}|\\n\"\n",
    "        \n",
    "        return retstr\n",
    "    def __eq__(self, other):\n",
    "        \"\"\"Returns true if this workout is equal to another workout, false o.w.\"\"\"\n",
    "        # the \\ breaks up the line\n",
    "        return type(self) == type(other) and \\\n",
    "                self.start == other.start and \\\n",
    "                self.end == other.end and \\\n",
    "                self.kind == other.kind and \\\n",
    "                self.get_calories() == other.get_calories()\n",
    "    def ab(self):\n",
    "        print(self.__str__())\n",
    "    \n",
    "    \n",
    "\n",
    "\n"
   ]
  },
  {
   "cell_type": "code",
   "execution_count": null,
   "metadata": {},
   "outputs": [],
   "source": []
  },
  {
   "cell_type": "code",
   "execution_count": 10,
   "metadata": {},
   "outputs": [
    {
     "data": {
      "text/plain": [
       "83.33333333333333"
      ]
     },
     "execution_count": 10,
     "metadata": {},
     "output_type": "execute_result"
    }
   ],
   "source": [
    "w_one = Workout('1/1/2021 3:35pm','1/1/2021 4pm')\n",
    "w_one.get_calories()"
   ]
  },
  {
   "cell_type": "code",
   "execution_count": 11,
   "metadata": {},
   "outputs": [
    {
     "name": "stdout",
     "output_type": "stream",
     "text": [
      "|----------------|\n",
      "|                |\n",
      "| 💪             |\n",
      "| Workout        |\n",
      "|                |\n",
      "| 0:25:00        |\n",
      "| 83 Calories    |\n",
      "|                |\n",
      "|________________|\n",
      "\n",
      "|----------------|\n",
      "|                |\n",
      "| 💪             |\n",
      "| Workout        |\n",
      "|                |\n",
      "| 0:25:00        |\n",
      "| 83 Calories    |\n",
      "|                |\n",
      "|________________|\n",
      "\n"
     ]
    }
   ],
   "source": [
    "print(w_one)\n",
    "w_one.ab()"
   ]
  },
  {
   "cell_type": "code",
   "execution_count": 18,
   "metadata": {},
   "outputs": [],
   "source": [
    "w_two = Workout('1/1/2022 1:32pm','1/1/2022 2pm',300)"
   ]
  },
  {
   "cell_type": "code",
   "execution_count": 19,
   "metadata": {},
   "outputs": [
    {
     "data": {
      "text/plain": [
       "300"
      ]
     },
     "execution_count": 19,
     "metadata": {},
     "output_type": "execute_result"
    }
   ],
   "source": [
    "w_two.get_calories()"
   ]
  },
  {
   "cell_type": "code",
   "execution_count": 20,
   "metadata": {},
   "outputs": [
    {
     "name": "stdout",
     "output_type": "stream",
     "text": [
      "|----------------|\n",
      "|                |\n",
      "| 💪             |\n",
      "| Workout        |\n",
      "|                |\n",
      "| 0:28:00        |\n",
      "| 300 Calories   |\n",
      "|                |\n",
      "|________________|\n",
      "\n"
     ]
    }
   ],
   "source": [
    "print(w_two)"
   ]
  },
  {
   "cell_type": "code",
   "execution_count": 21,
   "metadata": {},
   "outputs": [],
   "source": [
    "#################\n",
    "## HELPER FUNCTION: get the distance between two points\n",
    "#################\n",
    "from math import sin, cos, sqrt, atan2, radians\n",
    "\n",
    "def gpsDistance(p1,p2):\n",
    "    \"\"\"Given two points, represented as (lat,lon) tuples, return the\n",
    "    distance between them in kilometers\"\"\"\n",
    "    R = 6373.0     # approximate radius of earth in km\n",
    "\n",
    "    lat1 = radians(p1[0])\n",
    "    lon1 = radians(p1[1])\n",
    "    lat2 = radians(p2[0])\n",
    "    lon2 = radians(p2[1])\n",
    "\n",
    "    #compute haversine distance\n",
    "    dlon = lon2 - lon1\n",
    "    dlat = lat2 - lat1\n",
    "\n",
    "    a = sin(dlat / 2)**2 + cos(lat1) * cos(lat2) * sin(dlon / 2)**2\n",
    "    c = 2 * atan2(sqrt(a), sqrt(1 - a))\n",
    "\n",
    "    return R * c\n",
    "\n",
    "  "
   ]
  },
  {
   "cell_type": "code",
   "execution_count": 26,
   "metadata": {},
   "outputs": [],
   "source": [
    "class Run_Workout(Workout):\n",
    "    #new class variable\n",
    "    cals_per_km = 100\n",
    "    def __init__(self,start,end,elev=0,calories=None,route_gps_points = None):\n",
    "        super().__init__(start,end,calories)\n",
    "        self.icon = '🏃🏽‍'\n",
    "        self.kind = 'Running'\n",
    "        self.elev = elev\n",
    "        self.route_gps_points = route_gps_points\n",
    "\n",
    "    def set_elev(self,newelev):\n",
    "        self.elev = newelev\n",
    "    def get_elev(self):\n",
    "        return self.elev\n",
    "    def get_calories(self):\n",
    "        if self.route_gps_points != None:\n",
    "            dist = 0\n",
    "            lastP = self.route_gps_points[0]\n",
    "            for p in self.route_gps_points[1:]:\n",
    "                dist += gpsDistance(lastP,p)\n",
    "                lastP = p\n",
    "            return dist * Run_Workout.cals_per_km\n",
    "        else:\n",
    "            return super().get_calories()\n",
    "    def __eq__(self,other):\n",
    "        return super().__eq__(other) and self.elev == other.elev \n",
    "             \n",
    "            "
   ]
  },
  {
   "cell_type": "code",
   "execution_count": 25,
   "metadata": {},
   "outputs": [
    {
     "name": "stdout",
     "output_type": "stream",
     "text": [
      "False\n",
      "False\n",
      "True\n",
      "False\n",
      "False\n",
      "False\n"
     ]
    }
   ],
   "source": [
    "#=============================================================================\n",
    "# EXAMPLE: Workouts override __eq__ to provide equality testing\n",
    "# =============================================================================\n",
    "w1 = Workout('9/30/2021 1:35 PM','9/30/2021 2:05 PM', 500)\n",
    "w2 = Workout('9/30/2021 1:35 PM','9/30/2021 2:05 PM') # cal are 200 by default\n",
    "w3 = Workout('9/30/2021 1:35 PM','9/30/2021 2:05 PM', 100)\n",
    "\n",
    "rw1 = Run_Workout('9/30/2021 1:35 PM','9/30/2021 3:05 PM', 100)\n",
    "rw2 = Run_Workout('9/30/2021 1:35 PM','9/30/2021 3:05 PM', 200)\n",
    "rw3 = Run_Workout('9/30/2021 1:35 PM','9/30/2021 3:05 PM', 100)\n",
    "\n",
    "print(w1 == w2)  # False since only length of workout is the same\n",
    "print(w1 == w3)  # False since only length of workout is the same\n",
    "print(w2 == w3)  # True since the length and calories are equal\n",
    "print(w1 == rw1)  # False since the types of w1 and rw1 are not the same \n",
    "print(rw1 == rw2) # False since the elevation is different\n",
    "print(rw1 == rw3) # True since the types, workout length, and elev is the same"
   ]
  },
  {
   "cell_type": "code",
   "execution_count": 27,
   "metadata": {},
   "outputs": [
    {
     "name": "stdout",
     "output_type": "stream",
     "text": [
      "Cals with route points: 1261.983237744608\n",
      "Cals with super impl: 473.3333333333333\n"
     ]
    }
   ],
   "source": [
    " # points are Boston to Newton\n",
    "points = [(42.3601,-71.0589),(42.3370,-71.2092)] # (latitude,longitude) pairs\n",
    "run1 = Run_Workout('9/30/2021 1:35 PM','9/30/2021 3:57 PM', 100, route_gps_points=points)\n",
    "print(f'Cals with route points: {run1.get_calories()}')\n",
    "\n",
    "run2 = Run_Workout('9/30/2021 1:35 PM','9/30/2021 3:57 PM', 100) # 100 is elevation\n",
    "print(f'Cals with super impl: {run2.get_calories()}')\n"
   ]
  },
  {
   "cell_type": "code",
   "execution_count": 2,
   "metadata": {},
   "outputs": [
    {
     "name": "stdout",
     "output_type": "stream",
     "text": [
      "p ['y', 't', 'h', 'o'] n\n"
     ]
    }
   ],
   "source": [
    "a,*b,c = 'python'\n",
    "print(a,b,c)"
   ]
  },
  {
   "cell_type": "code",
   "execution_count": 4,
   "metadata": {},
   "outputs": [
    {
     "name": "stdout",
     "output_type": "stream",
     "text": [
      "['p', 'y', 't', 'h', 'o', 'n']\n"
     ]
    }
   ],
   "source": [
    "*_, = 'python'\n",
    "print(_)"
   ]
  },
  {
   "cell_type": "code",
   "execution_count": 31,
   "metadata": {},
   "outputs": [
    {
     "name": "stdout",
     "output_type": "stream",
     "text": [
      "1\n",
      "1\n"
     ]
    }
   ],
   "source": [
    "l = [(3,4),(5,6)]\n",
    "for e in l:\n",
    "    print(e[1] - e[0])\n",
    "\n"
   ]
  },
  {
   "cell_type": "markdown",
   "metadata": {},
   "source": [
    "Finger Exercise Lecture 20\n",
    "In this problem, you will implement two classes according to the specification below: one Container class and one Queue class (a subclass of Container).     \n",
    "\n",
    "Our Container class will initialize an empty list. The two methods we will have are to calculate the size of the list and to add an element. The second method will be inherited by the subclass. We now want to create a subclass so that we can add more functionality – the ability to remove elements from the list. A Queue will add elements to the list in the same way, but will behave differently when removing an element.\n",
    "\n",
    "A queue is a first-in, first-out data structure. Think of a store checkout queue. The customer who has been in the line the longest gets the next available cashier. When implementing your Queue class, you will have to think about which end of your list contains the element that has been in the list the longest. This is the element you will want to remove and return\n"
   ]
  },
  {
   "cell_type": "code",
   "execution_count": 15,
   "metadata": {},
   "outputs": [],
   "source": [
    "class Container_2(object):\n",
    "    def __init__(self):\n",
    "        self.mylist = []\n",
    "    def size(self):\n",
    "        return len(self.mylist)\n",
    "    def add(self,e):\n",
    "        self.mylist.append(e)\n",
    "    def __str__(self):\n",
    "        return f\"container_2 = {self.mylist}\"\n",
    "        \n",
    "class  Queue(Container_2):\n",
    "    def remove(self):\n",
    "        if self.mylist == []:\n",
    "            return None\n",
    "        return self.mylist.pop()\n",
    "\n"
   ]
  },
  {
   "cell_type": "code",
   "execution_count": 24,
   "metadata": {},
   "outputs": [
    {
     "name": "stdout",
     "output_type": "stream",
     "text": [
      "container_2 = [1, 2, 3, 4]\n"
     ]
    }
   ],
   "source": [
    "l = Queue()\n",
    "l.add(1)\n",
    "l.add(2)\n",
    "l.add(3)\n",
    "l.add(4)\n",
    "print(l)"
   ]
  },
  {
   "cell_type": "code",
   "execution_count": 25,
   "metadata": {},
   "outputs": [
    {
     "name": "stdout",
     "output_type": "stream",
     "text": [
      "4\n",
      "container_2 = [1, 2, 3]\n"
     ]
    }
   ],
   "source": [
    "print(l.remove())\n",
    "print(l)"
   ]
  },
  {
   "cell_type": "code",
   "execution_count": 2,
   "metadata": {},
   "outputs": [],
   "source": [
    "def add(list):\n",
    "    result = 0\n",
    "    for e in list:\n",
    "        result += e\n",
    "    return result\n",
    "\n",
    "    \n"
   ]
  },
  {
   "cell_type": "code",
   "execution_count": 4,
   "metadata": {},
   "outputs": [
    {
     "name": "stdout",
     "output_type": "stream",
     "text": [
      "67585685905756787493328\n"
     ]
    }
   ],
   "source": [
    "l = [1,2,3,50,100,200,500,967856,675759,6756785858858,67585685898999999989999]\n",
    "print(add(l))"
   ]
  },
  {
   "cell_type": "code",
   "execution_count": 1,
   "metadata": {},
   "outputs": [],
   "source": [
    "import datetime"
   ]
  },
  {
   "cell_type": "code",
   "execution_count": 12,
   "metadata": {},
   "outputs": [],
   "source": [
    "\n",
    "class Person(object):\n",
    "    def __init__(self,name):\n",
    "        self._name = name\n",
    "        try:\n",
    "            last_blank = name.rindex(' ')\n",
    "            self._last_name = name[last_blank + 1 : ]\n",
    "        except:\n",
    "            self._last_name = name\n",
    "    def get_name(self):\n",
    "        return self._name\n",
    "    def get_last_name(self):\n",
    "        return self._last_name\n",
    "    def set_birthday(self,birthdate):\n",
    "        self._birthday = birthdate\n",
    "    def get_age(self):\n",
    "        if self._birthday == None:\n",
    "            raise ValueError('No birthday is given')\n",
    "        return (datetime.date.today() - self._birthday).days\n",
    "    def __lt__(self,other):\n",
    "        if self._last_name == other._last_name:\n",
    "            return self._name < other._name\n",
    "        return self._last_name < other._last_name\n",
    "    def __str__(self):\n",
    "        return str(self._name)\n",
    "                    "
   ]
  },
  {
   "cell_type": "code",
   "execution_count": 32,
   "metadata": {},
   "outputs": [],
   "source": [
    "class Politician(Person):\n",
    "    def __init__(self,name,party = None):\n",
    "        super().__init__(name)\n",
    "        self._party = party\n",
    "    def get_party(self):\n",
    "        return self._party\n",
    "    def might_agree(self,other):\n",
    "        if self._party == None or other._party == None:\n",
    "            return True\n",
    "        return self._party == other._party\n",
    "    \n",
    "    def add_party(self,newparty):\n",
    "        self._party = newparty\n",
    "    def __str__(self):\n",
    "        return f\"name: {super().__str__()} , party: {self._party}\"  \n",
    "\n"
   ]
  },
  {
   "cell_type": "code",
   "execution_count": 33,
   "metadata": {},
   "outputs": [
    {
     "name": "stdout",
     "output_type": "stream",
     "text": [
      "True\n",
      "name: billa , party: pti\n",
      "khan\n"
     ]
    }
   ],
   "source": [
    "p1 = Person('billa')\n",
    "p2 = Person('khan')\n",
    "p3 = Person('chima')\n",
    "a = Politician(p1,'pti')\n",
    "b = Politician(p2,'mqm')\n",
    "c = Politician(p3)\n",
    "print(a.might_agree(c))\n",
    "print(a)\n",
    "print(p2)"
   ]
  },
  {
   "cell_type": "code",
   "execution_count": null,
   "metadata": {},
   "outputs": [],
   "source": [
    "\n",
    "class MIT_Person(Person):\n",
    "    next_id_num = 0\n",
    "    def __init__(self,name,id_num):\n",
    "        super().__init__(name)\n",
    "        self._id_num =MIT_Person.next_id_num\n",
    "        MIT_Person.next_id_num += 1\n",
    "    def get_id(self):\n",
    "        return self._id_num \n",
    "    def __lt__(self,other):\n",
    "        return self._id_num < other._id_num\n",
    "        \n",
    "\n",
    "\n",
    "\n"
   ]
  },
  {
   "cell_type": "code",
   "execution_count": 4,
   "metadata": {},
   "outputs": [],
   "source": [
    "class Student(MIT_Person):\n",
    "    pass\n",
    "\n",
    "\n",
    "class UG(Student):\n",
    "    def __init__(self,name,class_year):\n",
    "        super().__init__(name) # type: ignore\n",
    "        self._year  = class_year\n",
    "    def get_year(self):\n",
    "        return self._year\n",
    "\n",
    "\n",
    "class Grad(Student):\n",
    "    pass\n",
    "        \n"
   ]
  },
  {
   "cell_type": "code",
   "execution_count": null,
   "metadata": {},
   "outputs": [],
   "source": []
  }
 ],
 "metadata": {
  "kernelspec": {
   "display_name": "Python 3",
   "language": "python",
   "name": "python3"
  },
  "language_info": {
   "codemirror_mode": {
    "name": "ipython",
    "version": 3
   },
   "file_extension": ".py",
   "mimetype": "text/x-python",
   "name": "python",
   "nbconvert_exporter": "python",
   "pygments_lexer": "ipython3",
   "version": "3.12.0"
  }
 },
 "nbformat": 4,
 "nbformat_minor": 2
}
