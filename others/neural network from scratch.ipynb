{
 "cells": [
  {
   "cell_type": "code",
   "execution_count": 2,
   "metadata": {},
   "outputs": [
    {
     "name": "stdout",
     "output_type": "stream",
     "text": [
      "4.6\n"
     ]
    }
   ],
   "source": [
    "inputs = [1,2,3,4]\n",
    "weights = [0.1,0.5,-0.3,0.6]\n",
    "bias = 2\n",
    "output = inputs[0]*weights[0] + inputs[1]*weights[1] + inputs[2]*weights[2] + inputs[3]*weights[3] + bias\n",
    "print(output)"
   ]
  },
  {
   "cell_type": "code",
   "execution_count": 1,
   "metadata": {},
   "outputs": [
    {
     "name": "stdout",
     "output_type": "stream",
     "text": [
      "[4.8, 1.21, 2.385]\n"
     ]
    }
   ],
   "source": [
    "inputs = [1, 2, 3, 2.5]\n",
    "weights = [[0.2, 0.8, -0.5, 1],\n",
    "[0.5, -0.91, 0.26, -0.5],\n",
    "[-0.26, -0.27, 0.17, 0.87]]\n",
    "biases = [2, 3, 0.5]\n",
    "layer_outputs = [] # Output of current layer\n",
    "for neuron_weights,neuron_bias in zip(weights,biases):\n",
    "    neuron_output = 0 # Output of given neuron\n",
    "    for n_input, weight in zip(inputs, neuron_weights):\n",
    "        neuron_output += n_input*weight\n",
    "    neuron_output += neuron_bias\n",
    "    layer_outputs.append(neuron_output)\n",
    "print(layer_outputs)\n"
   ]
  },
  {
   "cell_type": "code",
   "execution_count": 10,
   "metadata": {},
   "outputs": [
    {
     "name": "stdout",
     "output_type": "stream",
     "text": [
      "[10.93, 0.33000000000000007, 9.55]\n"
     ]
    }
   ],
   "source": [
    "inputs = [1,4,5,3,0.5,4.6]\n",
    "weights = [[0.2,0.8,-0.5,1,0.7,0.8],\n",
    "[0.5,-0.91,0.26,-0.5,0.1,-0.3],\n",
    "[-0.26,-0.27,0.17,0.87,0.1,-0.2]]\n",
    "biases = [3,5,8.3,0.5]\n",
    "layer_outputs = []\n",
    "for neuron_weights,neuron_biases in zip(weights,biases):\n",
    "    neuron_output = 0\n",
    "    for n_inputs,weight in zip(inputs,neuron_weights):\n",
    "        neuron_output += n_inputs*weight\n",
    "    neuron_output += neuron_biases\n",
    "    layer_outputs.append(neuron_output)\n",
    "print(layer_outputs)"
   ]
  },
  {
   "cell_type": "code",
   "execution_count": 12,
   "metadata": {},
   "outputs": [
    {
     "name": "stdout",
     "output_type": "stream",
     "text": [
      "9.55\n"
     ]
    }
   ],
   "source": [
    "neuron_output = sum([n_input*weight for n_input,weight in zip(inputs,neuron_weights)]) + neuron_biases\n",
    "print(neuron_output)"
   ]
  },
  {
   "cell_type": "code",
   "execution_count": 4,
   "metadata": {},
   "outputs": [
    {
     "name": "stdout",
     "output_type": "stream",
     "text": [
      "6.4\n"
     ]
    }
   ],
   "source": [
    "inputs = [1,2,3,5,4]\n",
    "weights=[0.4,0.3,-0.2,0.8]\n",
    "bias = 2\n",
    "output = weights[0]*inputs[0] + weights[1]*inputs[1] + weights[2]*inputs[2] + weights[3]*inputs[3] + bias\n",
    "print(output)\n",
    "\n",
    "\n"
   ]
  },
  {
   "cell_type": "code",
   "execution_count": null,
   "metadata": {},
   "outputs": [],
   "source": [
    "inputs = [1, 2, 3, 2.5]\n",
    "weights1 = [0.2, 0.8, -0.5, 1]\n",
    "weights2 = [0.5, -0.91, 0.26, -0.5]\n",
    "weights3 = [-0.26, -0.27, 0.17, 0.87]\n",
    "bias1 = 2\n",
    "bias2 = 3\n",
    "bias3 = 0.5\n",
    "\n",
    "output = [\n",
    "    #Neuron 1\n",
    "    inputs[0]*weights1[0] +\n",
    "    inputs[1]*weights1[1] +\n",
    "    inputs[2]*weights1[2] +\n",
    "    inputs[3]*weights1[3] + bias1,\n",
    "\n",
    "    #Neuron 2\n",
    "    \n",
    "]"
   ]
  }
 ],
 "metadata": {
  "kernelspec": {
   "display_name": "python_eda",
   "language": "python",
   "name": "python3"
  },
  "language_info": {
   "codemirror_mode": {
    "name": "ipython",
    "version": 3
   },
   "file_extension": ".py",
   "mimetype": "text/x-python",
   "name": "python",
   "nbconvert_exporter": "python",
   "pygments_lexer": "ipython3",
   "version": "3.11.0"
  }
 },
 "nbformat": 4,
 "nbformat_minor": 2
}
