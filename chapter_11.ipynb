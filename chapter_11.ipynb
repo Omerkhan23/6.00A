{
 "cells": [
  {
   "cell_type": "code",
   "execution_count": 23,
   "metadata": {},
   "outputs": [],
   "source": [
    "def c_to_f(c):\n",
    "    return c*9/5 + 32"
   ]
  },
  {
   "cell_type": "code",
   "execution_count": 24,
   "metadata": {},
   "outputs": [
    {
     "name": "stdout",
     "output_type": "stream",
     "text": [
      "0.0 s\n"
     ]
    }
   ],
   "source": [
    "import time\n",
    "start_time = time.time()\n",
    "c_to_f(43)\n",
    "time_taken = time.time() - start_time\n",
    "print(time_taken,'s')"
   ]
  },
  {
   "cell_type": "code",
   "execution_count": 25,
   "metadata": {},
   "outputs": [],
   "source": [
    "from itertools import accumulate\n",
    "L = list(accumulate(range(8),lambda x,_: x*10,initial = 1))"
   ]
  },
  {
   "cell_type": "code",
   "execution_count": 26,
   "metadata": {},
   "outputs": [
    {
     "data": {
      "text/plain": [
       "[1, 10, 100, 1000, 10000, 100000, 1000000, 10000000, 100000000]"
      ]
     },
     "execution_count": 26,
     "metadata": {},
     "output_type": "execute_result"
    }
   ],
   "source": [
    "L"
   ]
  },
  {
   "cell_type": "code",
   "execution_count": 27,
   "metadata": {},
   "outputs": [],
   "source": [
    "def time_wrappper(f,L):\n",
    "    print('Timing',f.__name__)\n",
    "    for i in L:\n",
    "        s_t = time.time()\n",
    "        f(i)\n",
    "        dt = time.time() - s_t\n",
    "        print(f\"{f.__name__}({i}) takes about {dt} sec\")"
   ]
  },
  {
   "cell_type": "code",
   "execution_count": 28,
   "metadata": {},
   "outputs": [
    {
     "name": "stdout",
     "output_type": "stream",
     "text": [
      "Timing c_to_f\n",
      "c_to_f(1) takes about 0.0 sec\n",
      "c_to_f(10) takes about 0.0 sec\n",
      "c_to_f(100) takes about 0.0 sec\n",
      "c_to_f(1000) takes about 0.0 sec\n",
      "c_to_f(10000) takes about 0.0 sec\n",
      "c_to_f(100000) takes about 0.0 sec\n",
      "c_to_f(1000000) takes about 0.0 sec\n",
      "c_to_f(10000000) takes about 0.0 sec\n",
      "c_to_f(100000000) takes about 0.0 sec\n"
     ]
    }
   ],
   "source": [
    "time_wrappper(c_to_f,L)"
   ]
  },
  {
   "cell_type": "code",
   "execution_count": 29,
   "metadata": {},
   "outputs": [],
   "source": [
    "def accumulated_sum(x):\n",
    "    total = 0\n",
    "    for i in range(x+1):\n",
    "        total += i\n",
    "    return total\n",
    "    "
   ]
  },
  {
   "cell_type": "code",
   "execution_count": 30,
   "metadata": {},
   "outputs": [
    {
     "name": "stdout",
     "output_type": "stream",
     "text": [
      "Timing accumulated_sum\n",
      "accumulated_sum(1) takes about 0.0 sec\n",
      "accumulated_sum(10) takes about 0.0 sec\n",
      "accumulated_sum(100) takes about 0.0 sec\n",
      "accumulated_sum(1000) takes about 0.0 sec\n",
      "accumulated_sum(10000) takes about 0.0009913444519042969 sec\n",
      "accumulated_sum(100000) takes about 0.013988971710205078 sec\n",
      "accumulated_sum(1000000) takes about 0.10399675369262695 sec\n",
      "accumulated_sum(10000000) takes about 0.753040075302124 sec\n",
      "accumulated_sum(100000000) takes about 8.996000528335571 sec\n"
     ]
    }
   ],
   "source": [
    "time_wrappper(accumulated_sum,L)"
   ]
  },
  {
   "cell_type": "code",
   "execution_count": 31,
   "metadata": {},
   "outputs": [],
   "source": [
    "def square(n):\n",
    "    sqsum = 0\n",
    "    for i in range(n):\n",
    "        for j in range(n):\n",
    "            sqsum += 1\n",
    "    return sqsum"
   ]
  },
  {
   "cell_type": "code",
   "execution_count": 32,
   "metadata": {},
   "outputs": [
    {
     "name": "stdout",
     "output_type": "stream",
     "text": [
      "Timing square\n",
      "square(1) takes about 0.0 sec\n",
      "square(10) takes about 0.0 sec\n",
      "square(100) takes about 0.0010061264038085938 sec\n",
      "square(1000) takes about 0.10798788070678711 sec\n"
     ]
    },
    {
     "ename": "KeyboardInterrupt",
     "evalue": "",
     "output_type": "error",
     "traceback": [
      "\u001b[1;31m---------------------------------------------------------------------------\u001b[0m",
      "\u001b[1;31mKeyboardInterrupt\u001b[0m                         Traceback (most recent call last)",
      "Cell \u001b[1;32mIn[32], line 1\u001b[0m\n\u001b[1;32m----> 1\u001b[0m \u001b[43mtime_wrappper\u001b[49m\u001b[43m(\u001b[49m\u001b[43msquare\u001b[49m\u001b[43m,\u001b[49m\u001b[43mL\u001b[49m\u001b[43m)\u001b[49m\n",
      "Cell \u001b[1;32mIn[27], line 5\u001b[0m, in \u001b[0;36mtime_wrappper\u001b[1;34m(f, L)\u001b[0m\n\u001b[0;32m      3\u001b[0m \u001b[38;5;28;01mfor\u001b[39;00m i \u001b[38;5;129;01min\u001b[39;00m L:\n\u001b[0;32m      4\u001b[0m     s_t \u001b[38;5;241m=\u001b[39m time\u001b[38;5;241m.\u001b[39mtime()\n\u001b[1;32m----> 5\u001b[0m     \u001b[43mf\u001b[49m\u001b[43m(\u001b[49m\u001b[43mi\u001b[49m\u001b[43m)\u001b[49m\n\u001b[0;32m      6\u001b[0m     dt \u001b[38;5;241m=\u001b[39m time\u001b[38;5;241m.\u001b[39mtime() \u001b[38;5;241m-\u001b[39m s_t\n\u001b[0;32m      7\u001b[0m     \u001b[38;5;28mprint\u001b[39m(\u001b[38;5;124mf\u001b[39m\u001b[38;5;124m\"\u001b[39m\u001b[38;5;132;01m{\u001b[39;00mf\u001b[38;5;241m.\u001b[39m\u001b[38;5;18m__name__\u001b[39m\u001b[38;5;132;01m}\u001b[39;00m\u001b[38;5;124m(\u001b[39m\u001b[38;5;132;01m{\u001b[39;00mi\u001b[38;5;132;01m}\u001b[39;00m\u001b[38;5;124m) takes about \u001b[39m\u001b[38;5;132;01m{\u001b[39;00mdt\u001b[38;5;132;01m}\u001b[39;00m\u001b[38;5;124m sec\u001b[39m\u001b[38;5;124m\"\u001b[39m)\n",
      "Cell \u001b[1;32mIn[31], line 5\u001b[0m, in \u001b[0;36msquare\u001b[1;34m(n)\u001b[0m\n\u001b[0;32m      3\u001b[0m \u001b[38;5;28;01mfor\u001b[39;00m i \u001b[38;5;129;01min\u001b[39;00m \u001b[38;5;28mrange\u001b[39m(n):\n\u001b[0;32m      4\u001b[0m     \u001b[38;5;28;01mfor\u001b[39;00m j \u001b[38;5;129;01min\u001b[39;00m \u001b[38;5;28mrange\u001b[39m(n):\n\u001b[1;32m----> 5\u001b[0m         sqsum \u001b[38;5;241m+\u001b[39m\u001b[38;5;241m=\u001b[39m \u001b[38;5;241m1\u001b[39m\n\u001b[0;32m      6\u001b[0m \u001b[38;5;28;01mreturn\u001b[39;00m sqsum\n",
      "\u001b[1;31mKeyboardInterrupt\u001b[0m: "
     ]
    }
   ],
   "source": [
    "time_wrappper(square,L)"
   ]
  },
  {
   "cell_type": "code",
   "execution_count": 33,
   "metadata": {},
   "outputs": [],
   "source": [
    "\n",
    "## -------------------------------------------------- ##\n",
    "## EXAMPLE: counting the number of operations\n",
    "## -------------------------------------------------- ##\n",
    "\n",
    "## constant fcn with counting the number of ops\n",
    "def c_to_f(c):\n",
    "    counter = 3\n",
    "    return (counter, c*9.0/5 + 32)\n",
    "\n",
    "# linear fcn  with counting the number of ops\n",
    "def mysum(x):\n",
    "    counter = 1\n",
    "    total = 0\n",
    "    for i in range(x+1):\n",
    "        counter += 3\n",
    "        total += i\n",
    "    return (counter, total)\n",
    "\n",
    "# quadratic fcn  with counting the number of ops\n",
    "def square(n):\n",
    "    counter = 1\n",
    "    mysum = 0\n",
    "    for i in range(n):\n",
    "        counter += 1\n",
    "        for j in range(n):\n",
    "            counter += 3\n",
    "            mysum += 1\n",
    "    return (counter, mysum)\n",
    "\n",
    "# helper function to show number of operations\n",
    "def count_wrapper(f, L):\n",
    "    print('Counting', f.__name__)\n",
    "    for i in L:\n",
    "        counter = f(i)[0]\n",
    "        if i == min(L):\n",
    "            multiplier = 1.0\n",
    "        else:\n",
    "            multiplier = counter/float(prev)\n",
    "        prev = counter\n",
    "        print(f\"{f.__name__}({i}): {counter} ops, {round(multiplier,5)} x more\")\n",
    "\n"
   ]
  },
  {
   "cell_type": "code",
   "execution_count": 36,
   "metadata": {},
   "outputs": [],
   "source": [
    "L1 = [100]\n",
    "for i in range(5):\n",
    "    L1.append(L1[-1]*10)\n",
    "L2_a = [128, 256, 512, 1024, 2048, 4096, 8192]\n",
    "L2_b = [1, 10, 100, 1000, 10000]"
   ]
  },
  {
   "cell_type": "code",
   "execution_count": 37,
   "metadata": {},
   "outputs": [
    {
     "name": "stdout",
     "output_type": "stream",
     "text": [
      "Counting c_to_f\n",
      "c_to_f(100): 3 ops, 1.0 x more\n",
      "c_to_f(1000): 3 ops, 1.0 x more\n",
      "c_to_f(10000): 3 ops, 1.0 x more\n",
      "c_to_f(100000): 3 ops, 1.0 x more\n",
      "c_to_f(1000000): 3 ops, 1.0 x more\n",
      "c_to_f(10000000): 3 ops, 1.0 x more\n",
      "Counting mysum\n",
      "mysum(100): 304 ops, 1.0 x more\n",
      "mysum(1000): 3004 ops, 9.88158 x more\n",
      "mysum(10000): 30004 ops, 9.98802 x more\n",
      "mysum(100000): 300004 ops, 9.9988 x more\n",
      "mysum(1000000): 3000004 ops, 9.99988 x more\n",
      "mysum(10000000): 30000004 ops, 9.99999 x more\n",
      "Counting square\n",
      "square(128): 49281 ops, 1.0 x more\n",
      "square(256): 196865 ops, 3.99474 x more\n",
      "square(512): 786945 ops, 3.99738 x more\n",
      "square(1024): 3146753 ops, 3.99869 x more\n",
      "square(2048): 12584961 ops, 3.99935 x more\n",
      "square(4096): 50335745 ops, 3.99967 x more\n",
      "square(8192): 201334785 ops, 3.99984 x more\n",
      "Counting square\n",
      "square(1): 5 ops, 1.0 x more\n",
      "square(10): 311 ops, 62.2 x more\n",
      "square(100): 30101 ops, 96.78778 x more\n",
      "square(1000): 3001001 ops, 99.69772 x more\n",
      "square(10000): 300010001 ops, 99.96998 x more\n"
     ]
    }
   ],
   "source": [
    "count_wrapper(c_to_f, L1)\n",
    "count_wrapper(mysum, L1)\n",
    "count_wrapper(square, L2_a)\n",
    "count_wrapper(square, L2_b)"
   ]
  },
  {
   "cell_type": "code",
   "execution_count": 38,
   "metadata": {},
   "outputs": [],
   "source": [
    "def m_to_kms(m):\n",
    "    return m * 1.609\n",
    "\n",
    "def compound(invest,interest,n_months):\n",
    "    total = 0\n",
    "    for i in range(n_months):\n",
    "        total = total * interest + invest\n",
    "    return total\n",
    "    "
   ]
  },
  {
   "cell_type": "code",
   "execution_count": 39,
   "metadata": {},
   "outputs": [],
   "source": [
    "L_3 = [1]\n",
    "for i in range(7):\n",
    "    L_3.append(L_3[-1]*10)\n"
   ]
  },
  {
   "cell_type": "code",
   "execution_count": 40,
   "metadata": {},
   "outputs": [
    {
     "data": {
      "text/plain": [
       "[1, 10, 100, 1000, 10000, 100000, 1000000, 10000000]"
      ]
     },
     "execution_count": 40,
     "metadata": {},
     "output_type": "execute_result"
    }
   ],
   "source": [
    "L_3"
   ]
  },
  {
   "cell_type": "code",
   "execution_count": null,
   "metadata": {},
   "outputs": [
    {
     "name": "stdout",
     "output_type": "stream",
     "text": [
      "compound(1) took 9.60e-06 sec\n",
      "compound(10) took 5.70e-06 sec\n",
      "compound(100) took 2.80e-06 sec\n",
      "compound(1000) took 3.40e-06 sec\n",
      "compound(10000) took 2.50e-06 sec\n",
      "compound(100000) took 2.50e-06 sec\n",
      "compound(1000000) took 2.50e-06 sec\n",
      "compound(10000000) took 2.10e-06 sec\n"
     ]
    }
   ],
   "source": [
    "#if we change investment\n",
    "for n in L_3:\n",
    "    start_time = time.perf_counter()\n",
    "    money = compound(n,1.05,12)\n",
    "    dt = time.perf_counter() - start_time\n",
    "    print(f\"compound({n}) took {dt:.2e} sec\")"
   ]
  },
  {
   "cell_type": "code",
   "execution_count": null,
   "metadata": {},
   "outputs": [
    {
     "name": "stdout",
     "output_type": "stream",
     "text": [
      "compound(1) took 3.28e-05 sec\n",
      "compound(10) took 1.20e-05 sec\n",
      "compound(100) took 2.06e-05 sec\n",
      "compound(1000) took 2.39e-04 sec\n",
      "compound(10000) took 2.56e-03 sec\n",
      "compound(100000) took 2.09e-02 sec\n",
      "compound(1000000) took 2.50e-01 sec\n",
      "compound(10000000) took 1.12e+00 sec\n"
     ]
    }
   ],
   "source": [
    "# if we change n_months\n",
    "for n in L_3:\n",
    "    start_time = time.perf_counter()\n",
    "    money = compound(10,1.05,n)\n",
    "    dt = time.perf_counter() - start_time\n",
    "    print(f\"compound({n}) took {dt:.2e} sec\")\n",
    "\n",
    "#chane in n_months do change the time for operations to be done    "
   ]
  },
  {
   "cell_type": "code",
   "execution_count": null,
   "metadata": {},
   "outputs": [],
   "source": [
    "class Calculator(object):\n",
    "    def __init__(self,name:str ,version:int) -> None:\n",
    "        self.name = name\n",
    "        self.version = version\n",
    "    def get_info(self) -> str:\n",
    "        return f'{self.name} Version:{self.version}'\n",
    "    @staticmethod #for explanation idently.io @staticmethod video\n",
    "    def add_all(*numbers:int) -> int:\n",
    "        return sum(numbers)\n",
    "    \n",
    "        "
   ]
  },
  {
   "cell_type": "code",
   "execution_count": 48,
   "metadata": {},
   "outputs": [
    {
     "name": "stdout",
     "output_type": "stream",
     "text": [
      "khan_calculator Version:12\n",
      "15\n"
     ]
    }
   ],
   "source": [
    "calc:Calculator = Calculator('khan_calculator',12)\n",
    "print(calc.get_info())\n",
    "print(calc.add_all(1,2,3,4,5))"
   ]
  },
  {
   "cell_type": "code",
   "execution_count": 49,
   "metadata": {},
   "outputs": [],
   "source": [
    "from typing import Callable\n",
    "from functools import wraps\n",
    "from time import perf_counter\n"
   ]
  },
  {
   "cell_type": "code",
   "execution_count": 70,
   "metadata": {},
   "outputs": [],
   "source": [
    "def get_time(func:Callable) -> Callable:\n",
    "    @wraps(func)\n",
    "    def wrapper(*args,**keywords) -> None:\n",
    "        start_time = perf_counter()\n",
    "        print(func(*args,**keywords))\n",
    "        end_time = perf_counter()\n",
    "        print(f\"{func.__name__} took {end_time - start_time:.3f} sec\")\n",
    "    return wrapper\n",
    "        "
   ]
  },
  {
   "cell_type": "code",
   "execution_count": 80,
   "metadata": {},
   "outputs": [],
   "source": [
    "@get_time\n",
    "def compound(invest,interest,n_months):\n",
    "    total = 0\n",
    "    for i in range(n_months):\n",
    "        total = total * interest + invest\n",
    "    return total\n",
    "\n"
   ]
  },
  {
   "cell_type": "code",
   "execution_count": 81,
   "metadata": {},
   "outputs": [
    {
     "name": "stdout",
     "output_type": "stream",
     "text": [
      "159171265.20442584\n",
      "compound took 0.000 sec\n"
     ]
    }
   ],
   "source": [
    "compound(10000000,1.05,12)\n"
   ]
  },
  {
   "cell_type": "code",
   "execution_count": null,
   "metadata": {},
   "outputs": [],
   "source": [
    "# Dataclasses video from idently.io\n",
    "from dataclasses import dataclass\n"
   ]
  },
  {
   "cell_type": "code",
   "execution_count": 83,
   "metadata": {},
   "outputs": [],
   "source": [
    "@dataclass\n",
    "class Person:\n",
    "    name:str\n",
    "    age:int\n",
    "    freinds:list[str]\n",
    "\n",
    "Bob:Person = Person('Bob',29,['khan','Billa'])    "
   ]
  },
  {
   "cell_type": "code",
   "execution_count": 84,
   "metadata": {},
   "outputs": [
    {
     "name": "stdout",
     "output_type": "stream",
     "text": [
      "Person(name='Bob', age=29, freinds=['khan', 'Billa'])\n"
     ]
    }
   ],
   "source": [
    "print(Bob)"
   ]
  },
  {
   "cell_type": "code",
   "execution_count": 85,
   "metadata": {},
   "outputs": [],
   "source": [
    "@dataclass\n",
    "class rectangle:\n",
    "    width:float\n",
    "    height:float\n",
    "\n",
    "    @property\n",
    "    def area(self) -> float:\n",
    "        return self.width * self.height\n",
    "    @property \n",
    "    def perimeter(self) -> float:\n",
    "        return 2*(self.width + self.height)\n",
    "    \n",
    "    def describe(self) -> None:\n",
    "        print(f'{self}')\n",
    "        print(f'Area:{self.area}')\n",
    "        print(f'Perimeter:{self.perimeter}')\n",
    "            \n",
    "\n",
    "\n",
    "\n"
   ]
  },
  {
   "cell_type": "code",
   "execution_count": 88,
   "metadata": {},
   "outputs": [
    {
     "name": "stdout",
     "output_type": "stream",
     "text": [
      "rectangle(width=12, height=43)\n",
      "Area:516\n",
      "Perimeter:110\n"
     ]
    }
   ],
   "source": [
    "A:rectangle = rectangle(12,43)\n",
    "A.describe()"
   ]
  },
  {
   "cell_type": "code",
   "execution_count": null,
   "metadata": {},
   "outputs": [
    {
     "data": {
      "image/png": "[encoded data removed]",
      "text/plain": [
       "<Figure size 1000x600 with 1 Axes>"
      ]
     },
     "metadata": {},
     "output_type": "display_data"
    }
   ],
   "source": [
    "#calculating upper bound and without c scalling and visualizing the effect\n",
    "import numpy as np\n",
    "import matplotlib.pyplot as plt\n",
    "\n",
    "# Define functions\n",
    "def f(n):\n",
    "    return 2 * n**2 + 3 * n + 7  # Example function\n",
    "\n",
    "def g(n, c=1):\n",
    "    return c * n**2  # g(n) scaled by c\n",
    "\n",
    "# Generate values for n\n",
    "n_values = np.linspace(0, 50, 100)\n",
    "\n",
    "# Compute function values\n",
    "f_values = f(n_values)\n",
    "g1_values = g(n_values, c=1)  # g(n) without scaling\n",
    "g2_values = g(n_values, c=3)  # g(n) with a larger c\n",
    "\n",
    "# Plot the functions\n",
    "plt.figure(figsize=(10, 6))\n",
    "plt.plot(n_values, f_values, label=r'$f(n) = 2n^2 + 3n + 7$', color='blue', linewidth=2)\n",
    "plt.plot(n_values, g1_values, label=r'$g(n) = n^2$', linestyle='dashed', color='red')\n",
    "plt.plot(n_values, g2_values, label=r'$3 \\cdot g(n) = 3n^2$', linestyle='dotted', color='green')\n",
    "\n",
    "# Highlight the n0 threshold\n",
    "plt.axvline(x=10, color='gray', linestyle='--', label=r'$n_0$ (Threshold)')\n",
    "\n",
    "# Labels and legend\n",
    "plt.xlabel(\"Input Size (n)\")\n",
    "plt.ylabel(\"Function Value\")\n",
    "plt.title(\"Visualization of Big O Upper Bound with c Scaling\")\n",
    "plt.legend()\n",
    "plt.grid(True)\n",
    "\n",
    "# Show the plot\n",
    "plt.show()\n"
   ]
  },
  {
   "cell_type": "code",
   "execution_count": 1,
   "metadata": {},
   "outputs": [
    {
     "data": {
      "image/png": "[encoded data removed]",
      "text/plain": [
       "<Figure size 800x600 with 1 Axes>"
      ]
     },
     "metadata": {},
     "output_type": "display_data"
    }
   ],
   "source": [
    "import numpy as np\n",
    "import matplotlib.pyplot as plt\n",
    "\n",
    "def f(x):\n",
    "    return (2*x**2 - 10*x + 12) / (x * (x - 3)**2)\n",
    "\n",
    "# We'll plot in two segments around x=3 to avoid the singularity exactly at x=3.\n",
    "x_left = np.linspace(0.5, 2.99, 400)    # from 0.5 to just before 3\n",
    "x_right = np.linspace(3.01, 5, 400)     # from just after 3 to 5\n",
    "\n",
    "plt.figure(figsize=(8, 6))\n",
    "\n",
    "# Plot the function on the left side of x=3\n",
    "plt.plot(x_left, f(x_left), 'b', label='f(x), x < 3')\n",
    "\n",
    "# Plot the function on the right side of x=3\n",
    "plt.plot(x_right, f(x_right), 'r', label='f(x), x > 3')\n",
    "\n",
    "# Draw a vertical line at x=3 to show the asymptote\n",
    "plt.axvline(x=3, color='k', linestyle='--', label='x=3 (vertical asymptote)')\n",
    "\n",
    "plt.xlabel('x')\n",
    "plt.ylabel('f(x)')\n",
    "plt.title('Graph of f(x) = (2x² - 10x + 12) / [x (x - 3)²]')\n",
    "plt.grid(True)\n",
    "plt.ylim(-25, 25)   # Adjust the y-limits to see the blow-up more clearly\n",
    "plt.legend()\n",
    "plt.show()\n"
   ]
  },
  {
   "cell_type": "code",
   "execution_count": 91,
   "metadata": {},
   "outputs": [],
   "source": [
    "# figure 10.1 page # 205\n",
    "class int_set(object):\n",
    "    def __init__(self):\n",
    "        self._elems = []\n",
    "    def insert(self,elem):\n",
    "        if elem not in self._elems:\n",
    "            self._elems.append(elem)\n",
    "    def remove(self,elem):\n",
    "        try:\n",
    "            self._elems.remove(elem)\n",
    "        except:\n",
    "            raise ValueError(str(elem),'not found')  \n",
    "    def memeber(self,e):\n",
    "        return e in self._elems \n",
    "    def get_members(self):\n",
    "        return self._elems[:]\n",
    "    def __add__(self,other):\n",
    "\n",
    "\n",
    "        for e in other._elems:\n",
    "            if e not in self._elems:\n",
    "                self._elems.append(e)\n",
    "\n",
    "               \n",
    "        \n",
    "    def __str__(self):\n",
    "        if self._elems == []:\n",
    "            return '{}'\n",
    "        self._elems.sort()\n",
    "        result = ''\n",
    "        for e in self._elems:\n",
    "            result += str(e)+','\n",
    "        return f'{{{result[:-1]}}}' \n",
    "             "
   ]
  },
  {
   "cell_type": "code",
   "execution_count": 92,
   "metadata": {},
   "outputs": [],
   "source": [
    "a = int_set()\n",
    "b = int_set()\n",
    "\n"
   ]
  },
  {
   "cell_type": "code",
   "execution_count": 93,
   "metadata": {},
   "outputs": [],
   "source": [
    "b.insert(1)\n",
    "b.insert(2)\n",
    "b.insert(6)\n",
    "b.insert(7)\n",
    "b.insert(10)\n",
    "b.insert(5)"
   ]
  },
  {
   "cell_type": "code",
   "execution_count": 94,
   "metadata": {},
   "outputs": [],
   "source": [
    "a.insert(1)\n",
    "a.insert(3)\n",
    "a.insert(4)\n",
    "a.insert(8)\n",
    "a.insert(9)\n",
    "a.insert(5)"
   ]
  },
  {
   "cell_type": "code",
   "execution_count": 95,
   "metadata": {},
   "outputs": [
    {
     "name": "stdout",
     "output_type": "stream",
     "text": [
      "{1,3,4,5,8,9}\n",
      "{1,2,5,6,7,10}\n"
     ]
    }
   ],
   "source": [
    "print(a)\n",
    "print(b)"
   ]
  },
  {
   "cell_type": "code",
   "execution_count": 96,
   "metadata": {},
   "outputs": [
    {
     "name": "stdout",
     "output_type": "stream",
     "text": [
      "{1,2,3,4,5,6,7,8,9,10}\n"
     ]
    }
   ],
   "source": [
    "a+b\n",
    "print(a)"
   ]
  },
  {
   "cell_type": "code",
   "execution_count": 97,
   "metadata": {},
   "outputs": [],
   "source": [
    "l = [1,3,5,7,9]\n",
    "m = [1,2,4,5,6,10]\n"
   ]
  },
  {
   "cell_type": "code",
   "execution_count": 98,
   "metadata": {},
   "outputs": [
    {
     "data": {
      "text/plain": [
       "[3, 7, 9]"
      ]
     },
     "execution_count": 98,
     "metadata": {},
     "output_type": "execute_result"
    }
   ],
   "source": [
    "s = []\n",
    "for e in l:\n",
    "    if e not in m:\n",
    "        s.append(e)\n",
    "\n",
    "s        "
   ]
  },
  {
   "cell_type": "code",
   "execution_count": 99,
   "metadata": {},
   "outputs": [
    {
     "data": {
      "text/plain": [
       "[1, 2, 4, 5, 6, 10, 3, 7, 9]"
      ]
     },
     "execution_count": 99,
     "metadata": {},
     "output_type": "execute_result"
    }
   ],
   "source": [
    "m+s"
   ]
  },
  {
   "cell_type": "code",
   "execution_count": null,
   "metadata": {},
   "outputs": [],
   "source": []
  }
 ],
 "metadata": {
  "kernelspec": {
   "display_name": "Python 3",
   "language": "python",
   "name": "python3"
  },
  "language_info": {
   "codemirror_mode": {
    "name": "ipython",
    "version": 3
   },
   "file_extension": ".py",
   "mimetype": "text/x-python",
   "name": "python",
   "nbconvert_exporter": "python",
   "pygments_lexer": "ipython3",
   "version": "3.12.0"
  }
 },
 "nbformat": 4,
 "nbformat_minor": 2
}
