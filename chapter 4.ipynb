{
 "cells": [
  {
   "cell_type": "markdown",
   "metadata": {},
   "source": [
    "Lecture 7 "
   ]
  },
  {
   "cell_type": "code",
   "execution_count": 1,
   "metadata": {},
   "outputs": [
    {
     "name": "stdout",
     "output_type": "stream",
     "text": [
      "False\n",
      "True\n"
     ]
    }
   ],
   "source": [
    "def div_by(n,d):\n",
    "    \"\"\"n and d are ints > 0 ;\n",
    "    Return True if n and d divides evenly and False otherwise\"\"\"\n",
    "    return n%d == 0\n",
    "\n",
    "print(div_by(10,3))\n",
    "print(div_by(195,13))\n",
    "\n"
   ]
  },
  {
   "cell_type": "code",
   "execution_count": 2,
   "metadata": {},
   "outputs": [
    {
     "name": "stdout",
     "output_type": "stream",
     "text": [
      "3\n"
     ]
    }
   ],
   "source": [
    "def eval_quadratic(a, b, c, x):\n",
    "    \"\"\"\n",
    "    a, b, c: numerical values for the coefficients of a quadratic equation\n",
    "    x: numerical value at which to evaluate the quadratic.\n",
    "    Returns the value of the quadratic a*x**2 + b*x + c.\n",
    "\n",
    "    \"\"\"\n",
    "    return a*x**2 + b*x + c\n",
    "\n",
    "print(eval_quadratic(1,1,1,1))"
   ]
  },
  {
   "cell_type": "code",
   "execution_count": 6,
   "metadata": {},
   "outputs": [
    {
     "name": "stdout",
     "output_type": "stream",
     "text": [
      "6\n",
      "None\n"
     ]
    }
   ],
   "source": [
    "def two_quadratics(a1, b1, c1, x1, a2, b2, c2, x2):\n",
    "    \"\"\"\n",
    "    a1, b1, c1: one set of coefficients of a quadratic equation\n",
    "    a2, b2, c2: another set of coefficients of a quadratic equation\n",
    "    x1, x2: values at which to evaluate the quadratics\n",
    "    Evaluates one quadratic with coefficients a1, b1, c1, at x1.\n",
    "    Evaluates another quadratic with coefficients a2, b2, c2, at x2.\n",
    "    Prints the sum of the two evaluations. Does not return anything.\n",
    "    \"\"\"\n",
    "    print ((a1*x1**2 + b1*x1 + c1) + (a2*x2**2 + b2*x2 + c2))\n",
    "print(two_quadratics(1,1,1,1,1,1,1,1,))    "
   ]
  },
  {
   "cell_type": "markdown",
   "metadata": {},
   "source": [
    " EXAMPLE: sum of all odd numbers between (including) a and b"
   ]
  },
  {
   "cell_type": "code",
   "execution_count": 8,
   "metadata": {},
   "outputs": [
    {
     "data": {
      "text/plain": [
       "4"
      ]
     },
     "execution_count": 8,
     "metadata": {},
     "output_type": "execute_result"
    }
   ],
   "source": [
    "# using for loop \n",
    "def sum_odd(a,b):\n",
    "    sum_of_odds = 0\n",
    "    for i in range(a,b+1):\n",
    "        if i%2 != 0:\n",
    "            sum_of_odds += i\n",
    "    return sum_of_odds\n",
    "\n",
    "sum_odd(1,4)\n",
    "        "
   ]
  },
  {
   "cell_type": "code",
   "execution_count": 12,
   "metadata": {},
   "outputs": [
    {
     "data": {
      "text/plain": [
       "9"
      ]
     },
     "execution_count": 12,
     "metadata": {},
     "output_type": "execute_result"
    }
   ],
   "source": [
    "# Using while loop\n",
    "def sum_odd_while(a,b):\n",
    "    sum_of_odds_while = 0\n",
    "    i = a\n",
    "    while i <= b:\n",
    "        \n",
    "        if i%2 != 0:\n",
    "            sum_of_odds_while += i\n",
    "        i += 1\n",
    "    return sum_of_odds_while\n",
    "        \n",
    "sum_odd_while(1,5)\n"
   ]
  },
  {
   "cell_type": "code",
   "execution_count": 1,
   "metadata": {},
   "outputs": [
    {
     "name": "stdout",
     "output_type": "stream",
     "text": [
      "True\n"
     ]
    }
   ],
   "source": [
    "def palindrome(s):\n",
    "    \"\"\"s is a string\n",
    "    Returns True if s is palindrome and False otherwise\"\"\"\n",
    "    reverse = ''\n",
    "    i = 1\n",
    "    while i <= len(s): # we can put both i and len(reverse) but we have to change operators \n",
    "        #like if we put i we have to put <= and \n",
    "        # if we put len(reverse) we have to put only < because \n",
    "        # if we put <= the while loop will run infinitely as reverse cannot be grater than s\n",
    "\n",
    "        reverse += s[-i]\n",
    "        i += 1\n",
    "    return reverse == s\n",
    "\n",
    "s = \"2222\"    \n",
    "print(palindrome(s))        "
   ]
  },
  {
   "cell_type": "code",
   "execution_count": 16,
   "metadata": {},
   "outputs": [
    {
     "name": "stdout",
     "output_type": "stream",
     "text": [
      "peep\n"
     ]
    }
   ],
   "source": [
    "# with len (reverse) as a condition to loop\n",
    "s = \"peep\"\n",
    "reverse = ''\n",
    "i = 1\n",
    "while len(reverse) < len(s): \n",
    "    reverse += s[-i]\n",
    "    i += 1\n",
    "print(reverse)    "
   ]
  },
  {
   "cell_type": "code",
   "execution_count": 35,
   "metadata": {},
   "outputs": [
    {
     "data": {
      "text/plain": [
       "True"
      ]
     },
     "execution_count": 35,
     "metadata": {},
     "output_type": "execute_result"
    }
   ],
   "source": [
    "# with for loop\n",
    "def is_palindrome(s):\n",
    "\n",
    "   \n",
    "    reverse = ''\n",
    "    for i in range(1,len(s)+1):\n",
    "        reverse += s[-i]\n",
    "    \n",
    "    return s == reverse\n",
    "    \n",
    "s = '22222'\n",
    "is_palindrome(s)"
   ]
  },
  {
   "cell_type": "code",
   "execution_count": 36,
   "metadata": {},
   "outputs": [
    {
     "data": {
      "text/plain": [
       "True"
      ]
     },
     "execution_count": 36,
     "metadata": {},
     "output_type": "execute_result"
    }
   ],
   "source": [
    "# Another for loop example\n",
    "def is_palindrome(s):\n",
    "    \"\"\"\n",
    "    s is a string\n",
    "    Returns True if s is a palindrome and False otherwise.\n",
    "    \"\"\"\n",
    "    for i in range(len(s) // 2):  # Loop through half of the string\n",
    "        if s[i] != s[len(s) - i - 1]:  # Compare characters from both ends\n",
    "            return False  # If a mismatch is found, it's not a palindrome\n",
    "    return True  # If no mismatch, it's a palindrome\n",
    "s = 'peep'\n",
    "is_palindrome(s)"
   ]
  },
  {
   "cell_type": "code",
   "execution_count": 37,
   "metadata": {},
   "outputs": [
    {
     "data": {
      "text/plain": [
       "True"
      ]
     },
     "execution_count": 37,
     "metadata": {},
     "output_type": "execute_result"
    }
   ],
   "source": [
    "# Very simple slicing method\n",
    "def is_palindrome(s):\n",
    "    return s == s[::-1]\n",
    "\n",
    "is_palindrome('peep')"
   ]
  },
  {
   "cell_type": "code",
   "execution_count": 41,
   "metadata": {},
   "outputs": [
    {
     "data": {
      "text/plain": [
       "'bbs'"
      ]
     },
     "execution_count": 41,
     "metadata": {},
     "output_type": "execute_result"
    }
   ],
   "source": [
    "def keep_consonants(word):\n",
    "    \"\"\"word is a string of lower case letters\n",
    "    Returns a string containing only consonants of the word in order they appear\"\"\"\n",
    "\n",
    "    consonants = \"bcdfghjklmnpqrstvwxyz\" #or vowels = \"aeiou\"\n",
    "    ans = ''\n",
    "    for char in word:\n",
    "        if char in consonants:  # or if char not in vowels:\n",
    "            ans += char\n",
    "    return ans\n",
    "word = 'babas'\n",
    "keep_consonants(word)        "
   ]
  },
  {
   "cell_type": "code",
   "execution_count": 94,
   "metadata": {},
   "outputs": [
    {
     "data": {
      "text/plain": [
       "3"
      ]
     },
     "execution_count": 94,
     "metadata": {},
     "output_type": "execute_result"
    }
   ],
   "source": [
    "def first_to_last_diff(s,c):\n",
    "    \"\"\" s is a string, c is single character string\n",
    "        Returns the difference between the index where c first\n",
    "        occurs and the index where c last occurs. If c does not \n",
    "        occur in s, returns -1. \n",
    "    \"\"\"\n",
    "    if c not in s:\n",
    "        return -1\n",
    "    \n",
    "    for i in range(len(s)):\n",
    "        if s[i] == c:\n",
    "            break\n",
    "    for j in range(len(s)-1,-1,-1): # as len(s) returns value from 1 i;e if s = 'abcde' it will return 5 as len \n",
    "        #function counts from 1 but indices starts from 0 so to make sure range starts from last index we minus 1\n",
    "        # to get the correct index\n",
    "        \n",
    "        if s[i] == c:\n",
    "            break\n",
    "    return j - i\n",
    "    \n",
    "           \n",
    "     \n",
    "first_to_last_diff('aaaa','a')        \n"
   ]
  },
  {
   "cell_type": "code",
   "execution_count": 90,
   "metadata": {},
   "outputs": [
    {
     "name": "stdout",
     "output_type": "stream",
     "text": [
      "4\n",
      "10\n"
     ]
    }
   ],
   "source": [
    "s = 'ajanfwiopw'\n",
    "c = 'f'\n",
    "for i in range(len(s)):\n",
    "    if s[i] == c:\n",
    "        print(i)\n",
    "print(len(s))\n"
   ]
  },
  {
   "cell_type": "code",
   "execution_count": 89,
   "metadata": {},
   "outputs": [
    {
     "name": "stdout",
     "output_type": "stream",
     "text": [
      "4\n"
     ]
    }
   ],
   "source": [
    "s = 'ajanfwiopw'\n",
    "c = 'f'\n",
    "\n",
    "if c in s:\n",
    "    print(s.index(c))\n"
   ]
  },
  {
   "cell_type": "code",
   "execution_count": 97,
   "metadata": {},
   "outputs": [
    {
     "name": "stdout",
     "output_type": "stream",
     "text": [
      "3\n",
      "6\n",
      "-1\n"
     ]
    }
   ],
   "source": [
    "def first_to_last_diff(s, c):\n",
    "    \"\"\" s is a string, c is single character string\n",
    "        Returns the difference between the index where c first\n",
    "        occurs and the index where c last occurs. If c does not \n",
    "        occur in s, returns -1. \n",
    "    \"\"\"\n",
    "    if c not in s:\n",
    "        return -1\n",
    "    # if reach here, c is in s\n",
    "    for i in range(len(s)):\n",
    "        if s[i]==c:\n",
    "            # break here to save i as the first instance of c in s\n",
    "            break\n",
    "    # loop through s backwards\n",
    "    for j in range(len(s)-1,-1,-1):\n",
    "        if s[j]==c:\n",
    "            # break here to save j as the last instance of c in s\n",
    "            break\n",
    "    # this return is ok becasue the loops iterated through indices not chars of s\n",
    "    return j-i\n",
    "\n",
    " #For example\n",
    "print(first_to_last_diff('aaaa', 'a'))  # prints 3\n",
    "print(first_to_last_diff('abcabcabc', 'b'))  # prints 6\n",
    "print(first_to_last_diff('xyz', 'b'))  # prints -1"
   ]
  },
  {
   "cell_type": "code",
   "execution_count": 98,
   "metadata": {},
   "outputs": [
    {
     "name": "stdout",
     "output_type": "stream",
     "text": [
      "True\n"
     ]
    }
   ],
   "source": [
    "def num_in(start,end,k):\n",
    "    for i in range(start,end+1):\n",
    "        if i == k:\n",
    "            return True\n",
    "\n",
    "\n",
    "     \n",
    "print(num_in(1,10,4))\n"
   ]
  },
  {
   "cell_type": "code",
   "execution_count": 3,
   "metadata": {},
   "outputs": [
    {
     "name": "stdout",
     "output_type": "stream",
     "text": [
      "1\n",
      "2\n",
      "4\n",
      "7\n",
      "14\n",
      "True\n"
     ]
    }
   ],
   "source": [
    "def is_perfect(n):\n",
    "\n",
    "    num = 0\n",
    "    for j in range(1,n):\n",
    "        if n%j == 0:\n",
    "            \n",
    "            num += j\n",
    "            print(j)\n",
    "    if n == num:\n",
    "        return True\n",
    "    print(num)            \n",
    "print(is_perfect(28))\n",
    "\n"
   ]
  },
  {
   "cell_type": "code",
   "execution_count": 2,
   "metadata": {},
   "outputs": [
    {
     "name": "stdout",
     "output_type": "stream",
     "text": [
      "-37.87238562293351\n"
     ]
    }
   ],
   "source": [
    "def find_root(x,power,epsilon):\n",
    "    if x < 0 and power%2 == 0:\n",
    "        return None #\"Negative numbers do not have even powered roots\"\n",
    "    low = min(-1,x)\n",
    "    high = max(1,x)\n",
    "    guess = (low + high)/2\n",
    "    num_guess = 0\n",
    "    while abs(guess**power - x) >= epsilon:\n",
    "        if guess** power < x:\n",
    "            low = guess\n",
    "        else:\n",
    "            high = guess\n",
    "        guess = (low + high)/2\n",
    "        num_guess += 1\n",
    "        \n",
    "    #print(\"Number of guesses :\",num_guess)    \n",
    "    return guess #f\"{guess} is the {power} root of {x}\"\n",
    "\n",
    "     \n",
    "print (find_root(-54321,3,0.1))        \n"
   ]
  },
  {
   "cell_type": "code",
   "execution_count": 3,
   "metadata": {},
   "outputs": [
    {
     "name": "stdout",
     "output_type": "stream",
     "text": [
      "4.999988555908203\n"
     ]
    }
   ],
   "source": [
    "sum = find_root(25,2,0.001) + find_root(-8,3,0.001) + find_root(16,4,0.001)\n",
    "print(sum)"
   ]
  },
  {
   "cell_type": "code",
   "execution_count": 4,
   "metadata": {},
   "outputs": [
    {
     "name": "stdout",
     "output_type": "stream",
     "text": [
      "x =0.25, power =1, epsilon =0.1 : Okay \n",
      "x =0.25, power =1, epsilon =0.01 : Okay \n",
      "x =0.25, power =1, epsilon =0.001 : Okay \n",
      "x =0.25, power =2, epsilon =0.1 : Okay \n",
      "x =0.25, power =2, epsilon =0.01 : Okay \n",
      "x =0.25, power =2, epsilon =0.001 : Okay \n",
      "x =0.25, power =3, epsilon =0.1 : Okay \n",
      "x =0.25, power =3, epsilon =0.01 : Okay \n",
      "x =0.25, power =3, epsilon =0.001 : Okay \n",
      "x =8, power =1, epsilon =0.1 : Okay \n",
      "x =8, power =1, epsilon =0.01 : Okay \n",
      "x =8, power =1, epsilon =0.001 : Okay \n",
      "x =8, power =2, epsilon =0.1 : Okay \n",
      "x =8, power =2, epsilon =0.01 : Okay \n",
      "x =8, power =2, epsilon =0.001 : Okay \n",
      "x =8, power =3, epsilon =0.1 : Okay \n",
      "x =8, power =3, epsilon =0.01 : Okay \n",
      "x =8, power =3, epsilon =0.001 : Okay \n",
      "x =-8, power =1, epsilon =0.1 : Okay \n",
      "x =-8, power =1, epsilon =0.01 : Okay \n",
      "x =-8, power =1, epsilon =0.001 : Okay \n",
      "x =-8, power =2, epsilon =0.1 : No root exists \n",
      "x =-8, power =2, epsilon =0.01 : No root exists \n",
      "x =-8, power =2, epsilon =0.001 : No root exists \n",
      "x =-8, power =3, epsilon =0.1 : Okay \n",
      "x =-8, power =3, epsilon =0.01 : Okay \n",
      "x =-8, power =3, epsilon =0.001 : Okay \n"
     ]
    }
   ],
   "source": [
    "# testing find_root\n",
    "def test_find_root(x_vals,powers,epsilons):\n",
    "    for x in x_vals:\n",
    "        for p in powers:\n",
    "            for e in epsilons:\n",
    "                result = find_root(x,p,e)\n",
    "                if result == None:\n",
    "                    val = 'No root exists'\n",
    "                else:\n",
    "                    val = 'Okay'\n",
    "                    if abs(result**p - x) > e:\n",
    "                        val = 'Bad'\n",
    "                print(f'x ={x}, power ={p}, epsilon ={e} : {val} ')\n",
    "\n",
    "x_vals = (0.25,8,-8)\n",
    "powers = (1,2,3)\n",
    "epsilons = (0.1,0.01,0.001)\n",
    "test_find_root(x_vals,powers,epsilons)                            \n"
   ]
  },
  {
   "cell_type": "code",
   "execution_count": null,
   "metadata": {},
   "outputs": [],
   "source": []
  },
  {
   "cell_type": "markdown",
   "metadata": {},
   "source": [
    "Finger exercise: Write a function is_in that accepts two strings as\n",
    "arguments and returns True if either string occurs anywhere in the\n",
    "other, and False otherwise. Hint: you might want to use the built-in\n",
    "str operator in"
   ]
  },
  {
   "cell_type": "code",
   "execution_count": 12,
   "metadata": {},
   "outputs": [
    {
     "name": "stdout",
     "output_type": "stream",
     "text": [
      "False\n",
      "True\n",
      "True\n",
      "False\n",
      "False\n"
     ]
    }
   ],
   "source": [
    "def is_in(s1:str,s2:str): # checks for any occurence in either string from another string \n",
    "    \"\"\"s1,s2 are of type string\n",
    "    Returns True if either  string occures in another string and\n",
    "    False other wise\"\"\"\n",
    "    for char in s1:\n",
    "        if char in s2:\n",
    "            return True\n",
    "    return False    \n",
    "    \n",
    "        \n",
    "print(is_in('abc','nod')) # prints False  \n",
    "print(is_in(\"abc\", \"cab\"))  # prints True      \n",
    "print(is_in(\"abccc\", \"caaab\")) # prints True\n",
    "print(is_in(\"abcd\", \"xyzv\"))  # prints False\n",
    "print(is_in(\"abcc\", \"xyxz\")) # prints False       \n",
    "\n"
   ]
  },
  {
   "cell_type": "markdown",
   "metadata": {},
   "source": [
    "Finger exercise: Write a function to test is_in.\n",
    "\n"
   ]
  },
  {
   "cell_type": "code",
   "execution_count": null,
   "metadata": {},
   "outputs": [],
   "source": []
  },
  {
   "cell_type": "code",
   "execution_count": 31,
   "metadata": {},
   "outputs": [
    {
     "name": "stdout",
     "output_type": "stream",
     "text": [
      "5\n",
      "6\n",
      "24\n",
      "None\n"
     ]
    }
   ],
   "source": [
    "def add(x,y):\n",
    "    return x+y\n",
    "def mlt(x,y):\n",
    "    print(x*y)\n",
    "add(2,3) # doesnt print anything ,but return the vaue to show that value we have print it\n",
    "print(add(2,3)) # it prints \n",
    "mlt(2,3) # this prints because there is a print statement in function body\n",
    "print(mlt(3,8)) # it prints the product and None both,product because of print statement in function body and None because\n",
    "                #  there is no return statement and if there is no return statement it returns None and when we print \n",
    "                # the function call it prints None and the print statement in fumction body   "
   ]
  },
  {
   "cell_type": "code",
   "execution_count": 38,
   "metadata": {},
   "outputs": [
    {
     "name": "stdout",
     "output_type": "stream",
     "text": [
      "09/30/24\n"
     ]
    }
   ],
   "source": [
    "from datetime import datetime\n",
    "\n",
    "def get_time() -> str:\n",
    "    now: datetime = datetime.now()\n",
    "    return f'{now:%x}'\n",
    "print(get_time())\n"
   ]
  },
  {
   "cell_type": "code",
   "execution_count": 39,
   "metadata": {},
   "outputs": [
    {
     "data": {
      "text/plain": [
       "datetime.datetime(2024, 9, 30, 18, 1, 4, 740629)"
      ]
     },
     "execution_count": 39,
     "metadata": {},
     "output_type": "execute_result"
    }
   ],
   "source": [
    "datetime.now()"
   ]
  },
  {
   "cell_type": "code",
   "execution_count": 67,
   "metadata": {},
   "outputs": [
    {
     "name": "stdout",
     "output_type": "stream",
     "text": [
      "False\n",
      "True\n",
      "True\n"
     ]
    }
   ],
   "source": [
    "# is_triangular\n",
    "def is_triangular(n):\n",
    "    \"\"\"n is a int > 0\n",
    "    Returns True if n is triangular i:e equals\n",
    "    the summation of natural numbers\"\"\"\n",
    "\n",
    "    total = 0\n",
    "    for i in range(n+1):\n",
    "        total += i\n",
    "        if total == n:\n",
    "            return True\n",
    "    return False        \n",
    "        \n",
    "    \n",
    "print(is_triangular(4))    \n",
    "print(is_triangular(6))    \n",
    "print(is_triangular(1))"
   ]
  },
  {
   "cell_type": "code",
   "execution_count": 14,
   "metadata": {},
   "outputs": [
    {
     "name": "stdout",
     "output_type": "stream",
     "text": [
      "2.44921875\n"
     ]
    }
   ],
   "source": [
    "#bisection sqrt funtion\n",
    "def bisection_sqrt(n) -> float:\n",
    "    \"\"\"n is number > 0\n",
    "    Returns sqrt of n within epsilon = 0.01 \"\"\"\n",
    "    epsilon = 0.01\n",
    "    low = 0\n",
    "    high = max(1,n)\n",
    "    g = (low + high)/2\n",
    "    while abs(g**2-n) >= epsilon:\n",
    "        if g**2 < n:\n",
    "            low = g\n",
    "        else:\n",
    "            high = g\n",
    "        g = (low + high)/2\n",
    "    return g\n",
    "print(bisection_sqrt(6))            "
   ]
  },
  {
   "cell_type": "code",
   "execution_count": 21,
   "metadata": {},
   "outputs": [
    {
     "name": "stdout",
     "output_type": "stream",
     "text": [
      "40\n"
     ]
    }
   ],
   "source": [
    "def count_nums_sqrt_close_to(a,epsilon):\n",
    "    \"\"\"n is an int > 2\n",
    "    esilon is a positive number < 1\n",
    "    Returns how many integers have sqrt within epsilon of n \"\"\"\n",
    "    count = 0\n",
    "    for i in range(a**3):\n",
    "        sqrt = bisection_sqrt(i) # functin to find a sqrt of i\n",
    "        if abs(a - sqrt) < epsilon: # checks for whether i falls within epsilon\n",
    "            #print(i,sqrt)\n",
    "            count += 1\n",
    "    return count\n",
    "\n",
    "\n",
    "\n",
    "\n",
    "#print(count_nums_sqrt_close_to(10,0.1))\n",
    "#print(count_nums_sqrt_close_to(10,0.001)) \n",
    "print(count_nums_sqrt_close_to(10,1))   \n"
   ]
  },
  {
   "cell_type": "code",
   "execution_count": 26,
   "metadata": {},
   "outputs": [
    {
     "name": "stdout",
     "output_type": "stream",
     "text": [
      "the denominator was 0\n",
      "None\n"
     ]
    }
   ],
   "source": [
    "def calc(op,a,b):\n",
    "    return op(a,b)\n",
    "\n",
    "def div(a,b):\n",
    "    if b != 0:\n",
    "        return a/b\n",
    "    print(\"the denominator was 0\")\n",
    "\n",
    "print(calc(div,2,0))    "
   ]
  },
  {
   "cell_type": "code",
   "execution_count": 43,
   "metadata": {},
   "outputs": [
    {
     "name": "stdout",
     "output_type": "stream",
     "text": [
      "6\n"
     ]
    }
   ],
   "source": [
    "def apply(criteria,n):\n",
    "    \"\"\"\n",
    "    * criteria is a function that takes an int and returns a bool\n",
    "    * n is an int\n",
    "    Returns how many ints from 0 to n(inclusive) match the criteria (i:e return True when run with criteria)\"\"\"\n",
    "    count = 0\n",
    "    for i in range(n+1):\n",
    "        if criteria(i):\n",
    "            count += 1\n",
    "    return count\n",
    "\n",
    "\n",
    "def is_even(x):\n",
    "    return x%2 == 0\n",
    "\n",
    "\n",
    "def is_div_five(x):\n",
    "    return x % 5 == 0\n",
    "\n",
    "#how_many = apply(is_div_five,100)\n",
    "\n",
    "how_many = apply(is_even,10)\n",
    "print(how_many)\n"
   ]
  },
  {
   "cell_type": "code",
   "execution_count": 75,
   "metadata": {},
   "outputs": [
    {
     "name": "stdout",
     "output_type": "stream",
     "text": [
      "True\n",
      "True\n",
      "False\n",
      "False\n"
     ]
    }
   ],
   "source": [
    "# Finger exercise\n",
    "def same_chars(s1,s2):\n",
    "    \"\"\"s1 and s2 are strings\n",
    "    Returns boolean True if a character in s1 is also in s2, and vice \n",
    "    versa. If a character only exists in one of s1 or s2, returns False.\"\"\"\n",
    "    not_same = ''\n",
    "    for char in s1: # to check if a character in s1 is also in s2\n",
    "        if char not in s2:\n",
    "                      \n",
    "            not_same += char\n",
    "          \n",
    "    for alphabet in s2: # Vice versa\n",
    "        if alphabet not in s1:\n",
    "\n",
    "            not_same += alphabet\n",
    "                    \n",
    "    if not_same == '':\n",
    "        return True\n",
    "    else:\n",
    "        return False\n",
    "print(same_chars(\"abc\", \"cab\"))  # prints True      \n",
    "print(same_chars(\"abccc\", \"caaab\")) # prints True\n",
    "print(same_chars(\"abcd\", \"cabaa\"))  # prints False\n",
    "print(same_chars(\"abcabc\", \"cabz\")) # prints False       \n"
   ]
  },
  {
   "cell_type": "code",
   "execution_count": 73,
   "metadata": {},
   "outputs": [
    {
     "name": "stdout",
     "output_type": "stream",
     "text": [
      "z\n"
     ]
    }
   ],
   "source": [
    "# working\n",
    "s1 = 'abcabc'\n",
    "s2 = 'cabz'\n",
    "same = ''\n",
    "for char in s1:\n",
    "    if char not in s2:\n",
    "      \n",
    "\n",
    "        same += char\n",
    "        print(same)\n",
    "for alphabet in s2:\n",
    "        if alphabet not in s1:\n",
    "             \n",
    "            \n",
    "            same += alphabet\n",
    "            print (same)            "
   ]
  },
  {
   "cell_type": "code",
   "execution_count": 76,
   "metadata": {},
   "outputs": [
    {
     "name": "stdout",
     "output_type": "stream",
     "text": [
      "True\n",
      "True\n",
      "False\n",
      "False\n"
     ]
    }
   ],
   "source": [
    "# solution by MIt\n",
    "def same_chars(s1, s2):\n",
    "    for i in s1:\n",
    "        if i not in s2:\n",
    "            return False\n",
    "    for i in s2:\n",
    "        if i not in s1:\n",
    "            return False\n",
    "    return True\n",
    "print(same_chars(\"abc\", \"cab\"))  # prints True      \n",
    "print(same_chars(\"abccc\", \"caaab\")) # prints True\n",
    "print(same_chars(\"abcd\", \"cabaa\"))  # prints False\n",
    "print(same_chars(\"abcabc\", \"cabz\")) # prints False   "
   ]
  },
  {
   "cell_type": "code",
   "execution_count": 77,
   "metadata": {},
   "outputs": [
    {
     "data": {
      "text/plain": [
       "True"
      ]
     },
     "execution_count": 77,
     "metadata": {},
     "output_type": "execute_result"
    }
   ],
   "source": [
    "# is_palindrom\n",
    "def is_palindrome(s):\n",
    "    i = 1\n",
    "    reverse = ''\n",
    "    while len(reverse) < len(s):\n",
    "        reverse += s[-i]\n",
    "        i += 1\n",
    "    if s == reverse:\n",
    "        return True\n",
    "is_palindrome(\"peep\")        "
   ]
  },
  {
   "cell_type": "code",
   "execution_count": 86,
   "metadata": {},
   "outputs": [
    {
     "data": {
      "text/plain": [
       "True"
      ]
     },
     "execution_count": 86,
     "metadata": {},
     "output_type": "execute_result"
    }
   ],
   "source": [
    "# for loop \n",
    "def is_palindrome(s):\n",
    "    reverse = ''\n",
    "    for i in range(1,len(s)+1):\n",
    "        reverse += s[-i]\n",
    "    #print(reverse)    \n",
    "    return reverse == s\n",
    "is_palindrome(\"peep\")    "
   ]
  },
  {
   "cell_type": "code",
   "execution_count": 88,
   "metadata": {},
   "outputs": [
    {
     "data": {
      "text/plain": [
       "True"
      ]
     },
     "execution_count": 88,
     "metadata": {},
     "output_type": "execute_result"
    }
   ],
   "source": [
    "# Simple slicing method\n",
    "def is_palindrome(s):\n",
    "    return s == s[::-1]\n",
    "is_palindrome('peep')"
   ]
  },
  {
   "cell_type": "code",
   "execution_count": 94,
   "metadata": {},
   "outputs": [
    {
     "name": "stdout",
     "output_type": "stream",
     "text": [
      "True\n",
      "True\n",
      "False\n"
     ]
    }
   ],
   "source": [
    "def f_yeilds_palindrome(n,f) -> str:\n",
    "    \"\"\" n is a positive int\n",
    "        f is a function that takes in an int and returns an int\n",
    "        Returns True if applying f on n returns a number that is a\n",
    "        palindrome and False otherwise.  \"\"\"\n",
    "     \n",
    "    if str(f(n)) == str(f(n))[::-1]:\n",
    "        return True\n",
    "    else:\n",
    "        return False\n",
    "         \n",
    "def f(x):\n",
    "    return x+1\n",
    "    \n",
    "print(f_yeilds_palindrome(10,f)) \n",
    "print(f_yeilds_palindrome(2, f))   # prints True\n",
    "print(f_yeilds_palindrome(75, f))   # prints True"
   ]
  },
  {
   "cell_type": "code",
   "execution_count": 95,
   "metadata": {},
   "outputs": [
    {
     "name": "stdout",
     "output_type": "stream",
     "text": [
      "True\n",
      "True\n",
      "False\n"
     ]
    }
   ],
   "source": [
    "# OR\n",
    "def f_yeilds_palindrome(n,f) -> str:\n",
    "    \"\"\" n is a positive int\n",
    "        f is a function that takes in an int and returns an int\n",
    "        Returns True if applying f on n returns a number that is a\n",
    "        palindrome and False otherwise.  \"\"\"\n",
    "     \n",
    "    if is_palindrome(str(f(n))):\n",
    "        return True\n",
    "    else:\n",
    "        return False\n",
    "         \n",
    "def f(x):\n",
    "    return x+1\n",
    "    \n",
    "print(f_yeilds_palindrome(10,f)) \n",
    "print(f_yeilds_palindrome(2, f))   # prints True\n",
    "print(f_yeilds_palindrome(75, f))   # prints False"
   ]
  },
  {
   "cell_type": "code",
   "execution_count": null,
   "metadata": {},
   "outputs": [],
   "source": []
  },
  {
   "cell_type": "code",
   "execution_count": 5,
   "metadata": {},
   "outputs": [
    {
     "name": "stdout",
     "output_type": "stream",
     "text": [
      "Number of months: 92\n"
     ]
    }
   ],
   "source": [
    "yearly_salary = float(input(\"Enter your yearly salary: \"))\n",
    "portion_saved = float(input(\"Enter portion of salary to be saved(i.e., 0.1 for 10%): \"))\n",
    "cost_of_dream_home = float(input(\"Enter the cost of your dream home: \"))\n",
    "semi_annual_raise = float(input(\"Enter the semi-annual raise (as a decimal): \"))\n",
    "\n",
    "#########################################################################\n",
    "## Initialize other variables you need (if any) for your program below ##\n",
    "#########################################################################\n",
    "portion_down_payment = 0.25\n",
    "down_payment = portion_down_payment * cost_of_dream_home\n",
    "monthly_salary = yearly_salary / 12\n",
    "annual_r = 0.05\n",
    "monthly_r = annual_r / 12\n",
    "months = 1\n",
    "amount_saved = 0\n",
    "\n",
    "###############################################################################################\n",
    "## Determine how many months it would take to get the down payment for your dream home below ## \n",
    "###############################################################################################\n",
    "while amount_saved < down_payment:\n",
    "    \n",
    "    if months % 6 == 0:\n",
    "        monthly_salary *= (1 + semi_annual_raise)\n",
    "    \n",
    "    amount_saved += (portion_saved * monthly_salary)\n",
    "    amount_saved *= (1 + monthly_r)\n",
    "    months += 1\n",
    "print(f\"Number of months: {months}\")"
   ]
  },
  {
   "cell_type": "code",
   "execution_count": null,
   "metadata": {},
   "outputs": [],
   "source": []
  },
  {
   "cell_type": "markdown",
   "metadata": {},
   "source": [
    "Probem_set PROblem C\n"
   ]
  },
  {
   "cell_type": "code",
   "execution_count": 22,
   "metadata": {},
   "outputs": [
    {
     "name": "stdout",
     "output_type": "stream",
     "text": [
      "1000.0 0 1 0.5\n",
      "4347.460157444417 0.5 1 0.75\n",
      "8868.328952479127 0.75 1 0.875\n",
      "12600.149556176228 0.875 1 0.9375\n",
      "14999.894452135459 0.9375 1 0.96875\n",
      "16360.908070188547 0.96875 1 0.984375\n",
      "17085.706238664578 0.984375 1 0.9921875\n",
      "17459.71727355169 0.9921875 1 0.99609375\n",
      "17649.695710509008 0.99609375 1 0.998046875\n",
      "17745.43706407378 0.998046875 1 0.9990234375\n",
      "17793.496898164776 0.9990234375 1 0.99951171875\n",
      "17817.574245633645 0.99951171875 1 0.999755859375\n",
      "17829.624794651878 0.999755859375 1 0.9998779296875\n",
      "17835.653040194356 0.9998779296875 1 0.99993896484375\n",
      "17838.66790600055 0.99993896484375 1 0.999969482421875\n",
      "17840.175524697068 0.999969482421875 1 0.9999847412109375\n",
      "17840.929380497924 0.9999847412109375 1 0.9999923706054688\n",
      "17841.306320012125 0.9999923706054688 1 0.9999961853027344\n",
      "17841.494792672656 0.9999961853027344 1 0.9999980926513672\n",
      "17841.589029728864 0.9999980926513672 1 0.9999990463256836\n",
      "17841.636148438378 0.9999990463256836 1 0.9999995231628418\n",
      "17841.65970783857 0.9999995231628418 1 0.9999997615814209\n",
      "17841.67148754994 0.9999997615814209 1 0.9999998807907104\n",
      "17841.677377408527 0.9999998807907104 1 0.9999999403953552\n",
      "None\n",
      "24\n"
     ]
    }
   ],
   "source": [
    "initial_deposit = float(input(\"Enter the initial_deposit: \"))\n",
    "\n",
    "#########################################################################\n",
    "## Initialize other variables you need (if any) for your program below ##\n",
    "#########################################################################\n",
    "cost_house = 800000\n",
    "down_payment = 0.25 * cost_house\n",
    "amount_saved = initial_deposit\n",
    "given_months = 36\n",
    "epsilon = 100\n",
    "low = 0\n",
    "high = 1\n",
    "\n",
    "r_guess = (low+high)/2\n",
    "steps = 0\n",
    "months = 0\n",
    "##################################################################################################\n",
    "## Determine the lowest rate of return needed to get the down payment for your dream home below ##\n",
    "##################################################################################################\n",
    "if initial_deposit >= (down_payment - 100): # checks for edge case where initial_deposit > down_payment\n",
    "    r_guess = 0.0\n",
    "    print(f\"best saving rate is r = {r_guess}\")\n",
    "else:\n",
    "       \n",
    "   \n",
    "\n",
    "    while abs(amount_saved - down_payment) >= epsilon and months < 36 : # checks if amount_saved is close enough \n",
    "                                                                        # payment and wihtin given time i:e 36 months\n",
    "        print(amount_saved,low,high,r_guess)\n",
    "        amount_saved = initial_deposit * (1+(r_guess/12))**given_months # calculates amount_saved with different r_guess\n",
    "        \n",
    "        \n",
    "        if amount_saved < down_payment: # changing r_guess acording to condition\n",
    "            low = r_guess\n",
    "        else:\n",
    "            high = r_guess\n",
    "        r_guess = (low+high)/2\n",
    "        steps += 1\n",
    "        months += 1\n",
    "        if high - low < 1e-7:# Impossible case: if the difference between low and high becomes too small\n",
    "            r_guess = None\n",
    "            break\n",
    "           \n",
    "    \n",
    "    print(r_guess)\n",
    "    print(steps)                   \n",
    "\n",
    "    \n",
    "      \n",
    "    \n",
    "   \n"
   ]
  },
  {
   "cell_type": "code",
   "execution_count": 30,
   "metadata": {},
   "outputs": [
    {
     "name": "stdout",
     "output_type": "stream",
     "text": [
      "we already got enough deposit for downpayment\n"
     ]
    }
   ],
   "source": [
    "# another way\n",
    "initial_deposit = float(input(\"Enter the initial_deposit: \"))\n",
    "cost_house = 800000\n",
    "down_payment = 0.25 * cost_house\n",
    "amount_saved = initial_deposit\n",
    "given_months = 36\n",
    "epsilon = 100\n",
    "low = 0\n",
    "high = 1\n",
    "r_guess = (low+high)/2\n",
    "r = 0\n",
    "steps = 0\n",
    "months = 0\n",
    "\n",
    "if initial_deposit >= (down_payment - 100):\n",
    "    r = 0.0\n",
    "    print(f\"we already got enough deposit for downpayment\")\n",
    "else:\n",
    "    while True:\n",
    "        amount_saved = initial_deposit\n",
    "        monthly_r = r_guess/12\n",
    "        \n",
    "\n",
    "        for i in range(given_months):\n",
    "            amount_saved += amount_saved*monthly_r\n",
    "        if amount_saved < down_payment and months >= 36:\n",
    "            r = None\n",
    "            \n",
    "            print(\"impossible with the initial deposit to save enough with r between 0 and 100% within given time\")\n",
    "            break\n",
    "\n",
    "\n",
    "        if abs(amount_saved - down_payment) <= epsilon:\n",
    "            r = r_guess\n",
    "            print(f\"if r = {r} , it is possible to save enough with initial deposit within given time\")\n",
    "            break\n",
    "        if amount_saved < down_payment:\n",
    "            low = r_guess\n",
    "        else:\n",
    "            high = r_guess \n",
    "        r_guess = (low + high)/2\n",
    "        steps += 1\n",
    "        months += 1\n",
    "            \n",
    "\n",
    "\n",
    "\n",
    "\n"
   ]
  },
  {
   "cell_type": "code",
   "execution_count": 27,
   "metadata": {},
   "outputs": [
    {
     "name": "stdout",
     "output_type": "stream",
     "text": [
      "Best saving rate is r = 0.380615\n",
      "Steps in bisection search: 11\n"
     ]
    }
   ],
   "source": [
    "initial_deposit = float(input(\"Enter the initial_deposit: \"))\n",
    "\n",
    "#########################################################################\n",
    "## Initialize other variables you need (if any) for your program below ##\n",
    "#########################################################################\n",
    "cost_house = 800000\n",
    "down_payment = 0.25 * cost_house\n",
    "amount_saved = initial_deposit\n",
    "given_months = 36\n",
    "epsilon = 100\n",
    "low = 0\n",
    "high = 1\n",
    "r_guess = (low + high) / 2\n",
    "steps = 0\n",
    "months = 0\n",
    "##################################################################################################\n",
    "## Determine the lowest rate of return needed to get the down payment for your dream home below ##\n",
    "##################################################################################################\n",
    "\n",
    "# Edge Case 1: If the initial deposit is already sufficient\n",
    "if initial_deposit >= (down_payment - epsilon):\n",
    "    r_guess = 0.0\n",
    "    print(f\"Best saving rate is r = {r_guess:.6f}\")\n",
    "else:\n",
    "    # Bisection search to find the rate of return\n",
    "    while True:\n",
    "        amount_saved = initial_deposit\n",
    "        monthly_r = r_guess / 12\n",
    "\n",
    "        # Calculate the savings month by month for 36 months\n",
    "        for month in range(given_months):\n",
    "            amount_saved += amount_saved * monthly_r\n",
    "        \n",
    "        # Edge Case 2: If 36 months have passed and amount_saved is still below down_payment\n",
    "        if amount_saved < down_payment and months >= 36:\n",
    "            r_guess = None\n",
    "            break\n",
    "        \n",
    "        # Check if the amount saved is within epsilon of the down payment\n",
    "        if abs(amount_saved - down_payment) <= epsilon:\n",
    "            break  # Close enough to the down payment\n",
    "        \n",
    "        # Adjust the search range using bisection\n",
    "        if amount_saved < down_payment:\n",
    "            low = r_guess  # Increase the rate\n",
    "        else:\n",
    "            high = r_guess  # Decrease the rate\n",
    "        \n",
    "        r_guess = (low + high) / 2  # Update the guess\n",
    "        steps += 1  # Increment step count\n",
    "    \n",
    "    # Output the results\n",
    "    if r_guess is None:\n",
    "        print(\"It is not possible to save enough for the down payment in 3 years.\")\n",
    "    else:\n",
    "        print(f\"Best saving rate is r = {r_guess:.6f}\")\n",
    "        print(f\"Steps in bisection search: {steps}\")\n"
   ]
  },
  {
   "cell_type": "code",
   "execution_count": 15,
   "metadata": {},
   "outputs": [
    {
     "name": "stdout",
     "output_type": "stream",
     "text": [
      "Olga Puchmajerova\n",
      "Olga Puchmajerova\n",
      "Olga Puchmajerova\n",
      "Olga Puchmajerova\n",
      "Olga Puchmajerova\n"
     ]
    }
   ],
   "source": [
    "def print_name(first_name, last_name, reverse): \n",
    "   if reverse:\n",
    "      print(last_name + ', ' + first_name)\n",
    "   else:\n",
    "      print(first_name, last_name)\n",
    "print_name('Olga', 'Puchmajerova', False)\n",
    "print_name('Olga', 'Puchmajerova', reverse = False)\n",
    "print_name('Olga', last_name = 'Puchmajerova', reverse = False) \n",
    "\n",
    "print_name(last_name = 'Puchmajerova', first_name = 'Olga',reverse = False)\n",
    "print_name('Olga', last_name = 'Puchmajerova', reverse = False)\n",
    "          \n",
    "\n"
   ]
  },
  {
   "cell_type": "markdown",
   "metadata": {},
   "source": [
    "Though the keyword arguments can appear in any order in the\n",
    "list of actual parameters, it is not legal to follow a keyword argument\n",
    "with a non-keyword argument. Therefore, an error message would be\n",
    "produced by"
   ]
  },
  {
   "cell_type": "code",
   "execution_count": 16,
   "metadata": {},
   "outputs": [
    {
     "ename": "SyntaxError",
     "evalue": "positional argument follows keyword argument (3859878899.py, line 1)",
     "output_type": "error",
     "traceback": [
      "\u001b[1;36m  Cell \u001b[1;32mIn[16], line 1\u001b[1;36m\u001b[0m\n\u001b[1;33m    print_name('Olga', last_name = 'Puchmajerova', False)\u001b[0m\n\u001b[1;37m                                                        ^\u001b[0m\n\u001b[1;31mSyntaxError\u001b[0m\u001b[1;31m:\u001b[0m positional argument follows keyword argument\n"
     ]
    }
   ],
   "source": [
    "\n",
    "print_name('Olga', last_name = 'Puchmajerova', False)"
   ]
  },
  {
   "cell_type": "code",
   "execution_count": 17,
   "metadata": {},
   "outputs": [
    {
     "name": "stdout",
     "output_type": "stream",
     "text": [
      "Olga Puchmajerova\n"
     ]
    }
   ],
   "source": [
    "# so to correct this use keyword arguement after the keyword arguement\n",
    "print_name('Olga',last_name = 'Puchmajerova',reverse=False)"
   ]
  },
  {
   "cell_type": "markdown",
   "metadata": {},
   "source": [
    "Finger exercise: Write a function mult that accepts either one or\n",
    "two ints as arguments. If called with two arguments, the function\n",
    "prints the product of the two arguments. If called with one argument,\n",
    "it prints that argument"
   ]
  },
  {
   "cell_type": "code",
   "execution_count": 19,
   "metadata": {},
   "outputs": [
    {
     "name": "stdout",
     "output_type": "stream",
     "text": [
      "1920\n"
     ]
    }
   ],
   "source": [
    "def mult(L):\n",
    "    product = 1\n",
    "    if len(L) == 1:\n",
    "        product = L[0]\n",
    "    else:\n",
    "        for num in L:\n",
    "            product *= num\n",
    "    return product\n",
    "print(mult([4,4]))      \n",
    "\n",
    "\n",
    " \n",
    "\n"
   ]
  },
  {
   "cell_type": "code",
   "execution_count": 31,
   "metadata": {},
   "outputs": [
    {
     "name": "stdout",
     "output_type": "stream",
     "text": [
      "x = 5\n",
      "x = abc\n",
      "z = 5\n",
      "x = 5\n",
      "x = 3\n",
      "z = <function f.<locals>.g at 0x0000018F96A0AB60>\n",
      "x = abc\n"
     ]
    }
   ],
   "source": [
    "def f(x):\n",
    "    def g():\n",
    "        x = 'abc'\n",
    "        print('x =',x)\n",
    "    def h():\n",
    "        z = x\n",
    "        print('z =',z)\n",
    "    x = x + 2\n",
    "    print('x =',x)\n",
    "    g()\n",
    "    h()\n",
    "    print('x =',x)\n",
    "    return g\n",
    "x = 3\n",
    "z = f(x)\n",
    "print('x =',x)\n",
    "print('z =',z)\n",
    "z()\n",
    "    \n"
   ]
  },
  {
   "cell_type": "code",
   "execution_count": 26,
   "metadata": {},
   "outputs": [
    {
     "name": "stdout",
     "output_type": "stream",
     "text": [
      "3\n",
      "1\n"
     ]
    }
   ],
   "source": [
    "def f():\n",
    "   print(x)\n",
    "def g():\n",
    "   \n",
    "   x = 1\n",
    "   print(x)\n",
    "x = 3\n",
    "f()\n",
    "#x = 3\n",
    "g()"
   ]
  },
  {
   "cell_type": "markdown",
   "metadata": {},
   "source": [
    "Finger exercise: Write a lambda expression that has two numeric\n",
    "parameters.  If  the  second  argument  equals  zero,  it  should  return\n",
    "None.  Otherwise  it  should  return  the  value  of  dividing  the  first\n",
    "argument  by  the  second  argument.  Hint:  use  a  conditional\n",
    "expression"
   ]
  },
  {
   "cell_type": "code",
   "execution_count": 10,
   "metadata": {},
   "outputs": [
    {
     "name": "stdout",
     "output_type": "stream",
     "text": [
      "11.0\n"
     ]
    }
   ],
   "source": [
    "def div(x,y,fn):\n",
    "    return fn(x,y) \n",
    "\n",
    "print(div(44,4,lambda x,y:x/y if y!= 0 else None))\n"
   ]
  },
  {
   "cell_type": "code",
   "execution_count": 1,
   "metadata": {},
   "outputs": [
    {
     "name": "stdout",
     "output_type": "stream",
     "text": [
      "64\n"
     ]
    }
   ],
   "source": [
    "y = lambda x: x**3\n",
    "print(y(4))"
   ]
  },
  {
   "cell_type": "code",
   "execution_count": null,
   "metadata": {},
   "outputs": [],
   "source": []
  }
 ],
 "metadata": {
  "kernelspec": {
   "display_name": "islp",
   "language": "python",
   "name": "python3"
  },
  "language_info": {
   "codemirror_mode": {
    "name": "ipython",
    "version": 3
   },
   "file_extension": ".py",
   "mimetype": "text/x-python",
   "name": "python",
   "nbconvert_exporter": "python",
   "pygments_lexer": "ipython3",
   "version": "3.12.5"
  }
 },
 "nbformat": 4,
 "nbformat_minor": 2
}
