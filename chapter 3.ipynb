{
 "cells": [
  {
   "cell_type": "code",
   "execution_count": 13,
   "metadata": {},
   "outputs": [
    {
     "name": "stdout",
     "output_type": "stream",
     "text": [
      "1949306 is the cube root of 7406961012236344616\n"
     ]
    }
   ],
   "source": [
    "# guess and check cube root with while loop\n",
    "x = int(input(\"Enter a number: \"))\n",
    "ans = 0\n",
    "while ans**3 < abs(x):\n",
    "    #print(\"Value of decrementing function (abs(x) - ans**3 ) is\", abs(x) - ans**3)\n",
    "    ans += 1\n",
    "if ans **3 != abs(x):\n",
    "    print(x,\"is not a perfect cube\")\n",
    "else:\n",
    "    if x < 0 :\n",
    "        ans = -ans\n",
    "    print(ans,\"is the cube root of\",x)        \n"
   ]
  },
  {
   "cell_type": "code",
   "execution_count": 62,
   "metadata": {},
   "outputs": [
    {
     "name": "stdout",
     "output_type": "stream",
     "text": [
      "the smallest divisor is 3 and the largest divisor is 23\n"
     ]
    }
   ],
   "source": [
    "# Test if an int > 2 is prime, if not print thr smallest divisor\n",
    "num = int(input(\"Enter an integer: \"))\n",
    "smallest_divisor = 0\n",
    "largest_divisor = 0\n",
    "if num%2 == 0:           # for even numbers\n",
    "    smallest_divisor = 2\n",
    "    for j in range(smallest_divisor,num):\n",
    "        if j*smallest_divisor == num:\n",
    "            largest_divisor = j\n",
    "else:    \n",
    "    for i in range(3,num,2):\n",
    "        if num%i == 0: \n",
    "            smallest_divisor = i\n",
    "            break\n",
    "    for x in range(smallest_divisor,num):\n",
    "        if x*smallest_divisor == num:\n",
    "            largest_divisor = x\n",
    "        \n",
    "       \n",
    "        \n",
    "if smallest_divisor != 0 and largest_divisor != 0:\n",
    "    print(\"the smallest divisor is\",smallest_divisor,\"and the largest divisor is\",largest_divisor)  \n",
    "else:\n",
    "    print(num,\"is prime\")"
   ]
  },
  {
   "cell_type": "code",
   "execution_count": 69,
   "metadata": {},
   "outputs": [
    {
     "name": "stdout",
     "output_type": "stream",
     "text": [
      "89 is the prime number\n"
     ]
    }
   ],
   "source": [
    "# More efficient and simple way\n",
    "num = int(input(\"Enter an integer: \"))\n",
    "smallest_divisor = 0\n",
    "largest_divisor = 0\n",
    "\n",
    "if num%2 == 0 and num != 2:\n",
    "    smallest_divisor = 2\n",
    "    largest_divisor = num // 2\n",
    "\n",
    "else:\n",
    "    for i in range(3,int(num**0.5)+1,2):\n",
    "        if num%i == 0:\n",
    "            smallest_divisor = i\n",
    "            largest_divisor = num // i\n",
    "            break\n",
    "if smallest_divisor and largest_divisor != 0:\n",
    "    print(\"the smallest divisor is\",smallest_divisor,\"and the largest divisor is\",largest_divisor)\n",
    "else:\n",
    "    print(num,\"is the prime number\")            \n"
   ]
  },
  {
   "cell_type": "markdown",
   "metadata": {},
   "source": [
    "Finger exercise: Write a program that asks the user to enter an\n",
    "integer and prints two integers, root and pwr, such that 1 < pwr < 6\n",
    "and root**pwr is equal to the integer entered by the user. If no such\n",
    "pair of integers exists, it should print a message to that effect.\n"
   ]
  },
  {
   "cell_type": "code",
   "execution_count": 105,
   "metadata": {},
   "outputs": [
    {
     "name": "stdout",
     "output_type": "stream",
     "text": [
      "27\n",
      "root = 3 power = 3\n"
     ]
    }
   ],
   "source": [
    "x = int(input(\"Enter an integer: \"))\n",
    "print(x)\n",
    "guess = 0\n",
    "found = False\n",
    "while guess < x: # in For loop we can use \"for guess in range(1,x+1)\" \n",
    "    guess += 1\n",
    "    if guess **2 == x:\n",
    "        print(\"root =\",guess,\"power =\",2)\n",
    "        found = True\n",
    "    if guess **3 == x:\n",
    "        print(\"root =\",guess,\"power =\",3)\n",
    "        found = True\n",
    "    if guess **4 == x:\n",
    "        print(\"root =\",guess,\"power =\",4)\n",
    "        found = True\n",
    "    if guess **5 == x:\n",
    "        print(\"root =\",guess,\"power =\",5)\n",
    "        found = True\n",
    "if found == False:\n",
    "    print (x,\"does not have any root power pair within given powers\")\n",
    "\n",
    "                   "
   ]
  },
  {
   "cell_type": "markdown",
   "metadata": {},
   "source": [
    "Finger exercise: Write a program that prints the sum of the prime\n",
    "numbers from 1 and  1000. Hint: you probably want\n",
    "to  have  a  loop  that  is  a  primality  test  nested  inside  a  loop  that\n",
    "iterates over the odd integers between 3 and 999."
   ]
  },
  {
   "cell_type": "code",
   "execution_count": 119,
   "metadata": {},
   "outputs": [
    {
     "name": "stdout",
     "output_type": "stream",
     "text": [
      "sum of prime numbers from 1 to 1000 is 76128\n"
     ]
    }
   ],
   "source": [
    "sum = 2 # As 2 is the only even prime number\n",
    "x =1000\n",
    "for num in range(1,x):\n",
    "    is_prime = True\n",
    "    if num%2 == 0:\n",
    "        continue\n",
    "    for i in range(3,int(num**0.5)+1,2):\n",
    "        if num % i == 0:\n",
    "            is_prime = False\n",
    "            break\n",
    "    if is_prime:\n",
    "        #print(num)\n",
    "        sum += num\n",
    "print(f\"sum of prime numbers from 1 to {x} is {sum}\")            \n"
   ]
  },
  {
   "cell_type": "markdown",
   "metadata": {},
   "source": [
    "Finger Exercise Lecture 5\n",
    "Assume you are given a string variable named my_str. Write a piece of Python code that prints out a new string containing the even indexed characters of my_str. For example, if my_str = \"abcdefg\" then your code should print out aceg."
   ]
  },
  {
   "cell_type": "code",
   "execution_count": 139,
   "metadata": {},
   "outputs": [
    {
     "name": "stdout",
     "output_type": "stream",
     "text": [
      "acegikmoqsuwy\n"
     ]
    }
   ],
   "source": [
    "my_str = \"abcdefghijklmnopqrstuvwxyz\"\n",
    "index = 0\n",
    "ans = ''\n",
    " \n",
    "while index < len(my_str):\n",
    "\n",
    "    char=my_str[index]\n",
    "    \n",
    "    ans += char\n",
    "    index += 2\n",
    "print(ans)  "
   ]
  },
  {
   "cell_type": "markdown",
   "metadata": {},
   "source": [
    "Bisection search"
   ]
  },
  {
   "cell_type": "code",
   "execution_count": 24,
   "metadata": {},
   "outputs": [
    {
     "name": "stdout",
     "output_type": "stream",
     "text": [
      "number of guesses are: 13\n",
      "6.000732421875 is the approximate square root of 36.0\n"
     ]
    }
   ],
   "source": [
    "x = float (input(\"Enter an integer you want the square root of: \")) # use float for deciml point numbers\n",
    "\n",
    "epsilon = 0.01 # we can increase epsilon to get more accuracy\n",
    "\n",
    "if x < 0: # to count for negative numbers\n",
    "    print(\"negative numbers like\",x,\"do not have square root\")\n",
    "else:\n",
    "    if x < 1 : # for numbers 0 < x > 1 ,as these numbers have square root always falls in range 0 < x > 1\n",
    "        low = x\n",
    "        high = 1\n",
    "\n",
    "    else:\n",
    "        low = 0\n",
    "        high = x\n",
    "    guess = (low + high)/2.0\n",
    "    num_guesses = 0\n",
    "    while abs(guess**2 - x) >= epsilon:\n",
    "        if guess**2 < x:\n",
    "            low = guess\n",
    "        else:\n",
    "            high = guess\n",
    "        guess = (low + high)/2.0\n",
    "        num_guesses += 1 \n",
    "    print(f\"number of guesses are: {num_guesses}\")\n",
    "    print(f\"{guess} is the approximate square root of {x}\")\n"
   ]
  },
  {
   "cell_type": "markdown",
   "metadata": {},
   "source": [
    "Cube root through bisection search"
   ]
  },
  {
   "cell_type": "code",
   "execution_count": 16,
   "metadata": {},
   "outputs": [
    {
     "name": "stdout",
     "output_type": "stream",
     "text": [
      "number of guesses: 4\n",
      "0.796875 is the approximate cube root of 0.5\n"
     ]
    }
   ],
   "source": [
    "x = float(input(\"Enter an integer you want a cube root of: \"))\n",
    "epsilon = 0.01\n",
    "if x < 0:\n",
    "    neg_flag = True\n",
    "    x = abs(x)\n",
    "else:\n",
    "    neg_flag = False\n",
    "\n",
    "if x < 1 :\n",
    "    low = x\n",
    "    high = 1\n",
    "else:\n",
    "    low = 0\n",
    "    high = x\n",
    "guess = (low+high)/2.0\n",
    "num_guesses = 0\n",
    "while abs(guess**3 - x) >= epsilon:\n",
    "    if guess**3 < x:\n",
    "        low = guess\n",
    "    else:\n",
    "        high = guess\n",
    "    guess = (low+high)/2.0\n",
    "    num_guesses += 1\n",
    "print(f\"number of guesses: {num_guesses}\")    \n",
    "if neg_flag:\n",
    "    guess = -guess\n",
    "    x = -x\n",
    "    print(f\"{guess} is the approximate cube root of {x}\")\n",
    "else:\n",
    "    print(f\"{guess} is the approximate cube root of {x}\")                               "
   ]
  },
  {
   "cell_type": "code",
   "execution_count": 30,
   "metadata": {},
   "outputs": [
    {
     "name": "stdout",
     "output_type": "stream",
     "text": [
      "Number of guesses = 13\n",
      "0.7071533203125 is the 2nd/square root of 0.5\n"
     ]
    }
   ],
   "source": [
    "# Better version presented in book\n",
    "x = float(input(\"Enter an number: \"))\n",
    "p = int(input(\"Enter the power: \")) # change p if you want square or any other root\n",
    "if x < 0 and 2%p == 0:\n",
    "    print(\"Negative numbers do not have any even powered roots\")\n",
    "\n",
    "\n",
    "else:    \n",
    "    \n",
    "    epsilon = 0.0001\n",
    "    num_guesses = 0\n",
    "    \n",
    "    low = min(-1,x)       # for negative roots of neg odd number\n",
    "    high = max(1,x)\n",
    "    guess = (low+high)/2.0\n",
    "    suff = ''\n",
    "\n",
    "    while abs(guess**p - x) >= epsilon:\n",
    "        #print(\"low =\",low,\"high =\",high,\"guess =\",guess)\n",
    "        if guess**p < x:\n",
    "            low = guess\n",
    "        else:\n",
    "            high = guess\n",
    "        guess = (low+high)/2.0    \n",
    "        num_guesses += 1\n",
    "    if p == 2 :\n",
    "        suff += 'nd/square'\n",
    "    elif p == 3 :\n",
    "        suff += 'rd/cube'\n",
    "    else:\n",
    "        suff += 'th'    \n",
    "    print(\"Number of guesses =\",num_guesses)\n",
    "    print(f\"{guess} is the {p}{suff} root of {x}\")\n",
    "\n"
   ]
  },
  {
   "cell_type": "code",
   "execution_count": null,
   "metadata": {},
   "outputs": [],
   "source": []
  },
  {
   "cell_type": "code",
   "execution_count": 33,
   "metadata": {},
   "outputs": [
    {
     "name": "stdout",
     "output_type": "stream",
     "text": [
      "Number of guesses: 498999\n",
      "4.989989999980258 is the approximate squre root of 25.0\n"
     ]
    }
   ],
   "source": [
    "# Book example figure 3.4 for finding approximate square root using exausitive enumeration\n",
    "\n",
    "x = float(input(\"Enter a number: \"))\n",
    "epsilon = 0.1\n",
    "guess = 0.0\n",
    "increment = 0.00001\n",
    "num_guesses = 0\n",
    "\n",
    "while abs(guess**2 - x) >= epsilon and guess**2 <= x:\n",
    "    guess += increment\n",
    "    num_guesses += 1\n",
    "print(\"Number of guesses:\",num_guesses)\n",
    "if abs(guess**2 - x) >= epsilon: \n",
    "    #if loop overshoot the epsilon  decrease the increment it will get work done but it will make program slower\n",
    "    print(f\"Failed on the squre root of {x}\")\n",
    "    print(f\"the last guess was {guess}\")\n",
    "    print(f\"the last guess **2 was {guess**2}\")\n",
    "else:\n",
    "    print(f\"{guess} is the approximate squre root of {x}\")\n",
    "            \n",
    "\n"
   ]
  },
  {
   "cell_type": "code",
   "execution_count": 31,
   "metadata": {},
   "outputs": [
    {
     "name": "stdout",
     "output_type": "stream",
     "text": [
      "Number of guesses: 6\n",
      "5.171875 is the log base 2 of 36.0\n"
     ]
    }
   ],
   "source": [
    "# Book Example to find log base 2 of x\n",
    "x = float(input(\"Enter a number: \"))\n",
    "lower_bound = 0\n",
    "epsilon = 0.1\n",
    "\n",
    "while 2 ** lower_bound < x:\n",
    "    lower_bound += 1\n",
    "\n",
    "low = lower_bound - 1\n",
    "high = lower_bound + 1\n",
    "ans = (low + high)/ 2.0\n",
    "num_guesses = 0\n",
    "\n",
    "while abs(2**ans - x) >= epsilon:\n",
    "    if 2** ans < x:\n",
    "        low = ans\n",
    "    else:\n",
    "        high = ans\n",
    "    ans = (low + high)/ 2.0\n",
    "    num_guesses += 1\n",
    "print(f\"Number of guesses: {num_guesses}\")\n",
    "print(f\"{ans} is the log base 2 of {x}\")            "
   ]
  },
  {
   "cell_type": "markdown",
   "metadata": {},
   "source": [
    "Finger exercise: The Empire State Building is 102 stories high. A\n",
    "man wanted to know the highest floor from which he could drop an\n",
    "egg without the egg breaking. He proposed to drop an egg from the\n",
    "top floor. If it broke, he would go down a floor, and try it again. He\n",
    "would  do  this  until  the  egg  did  not  break.  At  worst,  this  method\n",
    "requires  102  eggs.  Implement  a  method  that  at  worst  uses  seven\n",
    "eggs"
   ]
  },
  {
   "cell_type": "code",
   "execution_count": 87,
   "metadata": {},
   "outputs": [
    {
     "name": "stdout",
     "output_type": "stream",
     "text": [
      "Number of guesses:7\n",
      "the floor where egg may not break is 0.796875\n"
     ]
    }
   ],
   "source": [
    "x = 102\n",
    "epsilon = 1\n",
    "\n",
    "high = x\n",
    "g = ( high)/2 \n",
    "num_guesses = 1 # high/2 is the first guess thats why\n",
    "while g > epsilon:\n",
    "    #print(high,g)\n",
    "    \n",
    "    if g < x :\n",
    "        high = g\n",
    "    else:\n",
    "        break    \n",
    "    \n",
    "    g = ( high)/2   \n",
    "    num_guesses += 1  \n",
    "print (f\"Number of guesses:{num_guesses}\")\n",
    "print (f\"the floor where egg may not break is {g}\")          \n",
    "        "
   ]
  },
  {
   "cell_type": "markdown",
   "metadata": {},
   "source": [
    "Newton-Raphson Method for an approximate square root\n"
   ]
  },
  {
   "cell_type": "code",
   "execution_count": 114,
   "metadata": {},
   "outputs": [
    {
     "name": "stdout",
     "output_type": "stream",
     "text": [
      "number of guesses: 5\n",
      "4.000000000000004 is the approximate square root of 16.0\n"
     ]
    }
   ],
   "source": [
    "x = float(input(\"Enter a number: \"))\n",
    "epsilon = 0.000001\n",
    "guess = x/2\n",
    "num_guesses = 0\n",
    "while abs(guess**2 - x) >= epsilon:\n",
    "    guess = guess - ((guess**2 - x)/(2*guess))\n",
    "    num_guesses += 1\n",
    "print(f\"number of guesses: {num_guesses}\")\n",
    "\n",
    "print(guess,\"is the approximate square root of\",x)    "
   ]
  },
  {
   "cell_type": "markdown",
   "metadata": {},
   "source": [
    "Newton-Raphson Cube root\n"
   ]
  },
  {
   "cell_type": "code",
   "execution_count": 28,
   "metadata": {},
   "outputs": [
    {
     "name": "stdout",
     "output_type": "stream",
     "text": [
      "number of guesses: 19\n",
      "-28.755777036940366 is the approximate cube root of -23778.0\n"
     ]
    }
   ],
   "source": [
    "x = float(input(\"Enter a number: \"))\n",
    "epsilon = 0.001\n",
    "guess = x/2\n",
    "num_guesses = 0\n",
    "while abs(guess**3 - x) >= epsilon:\n",
    "    guess = guess - (((guess**3) - x)/(3*guess**2))\n",
    "    num_guesses += 1\n",
    "   #print(guess)\n",
    "print(f\"number of guesses: {num_guesses}\")\n",
    "\n",
    "print(guess,\"is the approximate cube root of\",x)    \n",
    "# more efficient than bisection search and also includes negative roots without specifying "
   ]
  },
  {
   "cell_type": "markdown",
   "metadata": {},
   "source": [
    "Finger Exercise Lecture 6\n",
    "Assume you are given an integer 0 \\<= N \\\\<= 1000. Write a piece of Python code that uses bisection search to guess N. The code prints two lines: count: with how many guesses it took to find N, and answer: with the value of N. Hints: If the halfway value is exactly in between two integers, choose the smaller one."
   ]
  },
  {
   "cell_type": "code",
   "execution_count": 27,
   "metadata": {},
   "outputs": [
    {
     "name": "stdout",
     "output_type": "stream",
     "text": [
      "0 639173981739 319586990869 319586990870\n",
      "319586990870 639173981739 479380486304 159793495435\n",
      "479380486305 639173981739 559277234022 79896747717\n",
      "559277234023 639173981739 599225607881 39948373858\n",
      "599225607882 639173981739 619199794810 19974186929\n",
      "619199794811 639173981739 629186888275 9987093464\n",
      "629186888276 639173981739 634180435007 4993546732\n",
      "634180435008 639173981739 636677208373 2496773366\n",
      "636677208374 639173981739 637925595056 1248386683\n",
      "637925595057 639173981739 638549788398 624193341\n",
      "638549788399 639173981739 638861885069 312096670\n",
      "638861885070 639173981739 639017933404 156048335\n",
      "639017933405 639173981739 639095957572 78024167\n",
      "639095957573 639173981739 639134969656 39012083\n",
      "639134969657 639173981739 639154475698 19506041\n",
      "639154475699 639173981739 639164228719 9753020\n",
      "639164228720 639173981739 639169105229 4876510\n",
      "639169105230 639173981739 639171543484 2438255\n",
      "639171543485 639173981739 639172762612 1219127\n",
      "639172762613 639173981739 639173372176 609563\n",
      "639173372177 639173981739 639173676958 304781\n",
      "639173676959 639173981739 639173829349 152390\n",
      "639173829350 639173981739 639173905544 76195\n",
      "639173905545 639173981739 639173943642 38097\n",
      "639173943643 639173981739 639173962691 19048\n",
      "639173962692 639173981739 639173972215 9524\n",
      "639173972216 639173981739 639173976977 4762\n",
      "639173976978 639173981739 639173979358 2381\n",
      "639173979359 639173981739 639173980549 1190\n",
      "639173980550 639173981739 639173981144 595\n",
      "639173981145 639173981739 639173981442 297\n",
      "639173981443 639173981739 639173981591 148\n",
      "639173981592 639173981739 639173981665 74\n",
      "639173981666 639173981739 639173981702 37\n",
      "639173981703 639173981739 639173981721 18\n",
      "639173981722 639173981739 639173981730 9\n",
      "639173981731 639173981739 639173981735 4\n",
      "639173981736 639173981739 639173981737 2\n",
      "num_guesses: 38\n",
      "N: 639173981738\n"
     ]
    }
   ],
   "source": [
    "N = int(input(\"Enter a positive integer : \"))\n",
    "epsilon = 1\n",
    "low = 0\n",
    "high = N\n",
    "guess = (low + high)//2\n",
    "num_guesses = 0\n",
    "while abs (guess - N)> epsilon: # OR we dont need epsilon we can simply while N != guess as N would eventually be = guess\n",
    "    #print(low,high,guess , abs(guess - N))\n",
    "    if guess < N:\n",
    "        low = guess + 1   #The +1 and -1 adjustments ensure that the search range shrinks and doesn’t get stuck on the same value,\n",
    "        #especially in cases where low and high could otherwise collapse to the same midpoint value repeatedly. \n",
    "        # This guarantees that the algorithm will terminate and correctly find N\n",
    "    else:\n",
    "        high = guess - 1 \n",
    "    guess = (low + high)//2\n",
    "    num_guesses += 1    \n",
    "print(\"num_guesses:\",num_guesses)\n",
    "print(\"N:\",guess)        "
   ]
  }
 ],
 "metadata": {
  "kernelspec": {
   "display_name": "python_eda",
   "language": "python",
   "name": "python3"
  },
  "language_info": {
   "codemirror_mode": {
    "name": "ipython",
    "version": 3
   },
   "file_extension": ".py",
   "mimetype": "text/x-python",
   "name": "python",
   "nbconvert_exporter": "python",
   "pygments_lexer": "ipython3",
   "version": "3.11.0"
  }
 },
 "nbformat": 4,
 "nbformat_minor": 2
}
