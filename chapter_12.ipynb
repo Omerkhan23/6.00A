{
 "cells": [
  {
   "cell_type": "code",
   "execution_count": null,
   "metadata": {},
   "outputs": [],
   "source": []
  },
  {
   "cell_type": "code",
   "execution_count": 1,
   "metadata": {},
   "outputs": [],
   "source": [
    "def merge(left:list,right:list,compare):\n",
    "    result = []\n",
    "    i,j = 0,0\n",
    "    while i < len(left) and j < len(right):\n",
    "        if compare(left[i],right[j]):\n",
    "            result.append(left[i])\n",
    "            i += 1\n",
    "        else:\n",
    "            result.append(right[j])\n",
    "            j += 1\n",
    "    while i < len(left):\n",
    "        result.append(left[i])\n",
    "        i += 1\n",
    "    while j < len(right):\n",
    "        result.append(right[j])\n",
    "        j += 1\n",
    "    return result\n",
    "                    \n",
    "def merge_sort(L:list, compare=lambda x, y:x < y): \n",
    "    if len(L) < 2:\n",
    "        return L[:]\n",
    "    else:\n",
    "        middle = len(L) // 2\n",
    "        left = merge_sort(L[:middle],compare)\n",
    "        right = merge_sort(L[middle:],compare)\n",
    "        return merge(left,right,compare)   \n",
    "\n",
    "# compare is used to define the order and we use lambda to change it functionality    \n"
   ]
  },
  {
   "cell_type": "code",
   "execution_count": 2,
   "metadata": {},
   "outputs": [
    {
     "name": "stdout",
     "output_type": "stream",
     "text": [
      "[0, 1, 2, 2, 3, 4, 5, 5, 6, 6, 7, 7, 9, 15, 33, 43, 54, 77] [77, 54, 43, 33, 15, 9, 7, 7, 6, 6, 5, 5, 4, 3, 2, 2, 1, 0]\n"
     ]
    },
    {
     "data": {
      "text/plain": [
       "[9, 5, 43, 5, 6, 7, 4, 1, 2, 3, 0, 7, 77, 54, 33, 2, 15, 6]"
      ]
     },
     "execution_count": 2,
     "metadata": {},
     "output_type": "execute_result"
    }
   ],
   "source": [
    "\n",
    "n = [9,5,43,5,6,7,4,1,2,3,0,7,77,54,33,2,15,6]\n",
    "print(merge_sort(n),merge_sort(n,lambda x, y: x > y))\n",
    "n"
   ]
  },
  {
   "cell_type": "code",
   "execution_count": 3,
   "metadata": {},
   "outputs": [],
   "source": [
    "#Binary_search assumes that the list is sorted in ascending order \n",
    "def search(L,e):\n",
    "    \n",
    "    def bin_search(L,e,low,high):\n",
    "        if high == low:\n",
    "            return L[low] == e\n",
    "        mid = (low + high) // 2\n",
    "        if L[mid] == e:\n",
    "            return True\n",
    "        elif L[mid] > e:\n",
    "            if mid == low:\n",
    "                return False\n",
    "            else:\n",
    "                return bin_search(L,e,low,mid -1)\n",
    "        else:\n",
    "            return bin_search(L,e,mid+1,high)\n",
    "    if len(L) == 0:\n",
    "        return False\n",
    "    else:\n",
    "        \n",
    "        return bin_search(L,e,0,len(L) - 1)\n",
    "            \n"
   ]
  },
  {
   "cell_type": "code",
   "execution_count": 4,
   "metadata": {},
   "outputs": [
    {
     "data": {
      "text/plain": [
       "True"
      ]
     },
     "execution_count": 4,
     "metadata": {},
     "output_type": "execute_result"
    }
   ],
   "source": [
    "a = [1,2,3,4,5,6,7,8,9]\n",
    "search(a,3)"
   ]
  },
  {
   "cell_type": "code",
   "execution_count": 5,
   "metadata": {},
   "outputs": [],
   "source": [
    "def sel_sort(L):\n",
    "    suffix_start = 0\n",
    "    while suffix_start < len(L):\n",
    "        for i in range(suffix_start,len(L)):\n",
    "            if L[i] < L[suffix_start]:\n",
    "                L[suffix_start],L[i] = L[i],L[suffix_start]\n",
    "        suffix_start += 1\n",
    "\n",
    "# complexity = 0(n**2)(exponential)                       "
   ]
  },
  {
   "cell_type": "code",
   "execution_count": 6,
   "metadata": {},
   "outputs": [
    {
     "name": "stdout",
     "output_type": "stream",
     "text": [
      "[0, 2, 3, 4, 5, 6, 7, 9]\n"
     ]
    }
   ],
   "source": [
    "b  = [3,4,0,2,5,6,7,9]\n",
    "sel_sort(b)\n",
    "print(b)"
   ]
  },
  {
   "cell_type": "code",
   "execution_count": 7,
   "metadata": {},
   "outputs": [],
   "source": [
    "def merge_1(left:list,right:list, compare):\n",
    "    \"\"\"assumes the left and right list are sorted ,comapre is to define the order in they need to be sorted when merged together\"\"\"\n",
    "    result = []\n",
    "    i,j = 0,0\n",
    "    while i < len(left) and j < len(right):\n",
    "        if compare(left[i],right[j]):\n",
    "            result.append(left[i])\n",
    "            i += 1\n",
    "        else:\n",
    "            result.append(right[j])\n",
    "            j += 1\n",
    "    while i < len(left):\n",
    "        result.append(left[i])\n",
    "        i += 1\n",
    "    while j < len(right):\n",
    "        result.append(right[j])\n",
    "        j += 1\n",
    "    return result\n",
    "    \n",
    "def merge_sort_2(L:list,compare = lambda x,y : x < y): # default order is ascending,if want descending explicity define the lambda \n",
    "    #  when call the function\n",
    "    if len(L) < 2:\n",
    "        return L[:]\n",
    "    else:\n",
    "        mid = len(L) // 2\n",
    "        left = merge_sort_2(L[:mid],compare)\n",
    "        right = merge_sort_2(L[mid:],compare)\n",
    "        return merge_1(left,right,compare)"
   ]
  },
  {
   "cell_type": "code",
   "execution_count": 8,
   "metadata": {},
   "outputs": [
    {
     "name": "stdout",
     "output_type": "stream",
     "text": [
      "[1, 2, 3, 4, 5, 5, 6, 7, 8, 9, 9, 35, 46, 46, 63, 63, 63, 64, 67, 73, 74, 85, 458]\n",
      "[458, 85, 74, 73, 67, 64, 63, 63, 63, 46, 46, 35, 9, 9, 8, 7, 6, 5, 5, 4, 3, 2, 1]\n"
     ]
    }
   ],
   "source": [
    "l = [1,35,46,2,3,6,7,9,63,5,67,8,46,9,5,64,85,63,74,73,458,4,63]\n",
    "print(merge_sort_2(l))\n",
    "print(merge_sort_2(l, lambda x,y: x > y))"
   ]
  },
  {
   "cell_type": "code",
   "execution_count": 9,
   "metadata": {},
   "outputs": [
    {
     "name": "stdout",
     "output_type": "stream",
     "text": [
      "sorted by last name ['tom braDy', 'tom brady', 'billa jutt', 'khan younis']\n",
      "sorted by first name ['billa jutt', 'khan younis', 'tom braDy', 'tom brady']\n"
     ]
    }
   ],
   "source": [
    "def by_last_name(name1,name2):\n",
    "    arg1 = name1.split(' ')\n",
    "    arg2 = name2.split(' ')\n",
    "    if arg1[1] !=  arg2[1]:\n",
    "        return arg1[1] < arg2[1]\n",
    "    else:\n",
    "        return arg1[0] < arg2[0]\n",
    "def by_first_name(name1,name2):\n",
    "    arg1 = name1.split(' ')\n",
    "    arg2 = name2.split(' ')\n",
    "    if arg1[0] != arg2[0]:\n",
    "        return arg1[0] < arg2[0]\n",
    "    else:\n",
    "        return arg1[1] < arg2[1]\n",
    "    \n",
    "L = ['tom brady','tom braDy','billa jutt','khan younis']\n",
    "new_L = merge_sort_2(L,by_last_name)\n",
    "print('sorted by last name',new_L)    \n",
    "new_L_1 = merge_sort_2(L,by_first_name)\n",
    "print('sorted by first name',new_L_1)\n",
    "    "
   ]
  },
  {
   "cell_type": "code",
   "execution_count": 10,
   "metadata": {},
   "outputs": [
    {
     "data": {
      "text/plain": [
       "['omer', 'khan']"
      ]
     },
     "execution_count": 10,
     "metadata": {},
     "output_type": "execute_result"
    }
   ],
   "source": [
    "l = 'omer khan'\n",
    "a = l.split(' ')\n",
    "a"
   ]
  },
  {
   "cell_type": "code",
   "execution_count": 11,
   "metadata": {},
   "outputs": [
    {
     "data": {
      "text/plain": [
       "1"
      ]
     },
     "execution_count": 11,
     "metadata": {},
     "output_type": "execute_result"
    }
   ],
   "source": [
    "a = ['omer khan']\n",
    "len(a)"
   ]
  },
  {
   "cell_type": "code",
   "execution_count": 12,
   "metadata": {},
   "outputs": [
    {
     "data": {
      "text/plain": [
       "6"
      ]
     },
     "execution_count": 12,
     "metadata": {},
     "output_type": "execute_result"
    }
   ],
   "source": [
    "t = (1,2,3)\n",
    "sum(t)"
   ]
  },
  {
   "cell_type": "code",
   "execution_count": 18,
   "metadata": {},
   "outputs": [
    {
     "name": "stdout",
     "output_type": "stream",
     "text": [
      "[(1, 1), (1, 2), (2, 3), (4, 3), (3, 4), (7, 6), (6, 7)]\n"
     ]
    }
   ],
   "source": [
    "def sum_tuple(t1,t2):\n",
    "    if sum(t1) != sum(t2):\n",
    "        return sum(t1) < sum(t2) \n",
    "    else:\n",
    "        return sum(t2) < sum(t1)\n",
    "    \n",
    "L = [(1,2),(3,4),(1,1),(2,3),(4,3),(6,7),(7,6)]\n",
    "a = merge_sort_2(L,sum_tuple)\n",
    "print(a)    "
   ]
  },
  {
   "cell_type": "code",
   "execution_count": 19,
   "metadata": {},
   "outputs": [
    {
     "data": {
      "text/plain": [
       "['abc', [1, 2, 3, 4], (4, 5, 6, 7, 8)]"
      ]
     },
     "execution_count": 19,
     "metadata": {},
     "output_type": "execute_result"
    }
   ],
   "source": [
    "def by_lenght(L1,L2):\n",
    "    if len(L1) != len(L2):\n",
    "        return len(L1) < len(L2)\n",
    "    else:\n",
    "        return len(L2) < len(L1)\n",
    "    \n",
    "\n",
    "L = [[1,2,3,4],(4,5,6,7,8),'abc']\n",
    "a = merge_sort_2(L,by_lenght)\n",
    "a"
   ]
  },
  {
   "cell_type": "code",
   "execution_count": null,
   "metadata": {},
   "outputs": [],
   "source": [
    "# hash_algorithm implementation in the book\n",
    "class int_dictionary(object):\n",
    "    def __init__(self,num_buckets):\n",
    "        self.buckets = []\n",
    "        self.num_buckets = num_buckets\n",
    "        for i in range(self.num_buckets):\n",
    "            self.buckets.append([])\n",
    "\n",
    "    def add_entry(self,key,dict_value):\n",
    "        \"\"\"Assumes key is an integer\"\"\"\n",
    "        hash_bucket = self.buckets[key % self.num_buckets]\n",
    "        for i in range(len(hash_bucket)):\n",
    "            if hash_bucket[i][0] == key:\n",
    "                current_values = hash_bucket[i][1]\n",
    "                if isinstance(current_values,list):\n",
    "                    hash_bucket[i][1].append(dict_value)\n",
    "                    return\n",
    "                else:\n",
    "                    hash_bucket[i] = (key,[hash_bucket[i][1],dict_value])    \n",
    "                    return    \n",
    "        \n",
    "        hash_bucket.append((key,dict_value))\n",
    "        \n",
    "\n",
    "    def get_values(self,key):\n",
    "        hash_bucket  = self.buckets[key%self.num_buckets]\n",
    "        for e in range(len(hash_bucket)):\n",
    "            if hash_bucket[e][0] == key:\n",
    "                return hash_bucket[e][1]\n",
    "            return None\n",
    "    def __str__(self):\n",
    "        result = '{'\n",
    "        for b in self.buckets:\n",
    "            for e in b:\n",
    "                result += f\" {e[0]} :{e[1]}, \"\n",
    "        \n",
    "        return result[:-1] + '}' #result[:-1] omits the last comma\n",
    "    \n",
    "\n",
    "\n"
   ]
  },
  {
   "cell_type": "code",
   "execution_count": 8,
   "metadata": {},
   "outputs": [
    {
     "name": "stdout",
     "output_type": "stream",
     "text": [
      "The value of the Int_dict is:\n",
      "{ 0 :[2, 9],  1 :[4, 19],  3 :[0, 11, 13],  4 :3,  5 :16,  6 :[5, 6, 7],  8 :17,  9 :[1, 12],  10 :[8, 14, 18],  13 :15,  14 :10,}\n"
     ]
    }
   ],
   "source": [
    "import random\n",
    "D = int_dictionary(17)\n",
    "for i in range(20):\n",
    "    #choose a random int in the range 0 to 10**5 - 1\n",
    "    key = random.choice(range(15))\n",
    "    D.add_entry(key, i)\n",
    "print('The value of the Int_dict is:')\n",
    "print(D)"
   ]
  },
  {
   "cell_type": "code",
   "execution_count": null,
   "metadata": {},
   "outputs": [],
   "source": []
  }
 ],
 "metadata": {
  "kernelspec": {
   "display_name": "Python 3",
   "language": "python",
   "name": "python3"
  },
  "language_info": {
   "codemirror_mode": {
    "name": "ipython",
    "version": 3
   },
   "file_extension": ".py",
   "mimetype": "text/x-python",
   "name": "python",
   "nbconvert_exporter": "python",
   "pygments_lexer": "ipython3",
   "version": "3.12.0"
  }
 },
 "nbformat": 4,
 "nbformat_minor": 2
}
