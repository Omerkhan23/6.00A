{
 "cells": [
  {
   "cell_type": "code",
   "execution_count": 29,
   "metadata": {},
   "outputs": [
    {
     "data": {
      "text/plain": [
       "12"
      ]
     },
     "execution_count": 29,
     "metadata": {},
     "output_type": "execute_result"
    }
   ],
   "source": [
    "def total_len_rec(L):\n",
    "    if len(L) == 1:\n",
    "        return len(L[0])\n",
    "    else:\n",
    "        return len(L[0]) + total_len_rec(L[1:])\n",
    "\n",
    "L = ['ab','ghij','klmnop']\n",
    "total_len_rec(L)\n",
    "            "
   ]
  },
  {
   "cell_type": "code",
   "execution_count": 30,
   "metadata": {},
   "outputs": [
    {
     "data": {
      "text/plain": [
       "True"
      ]
     },
     "execution_count": 30,
     "metadata": {},
     "output_type": "execute_result"
    }
   ],
   "source": [
    "def in_list(L,e):\n",
    "    if len(L) == 1:\n",
    "        return L[0] == e\n",
    "    else:\n",
    "        if L[0] == e:\n",
    "            return True\n",
    "        else:\n",
    "            return in_list(L[1:],e)\n",
    "    \n",
    "test = [2,5,8,1]\n",
    "test_2 = [2,1,5,8]\n",
    "e = 1\n",
    "#in_list(test,e)\n",
    "in_list(test_2,e)\n",
    "\n"
   ]
  },
  {
   "cell_type": "code",
   "execution_count": 31,
   "metadata": {},
   "outputs": [
    {
     "data": {
      "text/plain": [
       "[1, 2, 4, 56, 78, 1, 2, 3, 4, 5, 6]"
      ]
     },
     "execution_count": 31,
     "metadata": {},
     "output_type": "execute_result"
    }
   ],
   "source": [
    "def flatten(L):\n",
    "    if len(L) == 1:\n",
    "        return L[0]\n",
    "    else:\n",
    "        return L[0] + flatten(L[1:])\n",
    "    \n",
    "L = [[1,2],[4,56,78],[1,2,3,4,5,6]]\n",
    "flatten(L)\n",
    "    \n",
    "\n",
    "\n",
    "\n",
    "\n",
    "\n"
   ]
  },
  {
   "cell_type": "code",
   "execution_count": 32,
   "metadata": {},
   "outputs": [
    {
     "data": {
      "text/plain": [
       "True"
      ]
     },
     "execution_count": 32,
     "metadata": {},
     "output_type": "execute_result"
    }
   ],
   "source": [
    "def in_list_of_lists(L,e):# only one_layer deep in_list_of_lists\n",
    "    if len(L) == 1:\n",
    "        return e in L[0]\n",
    "    \n",
    "    else:\n",
    "        if e in L[0]:\n",
    "            return True\n",
    "        else:\n",
    "            return in_list_of_lists(L[1:],e)\n",
    "    \n",
    "\n",
    "L = [[9,2],[4,56,78],[1,3,5,6]]\n",
    "in_list_of_lists(L,78)       \n"
   ]
  },
  {
   "cell_type": "code",
   "execution_count": 33,
   "metadata": {},
   "outputs": [
    {
     "data": {
      "text/plain": [
       "['1bc', 4, 3, 2, 1]"
      ]
     },
     "execution_count": 33,
     "metadata": {},
     "output_type": "execute_result"
    }
   ],
   "source": [
    "def rev_list(L):\n",
    "    if len(L) == 1:\n",
    "        return L\n",
    "    else:\n",
    "        return rev_list(L[1:]) + [L[0]]\n",
    "    \n",
    "L = [1,2,3,4,'1bc']\n",
    "rev_list(L)    "
   ]
  },
  {
   "cell_type": "code",
   "execution_count": 34,
   "metadata": {},
   "outputs": [
    {
     "name": "stdout",
     "output_type": "stream",
     "text": [
      "[1, 4, 6, 2, 3, 2, 4, 5]\n"
     ]
    }
   ],
   "source": [
    "def flatten_2(L):\n",
    "    \"\"\" \n",
    "    L: a list \n",
    "    Returns a copy of L, which is a flattened version of L \n",
    "    \"\"\"\n",
    "    if len(L) == 1 and type(L[0]) == int:\n",
    "        return [L[0]]\n",
    "    elif len(L) == 1 and type(L[0]) == list:\n",
    "        return flatten_2(L[0])\n",
    "    else:\n",
    "        if type(L[0]) == list:\n",
    "            return flatten_2(L[0]) + flatten_2(L[1:])\n",
    "        else:\n",
    "            return [L[0]] + flatten_2(L[1:])\n",
    "\n",
    "    \n",
    "               \n",
    "        \n",
    "     \n",
    "\n",
    "# Examples:\n",
    "L = [[1,4,[6],2],[[[3]],2],4,5]\n",
    "print(flatten_2(L)) # prints the list [1,4,6,2,3,2,4,5]"
   ]
  },
  {
   "cell_type": "code",
   "execution_count": 35,
   "metadata": {},
   "outputs": [
    {
     "data": {
      "text/plain": [
       "[5, 4, [2, [[3]]], [2, [6], 4, 1]]"
      ]
     },
     "execution_count": 35,
     "metadata": {},
     "output_type": "execute_result"
    }
   ],
   "source": [
    "def deep_rev(L):\n",
    "    if len(L) == 1:\n",
    "        return L\n",
    "    else:\n",
    "        if type(L[0]) == list:\n",
    "            return deep_rev(L[1:]) + [deep_rev(L[0])]\n",
    "        else:\n",
    "            return deep_rev(L[1:]) + [L[0]]\n",
    "L = [[1,4,[6],2],[[[3]],2],4,5]\n",
    "deep_rev(L)        \n"
   ]
  },
  {
   "cell_type": "code",
   "execution_count": 36,
   "metadata": {},
   "outputs": [
    {
     "name": "stdout",
     "output_type": "stream",
     "text": [
      "[1, 4, 6, 2, 3, 2, 4, 5]\n"
     ]
    }
   ],
   "source": [
    "def flatten_3(L):\n",
    "    result  = []\n",
    "    for i in L:\n",
    "        if type(i) == list :\n",
    "            result.extend(flatten_3(i))\n",
    "        else:\n",
    "            result.append(i)\n",
    "    return result\n",
    "        \n",
    "\n",
    "L = [[1,4,[6],2],[[[3]],2],4,5]\n",
    "print(flatten_3(L)) # prints the list [1,4,6,2,3,2,4,5]\n",
    "\n",
    "\n",
    "\n"
   ]
  },
  {
   "cell_type": "code",
   "execution_count": 37,
   "metadata": {},
   "outputs": [
    {
     "name": "stdout",
     "output_type": "stream",
     "text": [
      "[(0, 0), (0, 3), (2, 0), (2, 3), (4, 0), (4, 3)]\n"
     ]
    }
   ],
   "source": [
    "print([(x,y) for x in range(6) if x % 2 == 0\n",
    "       for y in range(6) if y % 3 == 0])"
   ]
  },
  {
   "cell_type": "code",
   "execution_count": 38,
   "metadata": {},
   "outputs": [
    {
     "name": "stdout",
     "output_type": "stream",
     "text": [
      "[[(0, 0), (2, 0), (4, 0)], [(0, 3), (2, 3), (4, 3)]]\n"
     ]
    }
   ],
   "source": [
    "print([[(x,y) for x in range(6) if x%2 == 0]\n",
    "     for y in range(6) if y%3 == 0])"
   ]
  },
  {
   "cell_type": "code",
   "execution_count": 39,
   "metadata": {},
   "outputs": [],
   "source": [
    "def score_count(x):\n",
    "    if x == 1:\n",
    "        return 1\n",
    "    elif x == 2:\n",
    "        return 2\n",
    "    elif x == 3:\n",
    "        return 3\n",
    "    else:\n",
    "        return  score_count(x-1)+ score_count(x-2) + score_count(x-3)\n",
    "    \n",
    "    "
   ]
  },
  {
   "cell_type": "code",
   "execution_count": 40,
   "metadata": {},
   "outputs": [
    {
     "data": {
      "text/plain": [
       "20"
      ]
     },
     "execution_count": 40,
     "metadata": {},
     "output_type": "execute_result"
    }
   ],
   "source": [
    "score_count(6)"
   ]
  },
  {
   "cell_type": "code",
   "execution_count": 41,
   "metadata": {},
   "outputs": [],
   "source": [
    "def fact_rec(n):\n",
    "    if n == 1:\n",
    "        return n\n",
    "    else:\n",
    "        return n* fact_rec(n-1)\n",
    "    "
   ]
  },
  {
   "cell_type": "code",
   "execution_count": 42,
   "metadata": {},
   "outputs": [
    {
     "data": {
      "text/plain": [
       "720"
      ]
     },
     "execution_count": 42,
     "metadata": {},
     "output_type": "execute_result"
    }
   ],
   "source": [
    "fact_rec(6)"
   ]
  },
  {
   "cell_type": "code",
   "execution_count": 43,
   "metadata": {},
   "outputs": [
    {
     "data": {
      "text/plain": [
       "2.283333333333333"
      ]
     },
     "execution_count": 43,
     "metadata": {},
     "output_type": "execute_result"
    }
   ],
   "source": [
    "def harm_sum(n):\n",
    "    if n == 1:\n",
    "        return 1\n",
    "    else:\n",
    "        return  1/n + harm_sum(n-1)\n",
    "\n",
    "harm_sum(5)    "
   ]
  },
  {
   "cell_type": "code",
   "execution_count": 44,
   "metadata": {},
   "outputs": [
    {
     "data": {
      "text/plain": [
       "2.283333333333333"
      ]
     },
     "execution_count": 44,
     "metadata": {},
     "output_type": "execute_result"
    }
   ],
   "source": [
    "1 + 1/2 + 1/3 +1/4 +1/5 "
   ]
  },
  {
   "cell_type": "code",
   "execution_count": 45,
   "metadata": {},
   "outputs": [
    {
     "data": {
      "text/plain": [
       "8670007398507948658051921"
      ]
     },
     "execution_count": 45,
     "metadata": {},
     "output_type": "execute_result"
    }
   ],
   "source": [
    "#efficient way\n",
    "def fib_dict(n,d):\n",
    "    \n",
    "    if n in d:\n",
    "        return d[n]\n",
    "    else:\n",
    "        a = fib_dict(n-1,d) + fib_dict(n-2,d)\n",
    "        d[n] = a\n",
    "        return a \n",
    "    \n",
    "fib_dict(120,d={0:1,1:1})    "
   ]
  },
  {
   "cell_type": "code",
   "execution_count": 46,
   "metadata": {},
   "outputs": [
    {
     "data": {
      "text/plain": [
       "8"
      ]
     },
     "execution_count": 46,
     "metadata": {},
     "output_type": "execute_result"
    }
   ],
   "source": [
    "def fib(n):\n",
    "    if n ==0 or n == 1:\n",
    "        return 1\n",
    "    else:\n",
    "        return fib(n-1) + fib(n-2)\n",
    "\n",
    "fib(5)    "
   ]
  },
  {
   "cell_type": "code",
   "execution_count": 47,
   "metadata": {},
   "outputs": [
    {
     "data": {
      "text/plain": [
       "27"
      ]
     },
     "execution_count": 47,
     "metadata": {},
     "output_type": "execute_result"
    }
   ],
   "source": [
    "def power_recur(n,p):\n",
    "    if p == 0:\n",
    "        return 1\n",
    "    elif p == 1:\n",
    "        return n\n",
    "    else:\n",
    "        return n * power_recur(n,p-1)\n",
    "power_recur(3,3)    "
   ]
  },
  {
   "cell_type": "code",
   "execution_count": 48,
   "metadata": {},
   "outputs": [
    {
     "data": {
      "text/plain": [
       "210"
      ]
     },
     "execution_count": 48,
     "metadata": {},
     "output_type": "execute_result"
    }
   ],
   "source": [
    "def total_recur(L):\n",
    "    if len(L) == 1:\n",
    "        return L[0]\n",
    "    else:\n",
    "        return L[0] + total_recur(L[1:])\n",
    "L = [10,20,30,40,50,60]\n",
    "total_recur(L)"
   ]
  },
  {
   "cell_type": "code",
   "execution_count": 49,
   "metadata": {},
   "outputs": [
    {
     "data": {
      "text/plain": [
       "10"
      ]
     },
     "execution_count": 49,
     "metadata": {},
     "output_type": "execute_result"
    }
   ],
   "source": [
    "def len_recur(L):\n",
    "    if len(L) == 1:\n",
    "        return len(L[0])\n",
    "    else:\n",
    "        return len(L[0]) + len_recur(L[1:])\n",
    "    \n",
    "L = ['abc','jkl','mnio'] \n",
    "len_recur(L)   "
   ]
  },
  {
   "cell_type": "code",
   "execution_count": 50,
   "metadata": {},
   "outputs": [
    {
     "data": {
      "text/plain": [
       "True"
      ]
     },
     "execution_count": 50,
     "metadata": {},
     "output_type": "execute_result"
    }
   ],
   "source": [
    "def in_list_2(L,e):\n",
    "    if len(L) == 1:\n",
    "        return L[0] == e\n",
    "    else:\n",
    "        if L[0] == e:\n",
    "            return True\n",
    "        else:\n",
    "            return in_list_2(L[1:],e)\n",
    "A = [2,1,5,6,7,8]\n",
    "in_list_2(A,1)        "
   ]
  },
  {
   "cell_type": "code",
   "execution_count": 51,
   "metadata": {},
   "outputs": [
    {
     "data": {
      "text/plain": [
       "False"
      ]
     },
     "execution_count": 51,
     "metadata": {},
     "output_type": "execute_result"
    }
   ],
   "source": [
    "in_list_2(A,9)"
   ]
  },
  {
   "cell_type": "code",
   "execution_count": 52,
   "metadata": {},
   "outputs": [
    {
     "data": {
      "text/plain": [
       "[1, 2, 3, 4, 9, 8, 7]"
      ]
     },
     "execution_count": 52,
     "metadata": {},
     "output_type": "execute_result"
    }
   ],
   "source": [
    "def flatten_again(L):\n",
    "    if len(L) == 1:\n",
    "        return L[0]\n",
    "    else:\n",
    "        return L[0] + flatten_again(L[1:])\n",
    "flatten_again(L= [[1, 2],[3, 4],[9, 8, 7]])    \n",
    "    "
   ]
  },
  {
   "cell_type": "code",
   "execution_count": 53,
   "metadata": {},
   "outputs": [
    {
     "name": "stdout",
     "output_type": "stream",
     "text": [
      "True\n"
     ]
    }
   ],
   "source": [
    "def in_list_lists(L,e):\n",
    "    if len(L) == 1:\n",
    "        return e in L[0]\n",
    "    else:\n",
    "        if e in L[0]:\n",
    "            return True\n",
    "        else:\n",
    "            return in_list_lists(L[1:],e)\n",
    "        \n",
    "test = [[1,2], [3,4], [5,6,7]]\n",
    "print(in_list_lists(test, 7))        "
   ]
  },
  {
   "cell_type": "code",
   "execution_count": 54,
   "metadata": {},
   "outputs": [
    {
     "data": {
      "text/plain": [
       "[4, 3, 2, 1]"
      ]
     },
     "execution_count": 54,
     "metadata": {},
     "output_type": "execute_result"
    }
   ],
   "source": [
    "# reverse a list ,Top level only\n",
    "def rev_list_2(L):\n",
    "    if len(L) == 1:\n",
    "        return L\n",
    "    else:\n",
    "        return rev_list_2(L[1:]) + [L[0]]\n",
    "rev_list_2(L=[1,2,3,4])    "
   ]
  },
  {
   "cell_type": "code",
   "execution_count": 55,
   "metadata": {},
   "outputs": [
    {
     "data": {
      "text/plain": [
       "[[[4, 3, 2, 1], [[7, 6], [5, 4]]], 4, 3, [2, 1]]"
      ]
     },
     "execution_count": 55,
     "metadata": {},
     "output_type": "execute_result"
    }
   ],
   "source": [
    "#reverse a list in all levels\n",
    "def deep_rev(L):\n",
    "    if len(L) == 1:\n",
    "        if type(L[0]) != list:\n",
    "            return L\n",
    "        else:\n",
    "            return [deep_rev(L[0])]\n",
    "    else:\n",
    "        if type(L[0]) != list:\n",
    "            return deep_rev(L[1:]) + [L[0]]\n",
    "        else:\n",
    "            return deep_rev(L[1:]) + [deep_rev(L[0])] \n",
    "\n",
    "A = [[1,2],3,4,[[[4,5],[6,7]],[1,2,3,4]]]\n",
    "deep_rev(A)"
   ]
  },
  {
   "cell_type": "code",
   "execution_count": 56,
   "metadata": {},
   "outputs": [
    {
     "data": {
      "text/plain": [
       "[[[4, 3, 2, 1], [[7, 6], [5, 4]]], 4, 3, [2, 1]]"
      ]
     },
     "execution_count": 56,
     "metadata": {},
     "output_type": "execute_result"
    }
   ],
   "source": [
    "def deep_rev_mit(L):\n",
    "    if len(L) == 1:\n",
    "        if type(L[0]) != list:\n",
    "            return L\n",
    "        else:\n",
    "            return [deep_rev_mit(L[0])]\n",
    "    else:\n",
    "        if type(L[0]) != list:\n",
    "            return deep_rev_mit(L[1:]) + [L[0]]\n",
    "        else:\n",
    "            return deep_rev_mit(L[1:]) + [deep_rev_mit(L[0])]\n",
    "\n",
    "A = [[1,2],3,4,[[[4,5],[6,7]],[1,2,3,4]]]\n",
    "deep_rev_mit(A)        "
   ]
  },
  {
   "cell_type": "code",
   "execution_count": 57,
   "metadata": {},
   "outputs": [
    {
     "name": "stdout",
     "output_type": "stream",
     "text": [
      "[1, 4, 6, 2, 3, 2, 4, 5]\n"
     ]
    }
   ],
   "source": [
    "def deep_flatten(L):\n",
    "    result = []\n",
    "    for i in L:\n",
    "        if type(i) == list:\n",
    "            result.extend(deep_flatten(i))\n",
    "        else:\n",
    "            result.append(i)\n",
    "    return result        \n",
    "\n",
    "L = [[1,4,[6],2],[[[3]],2],4,5]\n",
    "print(deep_flatten(L)) # prints the list [1,4,6,2,3,2,4,5]"
   ]
  },
  {
   "cell_type": "code",
   "execution_count": 58,
   "metadata": {},
   "outputs": [
    {
     "name": "stdout",
     "output_type": "stream",
     "text": [
      "12\n",
      "30\n",
      "9\n"
     ]
    }
   ],
   "source": [
    "# Problem 1: Write a recursive program to calculate the sum of the positive \n",
    "# integers of n+(n-2)+(n-4)... (until and not including n-x =< 0)\n",
    "def sum_series(n):\n",
    "    if n == 1:\n",
    "        return 1\n",
    "    if n == 2:\n",
    "        return 2\n",
    "    else:\n",
    "        return n + sum_series(n-2)\n",
    "\n",
    "# testing\n",
    "print(sum_series(6))  # 12 \n",
    "print(sum_series(10))  # 30 \n",
    "print(sum_series(5))  # 9   "
   ]
  },
  {
   "cell_type": "code",
   "execution_count": 59,
   "metadata": {},
   "outputs": [
    {
     "data": {
      "text/plain": [
       "6"
      ]
     },
     "execution_count": 59,
     "metadata": {},
     "output_type": "execute_result"
    }
   ],
   "source": [
    "def gcd_1(a,b):\n",
    "    while b != 0:\n",
    "        (a,b) = (b,a%b)\n",
    "    return a \n",
    "gcd_1(48,18)   "
   ]
  },
  {
   "cell_type": "code",
   "execution_count": 60,
   "metadata": {},
   "outputs": [
    {
     "name": "stdout",
     "output_type": "stream",
     "text": [
      "1\n",
      "3\n",
      "12\n"
     ]
    }
   ],
   "source": [
    "# Extra - Problem 5: Write a recursive program to find the greatest common divisor (gcd) \n",
    "# of two integers. \n",
    "def gcd(a, b):\n",
    "    if b == 0:\n",
    "        return a\n",
    "    else:\n",
    "        return gcd(b,a%b)\n",
    "\n",
    "\n",
    "# testing   \n",
    "print(gcd(5, 4))  # 1 \n",
    "print(gcd(15, 12))  # 3\n",
    "print(gcd(12, 12))  # 12"
   ]
  },
  {
   "cell_type": "code",
   "execution_count": 61,
   "metadata": {},
   "outputs": [
    {
     "name": "stdout",
     "output_type": "stream",
     "text": [
      "True\n"
     ]
    }
   ],
   "source": [
    "def in_lists_of_lists_2(L,e):# deep in list_of_lists\n",
    "    if len(L) == 1:\n",
    "        if type(L[0]) != list:\n",
    "            return e in L\n",
    "        else:\n",
    "            return in_lists_of_lists_2(L[0],e)\n",
    "    else:\n",
    "        if type(L[0]) != list:\n",
    "            if L[0] == e:\n",
    "                return True\n",
    "\n",
    "            return in_lists_of_lists_2(L[1:],e) \n",
    "        else:\n",
    "            return in_lists_of_lists_2(L[1:],e) or in_lists_of_lists_2(L[0],e)\n",
    "\n",
    "test = [[1,2], [3,4], [5,[6,[7,8,[9,68,[97,45]]]]]]\n",
    "print(in_lists_of_lists_2(test, 45))  # prints True              "
   ]
  },
  {
   "cell_type": "code",
   "execution_count": 62,
   "metadata": {},
   "outputs": [
    {
     "name": "stdout",
     "output_type": "stream",
     "text": [
      "['abc', ['d'], ['e', ['f', 'g']]]\n",
      "['abc', ['d'], ['e', ['f', 'g']]]\n",
      "['abc', ['d'], ['e', [1, 'g']]]\n",
      "['abc', ['d'], ['e', ['f', 'g']]]\n"
     ]
    }
   ],
   "source": [
    "# Q3. \n",
    "def my_deepcopy(L):\n",
    "    \"\"\" \n",
    "    L is a list, containing lists or list of lists, etc.\n",
    "    Returns a new list with the same structure as L that \n",
    "    contains copies (recursively) of every sublist \n",
    "    \"\"\"\n",
    "    result = []\n",
    "    for i in L:\n",
    "        if type(i) == list:\n",
    "            result.extend([my_deepcopy(i)])\n",
    "        else:\n",
    "            result.append(i)\n",
    "    return result\n",
    "            \n",
    "\n",
    "myL = [\"abc\", ['d'], ['e', ['f', 'g']]]\n",
    "my_newL = my_deepcopy(myL)\n",
    "print(myL)\n",
    "print(my_newL)\n",
    "myL[2][1][0] = 1\n",
    "print(myL)      # should be ['abc', ['d'], ['e', [1, 'g']]]\n",
    "print(my_newL)  # should be ['abc', ['d'], ['e', ['f', 'g']]]"
   ]
  },
  {
   "cell_type": "code",
   "execution_count": 63,
   "metadata": {},
   "outputs": [
    {
     "name": "stdout",
     "output_type": "stream",
     "text": [
      "b\n"
     ]
    }
   ],
   "source": [
    "def f(L):\n",
    "    \"\"\" L is a non-empty list of lowercase letters.\n",
    "    Returns the letter earliest in the alphabet. \"\"\"\n",
    "    if len(L) == 1:\n",
    "        return L[0]\n",
    "    else:\n",
    "        if L[0] < f((L[1:])):# can be compared  using ASCII values which ranges from 97 to 123\n",
    "            return L[0]\n",
    "        else:\n",
    "            return f(L[1:])\n",
    "        \n",
    "print(f(['z',  'b', 'c', 'd']))  # should print 'a"
   ]
  },
  {
   "cell_type": "code",
   "execution_count": 64,
   "metadata": {},
   "outputs": [
    {
     "name": "stdout",
     "output_type": "stream",
     "text": [
      "0\n"
     ]
    }
   ],
   "source": [
    "L = ['a','b','c','d','e','f','g','h']\n",
    "print(L.index('a'))"
   ]
  },
  {
   "cell_type": "code",
   "execution_count": 65,
   "metadata": {},
   "outputs": [
    {
     "name": "stdout",
     "output_type": "stream",
     "text": [
      "3\n",
      "5\n"
     ]
    }
   ],
   "source": [
    "def g(L, e):\n",
    "    \"\"\" L is list of ints, e is an int\n",
    "    Returns a count of how many times e occurrs in L  \"\"\"\n",
    "    if len(L) == 0:\n",
    "        return 0\n",
    "    elif len(L) == 1:\n",
    "        if e == L[0]:\n",
    "            return 1\n",
    "        else:\n",
    "            return 0\n",
    "    else:\n",
    "        if L[0] == e:\n",
    "            return 1+g(L[1:], e)\n",
    "        else:\n",
    "            return g(L[1:],e)\n",
    "    \n",
    "print(g([1,2,3,1,1], 1))     # should print 3\n",
    "print(g([1,1,2,3,1,1,1], 1)) # should print 5"
   ]
  },
  {
   "cell_type": "code",
   "execution_count": 66,
   "metadata": {},
   "outputs": [
    {
     "name": "stdout",
     "output_type": "stream",
     "text": [
      "2\n",
      "4\n"
     ]
    }
   ],
   "source": [
    "\n",
    "def h(L, e):\n",
    "    \"\"\" L is list, e is an int\n",
    "    Returns a count of how many times e occurrs in L or \n",
    "    (recursively) any sublist of L\n",
    "    \"\"\"\n",
    "    if len(L) == 0:\n",
    "        return 0\n",
    "    else:\n",
    "        if type(L[0])==int:\n",
    "            if L[0] == e:\n",
    "                return 1 + h(L[1:], e)\n",
    "            else:\n",
    "                return h(L[1:], e)\n",
    "        else:\n",
    "            return h(L[0],e) + h(L[1:], e)\n",
    "    \n",
    "print(h([1,2,[3],1], 1))        # should print 2\n",
    "print(h([1,2,[3,1,[1,[1]]]], 1))  # should print 4\n"
   ]
  },
  {
   "cell_type": "code",
   "execution_count": 67,
   "metadata": {},
   "outputs": [
    {
     "name": "stdout",
     "output_type": "stream",
     "text": [
      "2\n",
      "4\n"
     ]
    }
   ],
   "source": [
    "def h(L, e): #mit solution\n",
    "    \"\"\" L is list, e is an int\n",
    "    Returns a count of how many times e occurrs in L or \n",
    "    (recursively) any sublist of L\n",
    "    \"\"\"\n",
    "    if len(L) == 0:\n",
    "        return 0\n",
    "    else:\n",
    "        if type(L[0])==int:\n",
    "            if L[0] == e:\n",
    "                return 1+h(L[1:], e) # type: ignore\n",
    "            else:\n",
    "                return h(L[1:], e)\n",
    "        elif type(L[0])== list:\n",
    "            if e in L[0]:\n",
    "                return h(L[0], e)+h(L[1:], e)\n",
    "            else:\n",
    "                return h(L[1:], e)\n",
    "    \n",
    "print(h([1,2,[3],1], 1))        # should print 2\n",
    "print(h([1,2,[3,1,[1,[1]]]], 1))  # should print 4"
   ]
  },
  {
   "cell_type": "code",
   "execution_count": 68,
   "metadata": {},
   "outputs": [
    {
     "name": "stdout",
     "output_type": "stream",
     "text": [
      "True\n",
      "True\n",
      "False\n",
      "True\n"
     ]
    }
   ],
   "source": [
    "#Palindrome_using recursion\n",
    "def is_palindrom(s):\n",
    "    \"\"\"s is a string with lower case letters\n",
    "    Returns True if s is a palindrome and false otherwise\n",
    "    Non letters and capitalization are ignored\"\"\"\n",
    "    def is_char(s):\n",
    "        s = s.lower()\n",
    "        letters = ''\n",
    "        for c in s:\n",
    "            if c in 'abcdefghijklmnopqrstuvwxyz':\n",
    "                letters += c\n",
    "        return letters\n",
    "    def is_pal(s):    \n",
    "        if len(s) == 0 or len(s) == 1:\n",
    "            return True\n",
    "        else:\n",
    "            return s[0] == s[-1] and is_pal(s[1:-1]) \n",
    "     \n",
    "    return is_pal(is_char(s)) \n",
    "  \n",
    "\n",
    "print(is_palindrom('pop'))          # Should print True\n",
    "print(is_palindrom('racecar'))      # Should print True\n",
    "print(is_palindrom('hello'))        # Should print False\n",
    "print(is_palindrom('A man, a plan, a canal, Panama'))  # Should print True      "
   ]
  },
  {
   "cell_type": "code",
   "execution_count": 70,
   "metadata": {},
   "outputs": [
    {
     "name": "stdout",
     "output_type": "stream",
     "text": [
      "the fibonacci of 0 is 1\n",
      "fib_3 called 1 times\n",
      "the fibonacci of 1 is 1\n",
      "fib_3 called 1 times\n",
      "the fibonacci of 2 is 2\n",
      "fib_3 called 3 times\n",
      "the fibonacci of 3 is 3\n",
      "fib_3 called 5 times\n",
      "the fibonacci of 4 is 5\n",
      "fib_3 called 9 times\n",
      "the fibonacci of 5 is 8\n",
      "fib_3 called 15 times\n"
     ]
    }
   ],
   "source": [
    "def fib_3(x):\n",
    "    global num_fib_calls\n",
    "    num_fib_calls += 1\n",
    "    if x == 0 or x == 1:\n",
    "        return 1\n",
    "    else:\n",
    "        return fib_3(x-1) + fib_3(x-2)\n",
    "    \n",
    "def test_fib(n):\n",
    "    for i in range(n+1):\n",
    "        global num_fib_calls\n",
    "        num_fib_calls = 0\n",
    "        print(f\"the fibonacci of {i} is {fib_3(i)}\")\n",
    "        print(f\"fib_3 called {num_fib_calls} times\")\n",
    "test_fib(5)\n",
    "        "
   ]
  },
  {
   "cell_type": "code",
   "execution_count": null,
   "metadata": {},
   "outputs": [],
   "source": []
  }
 ],
 "metadata": {
  "kernelspec": {
   "display_name": "islp",
   "language": "python",
   "name": "python3"
  },
  "language_info": {
   "codemirror_mode": {
    "name": "ipython",
    "version": 3
   },
   "file_extension": ".py",
   "mimetype": "text/x-python",
   "name": "python",
   "nbconvert_exporter": "python",
   "pygments_lexer": "ipython3",
   "version": "3.12.5"
  }
 },
 "nbformat": 4,
 "nbformat_minor": 2
}
